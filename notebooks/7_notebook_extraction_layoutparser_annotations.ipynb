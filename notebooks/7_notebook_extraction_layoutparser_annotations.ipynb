{
 "cells": [
  {
   "cell_type": "code",
   "execution_count": null,
   "id": "1adf3f87-85a0-49ce-bf4a-acf497bf769c",
   "metadata": {},
   "outputs": [],
   "source": [
    "!python -m pip install --user -r ../requirements.txt"
   ]
  },
  {
   "cell_type": "code",
   "execution_count": null,
   "id": "3db1ce41-323d-4b3e-9683-5b7ae7218df7",
   "metadata": {},
   "outputs": [],
   "source": [
    "!python -m pip install --user  opencv-python-headless"
   ]
  },
  {
   "cell_type": "code",
   "execution_count": null,
   "id": "e17f8b07-7947-4573-a01a-3c9fed191ff7",
   "metadata": {},
   "outputs": [],
   "source": [
    "!python -m pip install --user  opencv-python-headless\n",
    "!python -m pip install --user layoutparser # Install the base layoutparser library with\n",
    "!python -m pip install --user  \"layoutparser[layoutmodels]\" # Install DL layout model toolkit\n",
    "!python -m pip install --user \"layoutparser[ocr]\" # Install OCR toolkit"
   ]
  },
  {
   "cell_type": "code",
   "execution_count": null,
   "id": "f3b0b9a9-6897-4295-8552-3f7b08976c90",
   "metadata": {},
   "outputs": [],
   "source": [
    "!python -m pip install --user 'git+https://github.com/facebookresearch/detectron2.git'"
   ]
  },
  {
   "cell_type": "code",
   "execution_count": null,
   "id": "08d51276-7708-4669-97d4-08a78ad5b87f",
   "metadata": {},
   "outputs": [],
   "source": [
    "!sudo apt-get update"
   ]
  },
  {
   "cell_type": "code",
   "execution_count": null,
   "id": "03e710e2-8bfd-43db-a711-378919afb9d0",
   "metadata": {},
   "outputs": [],
   "source": [
    "!sudo apt install --yes libgl1 libgl1-mesa-glx libglib2.0-0"
   ]
  },
  {
   "cell_type": "code",
   "execution_count": null,
   "id": "74add530-2d14-4901-9c32-51948ad9290c",
   "metadata": {},
   "outputs": [],
   "source": [
    "#pip install -U 'git+https://github.com/nikhilweee/iopath'"
   ]
  },
  {
   "cell_type": "markdown",
   "id": "b81f625a-960b-4be1-a706-c3c6489ef1cb",
   "metadata": {},
   "source": [
    "* restart kernel here"
   ]
  },
  {
   "cell_type": "code",
   "execution_count": null,
   "id": "9d460c6f-ec84-4504-b1fb-0b24a3b48996",
   "metadata": {},
   "outputs": [],
   "source": [
    "!pip install \"Pillow<=9.5.0\""
   ]
  },
  {
   "cell_type": "code",
   "execution_count": null,
   "id": "24835eee-696e-41b8-9d39-1f01d6be3bc6",
   "metadata": {},
   "outputs": [],
   "source": [
    "import layoutparser as lp\n",
    "import cv2\n",
    "import numpy as np\n",
    "import pdf2image\n",
    "import os\n",
    "from PIL import Image\n",
    "import json"
   ]
  },
  {
   "cell_type": "code",
   "execution_count": null,
   "id": "c039ab71-a722-488b-a91b-0448327fa5e1",
   "metadata": {},
   "outputs": [],
   "source": [
    "PATH_OF_IMAGES=\"./images/\"\n",
    "TESSERACT_LANGUAGE=\"fra\"\n",
    "SHOW_IMAGE=True\n",
    "PRINT_DETECTED_TITLE=False"
   ]
  },
  {
   "cell_type": "code",
   "execution_count": null,
   "id": "4106842f-5e2f-4f29-b37d-742206c073b8",
   "metadata": {},
   "outputs": [],
   "source": [
    "model = lp.models.Detectron2LayoutModel(\n",
    "    config_path =\"../config.yaml\",\n",
    "    model_path =\"../model_final.pth\",\n",
    "    extra_config=[\"MODEL.ROI_HEADS.SCORE_THRESH_TEST\", 0.5],\n",
    "    label_map={0: \"Text\", 1: \"Title\", 2: \"List\", 3: \"Table\", 4: \"Figure\"},\n",
    ")"
   ]
  },
  {
   "cell_type": "code",
   "execution_count": null,
   "id": "87fee9b9-6988-4660-8866-082adfd713fa",
   "metadata": {},
   "outputs": [],
   "source": [
    "list_of_json=list()\n",
    "for file in os.listdir(PATH_OF_IMAGES):\n",
    "    if file.endswith(\".jpg\"):\n",
    "        jpg_file=f\"{PATH_OF_IMAGES}/{file}\"\n",
    "        img=Image.open(jpg_file)\n",
    "        one_image_np = np.asarray(img)\n",
    "        layout = model.detect(one_image_np)\n",
    "        image_width, image_height= img.size\n",
    "        list_of_results=[]\n",
    "        for i,block in enumerate(layout.to_dict()[\"blocks\"]):\n",
    "            block_dict=dict()\n",
    "            block_dict[\"id\"]=\"result\"+str(i)\n",
    "            block_dict[\"type\"]=\"rectanglelabels\"\n",
    "            block_dict[\"from_name\"]=\"label\"\n",
    "            block_dict[\"to_name\"]=\"image\"\n",
    "            block_dict[\"original_width\"]=image_width\n",
    "            block_dict[\"original_height\"]=image_height\n",
    "            block_dict[\"image_rotation\"]=0\n",
    "            values_dict=dict()\n",
    "            values_dict[\"rotation\"]=0\n",
    "            values_dict[\"x\"]=block[\"x_1\"]*100/image_width\n",
    "            values_dict[\"y\"]=block[\"y_1\"]*100/image_height\n",
    "            width=(abs(block[\"x_1\"]-block[\"x_2\"]))*100/image_width\n",
    "            height=(abs(block[\"y_1\"]-block[\"y_2\"]))*100/image_height\n",
    "            values_dict[\"width\"]=width\n",
    "            values_dict[\"height\"]=height\n",
    "            values_dict[\"rectanglelabels\"]=[block[\"type\"]]\n",
    "            block_dict[\"value\"]=values_dict\n",
    "            list_of_results.append(block_dict)\n",
    "        dict_one_prediction=dict()\n",
    "        dict_one_prediction[\"model_version\"]=\"one\"\n",
    "        dict_one_prediction[\"score\"]=0.5\n",
    "        dict_one_prediction[\"result\"]=list_of_results\n",
    "        dict_data_prediction=dict()\n",
    "        dict_data=dict()\n",
    "        dict_data[\"image\"]=\"s3://cthiounn2/stage_dares/\"+jpg_file\n",
    "        dict_data_prediction[\"data\"]=dict_data\n",
    "        dict_data_prediction[\"predictions\"]=[dict_one_prediction]\n",
    "        data_json=json.dumps(dict_data_prediction)\n",
    "        list_of_json.append(data_json)\n",
    "        with open(f\"json/{file}\".replace(\".jpg\",\".json\"),\"w\") as file_to_write:\n",
    "            file_to_write.write(data_json)\n",
    "with open(\"mega_json.json\",\"w\") as file_to_write:\n",
    "        file_to_write.write(\"[\")\n",
    "        file_to_write.write(\",\".join(list_of_json))\n",
    "        file_to_write.write(\"]\")"
   ]
  },
  {
   "cell_type": "code",
   "execution_count": null,
   "id": "f0b998f5-60a5-4131-b03b-aa0327237850",
   "metadata": {},
   "outputs": [],
   "source": [
    "lp.draw_box(one_image_np, layout, box_width=3, show_element_type=True).show()"
   ]
  }
 ],
 "metadata": {
  "kernelspec": {
   "display_name": "Python 3 (ipykernel)",
   "language": "python",
   "name": "python3"
  },
  "language_info": {
   "codemirror_mode": {
    "name": "ipython",
    "version": 3
   },
   "file_extension": ".py",
   "mimetype": "text/x-python",
   "name": "python",
   "nbconvert_exporter": "python",
   "pygments_lexer": "ipython3",
   "version": "3.11.4"
  }
 },
 "nbformat": 4,
 "nbformat_minor": 5
}
