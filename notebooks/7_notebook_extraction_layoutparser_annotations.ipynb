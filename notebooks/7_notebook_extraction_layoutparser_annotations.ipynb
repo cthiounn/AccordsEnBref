{
 "cells": [
  {
   "cell_type": "code",
   "execution_count": null,
   "id": "1adf3f87-85a0-49ce-bf4a-acf497bf769c",
   "metadata": {},
   "outputs": [],
   "source": [
    "!python -m pip install --user -r ../requirements.txt"
   ]
  },
  {
   "cell_type": "code",
   "execution_count": null,
   "id": "3db1ce41-323d-4b3e-9683-5b7ae7218df7",
   "metadata": {},
   "outputs": [],
   "source": [
    "!python -m pip install --user  opencv-python-headless"
   ]
  },
  {
   "cell_type": "code",
   "execution_count": null,
   "id": "e17f8b07-7947-4573-a01a-3c9fed191ff7",
   "metadata": {},
   "outputs": [],
   "source": [
    "!python -m pip install --user layoutparser # Install the base layoutparser library with\n",
    "!python -m pip install --user  \"layoutparser[layoutmodels]\" # Install DL layout model toolkit\n",
    "!python -m pip install --user \"layoutparser[ocr]\" # Install OCR toolkit"
   ]
  },
  {
   "cell_type": "code",
   "execution_count": null,
   "id": "f3b0b9a9-6897-4295-8552-3f7b08976c90",
   "metadata": {},
   "outputs": [],
   "source": [
    "!python -m pip install --user 'git+https://github.com/facebookresearch/detectron2.git'"
   ]
  },
  {
   "cell_type": "code",
   "execution_count": null,
   "id": "03e710e2-8bfd-43db-a711-378919afb9d0",
   "metadata": {},
   "outputs": [],
   "source": [
    "!sudo apt install --yes libgl1-mesa-glx"
   ]
  },
  {
   "cell_type": "code",
   "execution_count": null,
   "id": "74add530-2d14-4901-9c32-51948ad9290c",
   "metadata": {},
   "outputs": [],
   "source": [
    "#pip install -U 'git+https://github.com/nikhilweee/iopath'"
   ]
  },
  {
   "cell_type": "markdown",
   "id": "b81f625a-960b-4be1-a706-c3c6489ef1cb",
   "metadata": {},
   "source": [
    "* restart kernel here"
   ]
  },
  {
   "cell_type": "code",
   "execution_count": null,
   "id": "9d460c6f-ec84-4504-b1fb-0b24a3b48996",
   "metadata": {},
   "outputs": [],
   "source": [
    "!pip install \"Pillow<=9.5.0\""
   ]
  },
  {
   "cell_type": "code",
   "execution_count": null,
   "id": "24835eee-696e-41b8-9d39-1f01d6be3bc6",
   "metadata": {},
   "outputs": [],
   "source": [
    "import layoutparser as lp\n",
    "import cv2\n",
    "import numpy as np\n",
    "import pdf2image\n",
    "import os\n",
    "from PIL import Image"
   ]
  },
  {
   "cell_type": "code",
   "execution_count": null,
   "id": "c039ab71-a722-488b-a91b-0448327fa5e1",
   "metadata": {},
   "outputs": [],
   "source": [
    "PATH_OF_IMAGES=\"./\"\n",
    "TESSERACT_LANGUAGE=\"fra\"\n",
    "SHOW_IMAGE=True\n",
    "PRINT_DETECTED_TITLE=False"
   ]
  },
  {
   "cell_type": "code",
   "execution_count": null,
   "id": "4106842f-5e2f-4f29-b37d-742206c073b8",
   "metadata": {},
   "outputs": [],
   "source": [
    "model = lp.models.Detectron2LayoutModel(\n",
    "    config_path =\"../config.yaml\",\n",
    "    model_path =\"../model_final.pth\",\n",
    "    extra_config=[\"MODEL.ROI_HEADS.SCORE_THRESH_TEST\", 0.5],\n",
    "    label_map={0: \"Text\", 1: \"Title\", 2: \"List\", 3: \"Table\", 4: \"Figure\"},\n",
    ")"
   ]
  },
  {
   "cell_type": "code",
   "execution_count": null,
   "id": "023960cc-06d7-444f-af96-f3993b0a692a",
   "metadata": {},
   "outputs": [],
   "source": [
    "jpg_file=\"T01722003463-10.jpg\""
   ]
  },
  {
   "cell_type": "code",
   "execution_count": null,
   "id": "87fee9b9-6988-4660-8866-082adfd713fa",
   "metadata": {},
   "outputs": [],
   "source": [
    "img=Image.open(jpg_file)\n",
    "one_image_np = np.asarray(img)\n",
    "layout = model.detect(one_image_np)"
   ]
  },
  {
   "cell_type": "code",
   "execution_count": null,
   "id": "a4051247-b225-42fe-9399-39ad2a03efb3",
   "metadata": {},
   "outputs": [],
   "source": [
    "layout.to_dict()"
   ]
  },
  {
   "cell_type": "code",
   "execution_count": null,
   "id": "f0b998f5-60a5-4131-b03b-aa0327237850",
   "metadata": {},
   "outputs": [],
   "source": [
    "lp.draw_box(one_image_np, layout, box_width=3, show_element_type=True).show()"
   ]
  }
 ],
 "metadata": {
  "kernelspec": {
   "display_name": "Python 3 (ipykernel)",
   "language": "python",
   "name": "python3"
  },
  "language_info": {
   "codemirror_mode": {
    "name": "ipython",
    "version": 3
   },
   "file_extension": ".py",
   "mimetype": "text/x-python",
   "name": "python",
   "nbconvert_exporter": "python",
   "pygments_lexer": "ipython3",
   "version": "3.10.9"
  }
 },
 "nbformat": 4,
 "nbformat_minor": 5
}
