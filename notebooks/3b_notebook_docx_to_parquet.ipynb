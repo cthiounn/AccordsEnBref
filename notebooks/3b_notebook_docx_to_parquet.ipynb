{
 "cells": [
  {
   "cell_type": "code",
   "execution_count": null,
   "id": "d17e20e2",
   "metadata": {},
   "outputs": [],
   "source": [
    "!python -m pip install --user pyarrow"
   ]
  },
  {
   "cell_type": "code",
   "execution_count": null,
   "id": "62ac6541-6b4c-4761-9748-f4521203cc3c",
   "metadata": {},
   "outputs": [],
   "source": [
    "!python -m pip install --user -r ../requirements.txt"
   ]
  },
  {
   "cell_type": "code",
   "execution_count": null,
   "id": "400621f7-99b9-41c4-85a2-21f6d28b87db",
   "metadata": {},
   "outputs": [],
   "source": [
    "!curl \"https://echanges.dila.gouv.fr/OPENDATA/ACCO/Freemium_acco_global_20220417-170000.tar.gz\" -o \"accords.tar.gz\""
   ]
  },
  {
   "cell_type": "code",
   "execution_count": null,
   "id": "9a09589e-eda7-4518-a7d2-ed007b8ea835",
   "metadata": {},
   "outputs": [],
   "source": [
    "!tar -xzvf \"accords.tar.gz\""
   ]
  },
  {
   "cell_type": "code",
   "execution_count": null,
   "id": "0eeb897c-6796-48d6-ad2c-01a376d087b2",
   "metadata": {},
   "outputs": [],
   "source": [
    "!mkdir accords "
   ]
  },
  {
   "cell_type": "code",
   "execution_count": null,
   "id": "0d34cb3e-2533-4dfb-9b88-d4ce212cdc77",
   "metadata": {},
   "outputs": [],
   "source": [
    "!find acco -name '*.docx' -exec mv {} accords \\;  "
   ]
  },
  {
   "cell_type": "code",
   "execution_count": null,
   "id": "a1fd14a9",
   "metadata": {},
   "outputs": [],
   "source": [
    "import pandas as pd\n",
    "import docx\n",
    "import os"
   ]
  },
  {
   "cell_type": "code",
   "execution_count": null,
   "id": "3e79cc36",
   "metadata": {},
   "outputs": [],
   "source": [
    "DIR_DOCX = \"accords\\\"\n",
    "OUTPUT_FILE_PARQUET = \"my_file.parquet\""
   ]
  },
  {
   "cell_type": "code",
   "execution_count": null,
   "id": "1fc2401b",
   "metadata": {},
   "outputs": [],
   "source": [
    "df = pd.DataFrame(columns=[\"num_dossier\", \"accorddocx\"],dtype=object)\n",
    "\n",
    "for i, num_dossier in enumerate(\n",
    "    {file_name[:12] for file_name in os.listdir(DIR_DOCX) if file_name.endswith(\".docx\")}\n",
    "):\n",
    "    all_docx_files_for_num_dossier = sorted(\n",
    "        [\n",
    "            DIR_DOCX+file_name\n",
    "            for file_name in os.listdir(DIR_DOCX)\n",
    "            if file_name.endswith(\".docx\") and file_name.startswith(num_dossier)\n",
    "        ],\n",
    "        key=os.path.getsize,\n",
    "        reverse=True,\n",
    "    )\n",
    "\n",
    "    new_line = [num_dossier] + [\n",
    "        \"\".join(open(file, \"r\").readlines()) for file in all_docx_files_for_num_dossier\n",
    "    ]\n",
    "    new_line = new_line[:2] if len(new_line) >= 2 else new_line + [\"\"]\n",
    "    try:\n",
    "        new_line = {\n",
    "            \"num_dossier\": new_line[0],\n",
    "            \"accorddocx\": new_line[1],\n",
    "            \"index\" : [i]\n",
    "        }\n",
    "    except:\n",
    "        print(f\"bug {num_dossier}\")\n",
    "        \n",
    "    \n",
    "    df_new_row = pd.DataFrame.from_records(data=new_line)\n",
    "    df = pd.concat([df, df_new_row])"
   ]
  },
  {
   "cell_type": "code",
   "execution_count": null,
   "id": "15696877",
   "metadata": {},
   "outputs": [],
   "source": [
    "df.to_parquet(OUTPUT_FILE_PARQUET)"
   ]
  }
 ],
 "metadata": {
  "kernelspec": {
   "display_name": "Python 3 (ipykernel)",
   "language": "python",
   "name": "python3"
  },
  "language_info": {
   "codemirror_mode": {
    "name": "ipython",
    "version": 3
   },
   "file_extension": ".py",
   "mimetype": "text/x-python",
   "name": "python",
   "nbconvert_exporter": "python",
   "pygments_lexer": "ipython3",
   "version": "3.10.9"
  }
 },
 "nbformat": 4,
 "nbformat_minor": 5
}
