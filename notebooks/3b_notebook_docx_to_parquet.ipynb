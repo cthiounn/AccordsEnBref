{
 "cells": [
  {
   "cell_type": "code",
   "execution_count": null,
   "id": "d17e20e2",
   "metadata": {},
   "outputs": [],
   "source": [
    "!pip install --user pyarrow"
   ]
  },
  {
   "cell_type": "code",
   "execution_count": null,
   "id": "a1fd14a9",
   "metadata": {},
   "outputs": [],
   "source": [
    "import pandas as pd\n",
    "import os"
   ]
  },
  {
   "cell_type": "code",
   "execution_count": null,
   "id": "3e79cc36",
   "metadata": {},
   "outputs": [],
   "source": [
    "DIR_OCR = \"C:\\\\Users\\\\conrad.thiounn\\\\Desktop\\\\ocr\\\\\"\n",
    "OUTPUT_FILE_PARQUET = \"my_file.parquet\""
   ]
  },
  {
   "cell_type": "code",
   "execution_count": null,
   "id": "1fc2401b",
   "metadata": {},
   "outputs": [],
   "source": [
    "df = pd.DataFrame(columns=[\"num_dossier\", \"ocr_text_1\", \"ocr_text_2\"],dtype=object)\n",
    "\n",
    "for i, num_dossier in enumerate(\n",
    "    {file_name[:12] for file_name in os.listdir(DIR_OCR) if file_name.endswith(\".txt\")}\n",
    "):\n",
    "    all_ocr_files_for_num_dossier = sorted(\n",
    "        [\n",
    "            DIR_OCR+file_name\n",
    "            for file_name in os.listdir(DIR_OCR)\n",
    "            if file_name.endswith(\".txt\") and file_name.startswith(num_dossier)\n",
    "        ],\n",
    "        key=os.path.getsize,\n",
    "        reverse=True,\n",
    "    )\n",
    "\n",
    "    new_line = [num_dossier] + [\n",
    "        \"\".join(open(file, \"r\").readlines()) for file in all_ocr_files_for_num_dossier\n",
    "    ]\n",
    "    new_line = new_line[:3] if len(new_line) >= 3 else new_line + [\"\"]\n",
    "    try:\n",
    "        new_line = {\n",
    "            \"num_dossier\": new_line[0],\n",
    "            \"ocr_text_1\": new_line[1],\n",
    "            \"ocr_text_2\": new_line[2],\n",
    "            \"index\" : [i]\n",
    "        }\n",
    "    except:\n",
    "        print(f\"bug {num_dossier}\")\n",
    "        \n",
    "    \n",
    "    df_new_row = pd.DataFrame.from_records(data=new_line)\n",
    "    df = pd.concat([df, df_new_row])"
   ]
  },
  {
   "cell_type": "code",
   "execution_count": null,
   "id": "15696877",
   "metadata": {},
   "outputs": [],
   "source": [
    "df.to_parquet(OUTPUT_FILE_PARQUET)"
   ]
  }
 ],
 "metadata": {
  "kernelspec": {
   "display_name": "Python 3",
   "language": "python",
   "name": "python3"
  },
  "language_info": {
   "codemirror_mode": {
    "name": "ipython",
    "version": 3
   },
   "file_extension": ".py",
   "mimetype": "text/x-python",
   "name": "python",
   "nbconvert_exporter": "python",
   "pygments_lexer": "ipython3",
   "version": "3.7.0"
  }
 },
 "nbformat": 4,
 "nbformat_minor": 5
}
