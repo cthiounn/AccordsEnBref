{
 "cells": [
  {
   "cell_type": "code",
   "execution_count": null,
   "id": "cd78cfec-12d6-4676-aba3-a41af0fcb5ef",
   "metadata": {},
   "outputs": [],
   "source": [
    "!python -m pip install --user -r ../requirements.txt"
   ]
  },
  {
   "cell_type": "code",
   "execution_count": null,
   "id": "0b77a394-506c-4fb8-bca1-85a66bc94a82",
   "metadata": {},
   "outputs": [],
   "source": [
    "!pip install pyarrow"
   ]
  },
  {
   "cell_type": "code",
   "execution_count": null,
   "id": "f69f89f5-d033-4c08-b5f0-ac1ea993c322",
   "metadata": {},
   "outputs": [],
   "source": [
    "!curl \"https://echanges.dila.gouv.fr/OPENDATA/ACCO/\" | grep \"<a\" | grep \"tar.gz\" | cut -d\">\" -f3 | cut -d\"<\" -f1 | grep \"ACCO\" | sed -e \"s/^/https:\\/\\/echanges.dila.gouv.fr\\/OPENDATA\\/ACCO\\//g\" | xargs -n 1 curl -O "
   ]
  },
  {
   "cell_type": "code",
   "execution_count": null,
   "id": "e2b679a3-92d6-4d6b-98f5-a7b245d34d43",
   "metadata": {},
   "outputs": [],
   "source": [
    "!ls  | grep \"ACCO\"   | xargs -n 1 tar -xzvf "
   ]
  },
  {
   "cell_type": "code",
   "execution_count": null,
   "id": "dfb6345f-0ffc-44be-8af5-2a78e63afddc",
   "metadata": {},
   "outputs": [],
   "source": [
    "!curl \"https://echanges.dila.gouv.fr/OPENDATA/ACCO/Freemium_acco_global_20220417-170000.tar.gz\" -o \"accords.tar.gz\""
   ]
  },
  {
   "cell_type": "code",
   "execution_count": null,
   "id": "8a97e927-b816-46cc-93da-48d7406a3932",
   "metadata": {},
   "outputs": [],
   "source": [
    "!tar -xzvf \"accords.tar.gz\""
   ]
  },
  {
   "cell_type": "code",
   "execution_count": null,
   "id": "8e60bbc0-4b3c-4d70-8992-d0db68589f53",
   "metadata": {},
   "outputs": [],
   "source": [
    "!mkdir accords "
   ]
  },
  {
   "cell_type": "code",
   "execution_count": null,
   "id": "6ec9635d-80ea-49a9-8379-4b347f3b3f89",
   "metadata": {},
   "outputs": [],
   "source": [
    "!find acco -name '*.docx' -exec mv {} accords \\;  "
   ]
  },
  {
   "cell_type": "code",
   "execution_count": null,
   "id": "4f6b6f97-ccc9-402b-92ce-f8efd46d994d",
   "metadata": {},
   "outputs": [],
   "source": [
    "import pandas as pd\n",
    "import docx\n",
    "import os"
   ]
  },
  {
   "cell_type": "code",
   "execution_count": null,
   "id": "96f2f9a3-70d2-4291-a115-9dc6c4d0713e",
   "metadata": {},
   "outputs": [],
   "source": [
    "DIR_DOCX = \"./accords/\"\n",
    "OUTPUT_FILE_PARQUET = \"Dares_accords_docx_sommaire.parquet\""
   ]
  },
  {
   "cell_type": "code",
   "execution_count": null,
   "id": "2966b664-b898-48c4-81ad-85f9bc27e6fe",
   "metadata": {},
   "outputs": [],
   "source": [
    "def read_txt_from_docx(filename: str) -> str:\n",
    "    fullText = []\n",
    "    try:\n",
    "        doc = docx.Document(filename)\n",
    "        for para in doc.paragraphs:\n",
    "            for run in para.runs:\n",
    "                if run.font.bold:\n",
    "                    fullText.append(run.text)\n",
    "\n",
    "    except:\n",
    "        print(f\"bug docx {filename}\")\n",
    "    return \"\\n\".join(fullText)"
   ]
  },
  {
   "cell_type": "code",
   "execution_count": null,
   "id": "c0ef1c54-c344-4c97-814b-631629e22784",
   "metadata": {},
   "outputs": [],
   "source": [
    "df = pd.DataFrame(columns=[\"num_dossier\", \"accorddocxsommaire\"],dtype=object)\n",
    "\n",
    "for i, num_dossier in enumerate(\n",
    "    {file_name[:12] for file_name in os.listdir(DIR_DOCX) if file_name.endswith(\".docx\")}\n",
    "):\n",
    "    all_docx_files_for_num_dossier = sorted(\n",
    "        [\n",
    "            DIR_DOCX+file_name\n",
    "            for file_name in os.listdir(DIR_DOCX)\n",
    "            if file_name.endswith(\".docx\") and file_name.startswith(num_dossier)\n",
    "        ],\n",
    "        key=os.path.getsize,\n",
    "        reverse=True,\n",
    "    )\n",
    "\n",
    "    new_line = [num_dossier] + [\n",
    "        read_txt_from_docx(file) for file in all_docx_files_for_num_dossier\n",
    "    ]\n",
    "    new_line = new_line[:2] if len(new_line) >= 2 else new_line + [\"\"]\n",
    "    try:\n",
    "        new_line = {\n",
    "            \"num_dossier\": new_line[0],\n",
    "            \"accorddocxsommaire\": new_line[1],\n",
    "            \"index\" : [i]\n",
    "        }\n",
    "    except:\n",
    "        print(f\"bug {num_dossier}\")\n",
    "        \n",
    "    \n",
    "    df_new_row = pd.DataFrame.from_records(data=new_line)\n",
    "    df = pd.concat([df, df_new_row])"
   ]
  },
  {
   "cell_type": "code",
   "execution_count": null,
   "id": "b8dc9c9e-afa7-4d1a-90b4-838fd99867f1",
   "metadata": {},
   "outputs": [],
   "source": [
    "df.to_parquet(OUTPUT_FILE_PARQUET)"
   ]
  }
 ],
 "metadata": {
  "kernelspec": {
   "display_name": "Python 3 (ipykernel)",
   "language": "python",
   "name": "python3"
  },
  "language_info": {
   "codemirror_mode": {
    "name": "ipython",
    "version": 3
   },
   "file_extension": ".py",
   "mimetype": "text/x-python",
   "name": "python",
   "nbconvert_exporter": "python",
   "pygments_lexer": "ipython3",
   "version": "3.10.9"
  }
 },
 "nbformat": 4,
 "nbformat_minor": 5
}
