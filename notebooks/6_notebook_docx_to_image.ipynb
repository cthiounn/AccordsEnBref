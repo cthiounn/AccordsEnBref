{
 "cells": [
  {
   "cell_type": "code",
   "execution_count": null,
   "id": "4a17b0bd-cc35-42f5-9717-c41b1527944d",
   "metadata": {},
   "outputs": [],
   "source": [
    "#!python -m pip install --user -r ../requirements.txt"
   ]
  },
  {
   "cell_type": "code",
   "execution_count": null,
   "id": "b3f93ffa-df02-4447-bafc-a53a0d8aa416",
   "metadata": {},
   "outputs": [],
   "source": [
    "!python -m pip install --user docx2pdf pdf2image"
   ]
  },
  {
   "cell_type": "code",
   "execution_count": null,
   "id": "05aaf849-a613-4c1e-9a80-d64ee0b4eeaa",
   "metadata": {},
   "outputs": [],
   "source": [
    "SAVE_ONE_STACKED_JPEG_FILE=True"
   ]
  },
  {
   "cell_type": "code",
   "execution_count": null,
   "id": "fe667446-f72f-40da-9ca6-cce83fdf4bde",
   "metadata": {},
   "outputs": [],
   "source": [
    "PATH_TO_DOCX=\"./\""
   ]
  },
  {
   "cell_type": "code",
   "execution_count": null,
   "id": "602a2e7d-ec30-40f4-9f9c-749b2276392c",
   "metadata": {},
   "outputs": [],
   "source": [
    "# Windows Only section\n",
    "from docx2pdf import convert\n",
    "import os\n",
    "\n",
    "for file in os.listdir(PATH_TO_DOCX):\n",
    "    try:\n",
    "        convert(file)\n",
    "    except:\n",
    "        print(f\"bug with {file}\")"
   ]
  },
  {
   "cell_type": "code",
   "execution_count": null,
   "id": "7ab07226-0a5f-43ea-bc64-4e6430d1470f",
   "metadata": {},
   "outputs": [],
   "source": [
    "import pdf2image\n",
    "\n",
    "\n",
    "import os\n",
    "\n",
    "if \"OS\" in os.environ.keys() and \"WINDOWS\" in os.environ[\"OS\"].upper():\n",
    "    OS=\"WINDOWS\"\n",
    "\n",
    "    POPPLER_PATH = r\"C:\\Users\\conrad.thiounn\\Desktop\\poppler-23.01.0\\Library\\bin\"\n",
    "else:\n",
    "    OS=\"UNIX\"\n",
    "\n",
    "    POPPLER_PATH = r\"/usr/share/poppler\""
   ]
  },
  {
   "cell_type": "code",
   "execution_count": null,
   "id": "e38176c8-50a5-478e-9d8b-b832f761df25",
   "metadata": {},
   "outputs": [],
   "source": [
    "#https://gist.github.com/willprice/fd917d2cafe56732137e60154d456688\n",
    "\n",
    "from PIL import Image\n",
    "import numpy as np\n",
    "\n",
    "def vstack(images):\n",
    "    if len(images) == 0:\n",
    "        raise ValueError(\"Need 0 or more images\")\n",
    "\n",
    "    if isinstance(images[0], np.ndarray):\n",
    "        images = [Image.fromarray(img) for img in images]\n",
    "    width = max([img.size[0] for img in images])\n",
    "    height = sum([img.size[1] for img in images])\n",
    "    stacked = Image.new(images[0].mode, (width, height))\n",
    "\n",
    "    y_pos = 0\n",
    "    for img in images:\n",
    "        stacked.paste(img, (0, y_pos))\n",
    "        y_pos += img.size[1]\n",
    "    return stacked"
   ]
  },
  {
   "cell_type": "code",
   "execution_count": null,
   "id": "13570b3e-af1a-4376-827f-dcd0241d8d6c",
   "metadata": {},
   "outputs": [],
   "source": [
    "for file in os.listdir(PATH_TO_DOCX):\n",
    "    if file.endswith(\".pdf\"):\n",
    "        try:\n",
    "            if SAVE_ONE_STACKED_JPEG_FILE:\n",
    "                vstack(pdf2image.convert_from_path(pdf_path=file,thread_count=os.cpu_count())).save(file.replace(\".pdf\",\".jpeg\"))\n",
    "            else:\n",
    "                pdf2image.convert_from_path(pdf_path=file,output_folder=PATH_TO_DOCX,thread_count=os.cpu_count(),output_file=file.replace(\".pdf\",\"\"),fmt=\"jpeg\")\n",
    "        except:\n",
    "            print(f\"bug with {file}\")"
   ]
  }
 ],
 "metadata": {
  "kernelspec": {
   "display_name": "Python 3 (ipykernel)",
   "language": "python",
   "name": "python3"
  },
  "language_info": {
   "codemirror_mode": {
    "name": "ipython",
    "version": 3
   },
   "file_extension": ".py",
   "mimetype": "text/x-python",
   "name": "python",
   "nbconvert_exporter": "python",
   "pygments_lexer": "ipython3",
   "version": "3.10.9"
  }
 },
 "nbformat": 4,
 "nbformat_minor": 5
}
