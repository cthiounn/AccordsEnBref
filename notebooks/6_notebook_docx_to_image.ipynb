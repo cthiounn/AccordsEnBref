{
 "cells": [
  {
   "cell_type": "code",
   "execution_count": null,
   "id": "4a17b0bd-cc35-42f5-9717-c41b1527944d",
   "metadata": {},
   "outputs": [],
   "source": [
    "#!python -m pip install --user -r ../requirements.txt"
   ]
  },
  {
   "cell_type": "code",
   "execution_count": null,
   "id": "b3f93ffa-df02-4447-bafc-a53a0d8aa416",
   "metadata": {},
   "outputs": [],
   "source": [
    "!python -m pip install --user docx2pdf pdf2image"
   ]
  },
  {
   "cell_type": "code",
   "execution_count": null,
   "id": "fe667446-f72f-40da-9ca6-cce83fdf4bde",
   "metadata": {},
   "outputs": [],
   "source": [
    "PATH_TO_DOCX=\"./\""
   ]
  },
  {
   "cell_type": "code",
   "execution_count": null,
   "id": "602a2e7d-ec30-40f4-9f9c-749b2276392c",
   "metadata": {},
   "outputs": [],
   "source": [
    "# Windows Only section\n",
    "from docx2pdf import convert\n",
    "import os\n",
    "\n",
    "for file in os.listdir(PATH_TO_DOCX):\n",
    "    try:\n",
    "        convert(file)\n",
    "    except:\n",
    "        print(f\"bug with {file}\")"
   ]
  },
  {
   "cell_type": "code",
   "execution_count": null,
   "id": "7ab07226-0a5f-43ea-bc64-4e6430d1470f",
   "metadata": {},
   "outputs": [],
   "source": [
    "import pdf2image\n",
    "\n",
    "\n",
    "import os\n",
    "\n",
    "if \"OS\" in os.environ.keys() and \"WINDOWS\" in os.environ[\"OS\"].upper():\n",
    "    OS=\"WINDOWS\"\n",
    "\n",
    "    POPPLER_PATH = r\"C:\\Users\\conrad.thiounn\\Desktop\\poppler-23.01.0\\Library\\bin\"\n",
    "else:\n",
    "    OS=\"UNIX\"\n",
    "\n",
    "    POPPLER_PATH = r\"/usr/share/poppler\""
   ]
  },
  {
   "cell_type": "code",
   "execution_count": null,
   "id": "701b43d5-a5c0-4558-a95b-5a5ea54de3b7",
   "metadata": {},
   "outputs": [],
   "source": [
    "for file in os.listdir(PATH_TO_DOCX):\n",
    "    if file.endswith(\".pdf\"):\n",
    "        try:\n",
    "            pdf2image.convert_from_path(pdf_path=file,output_folder=PATH_TO_DOCX,thread_count=os.cpu_count(),output_file=file.replace(\".pdf\",\"\"),fmt=\"jpeg\")\n",
    "        except:\n",
    "            print(f\"bug with {file}\")"
   ]
  }
 ],
 "metadata": {
  "kernelspec": {
   "display_name": "Python 3 (ipykernel)",
   "language": "python",
   "name": "python3"
  },
  "language_info": {
   "codemirror_mode": {
    "name": "ipython",
    "version": 3
   },
   "file_extension": ".py",
   "mimetype": "text/x-python",
   "name": "python",
   "nbconvert_exporter": "python",
   "pygments_lexer": "ipython3",
   "version": "3.10.9"
  }
 },
 "nbformat": 4,
 "nbformat_minor": 5
}
