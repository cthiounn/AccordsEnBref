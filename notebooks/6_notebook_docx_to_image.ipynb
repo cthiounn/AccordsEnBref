{
 "cells": [
  {
   "cell_type": "code",
   "execution_count": null,
   "id": "4a17b0bd-cc35-42f5-9717-c41b1527944d",
   "metadata": {},
   "outputs": [],
   "source": [
    "!python -m pip install --user -r ../requirements.txt"
   ]
  },
  {
   "cell_type": "code",
   "execution_count": null,
   "id": "b3f93ffa-df02-4447-bafc-a53a0d8aa416",
   "metadata": {},
   "outputs": [],
   "source": [
    "!python -m pip install --user docx2pdf pdf2image pyarrow"
   ]
  },
  {
   "cell_type": "code",
   "execution_count": null,
   "id": "05aaf849-a613-4c1e-9a80-d64ee0b4eeaa",
   "metadata": {},
   "outputs": [],
   "source": [
    "SAVE_ONE_STACKED_JPEG_FILE=False"
   ]
  },
  {
   "cell_type": "code",
   "execution_count": null,
   "id": "fe667446-f72f-40da-9ca6-cce83fdf4bde",
   "metadata": {},
   "outputs": [],
   "source": [
    "PATH_TO_DOCX=\"./echantillon\""
   ]
  },
  {
   "cell_type": "code",
   "execution_count": null,
   "id": "602a2e7d-ec30-40f4-9f9c-749b2276392c",
   "metadata": {},
   "outputs": [],
   "source": [
    "# Windows Only section\n",
    "from docx2pdf import convert\n",
    "import os\n",
    "\n",
    "for file in os.listdir(PATH_TO_DOCX):\n",
    "    try:\n",
    "        convert(file)\n",
    "    except:\n",
    "        print(f\"bug with {file}\")"
   ]
  },
  {
   "cell_type": "code",
   "execution_count": null,
   "id": "7ab07226-0a5f-43ea-bc64-4e6430d1470f",
   "metadata": {},
   "outputs": [],
   "source": [
    "import pdf2image\n",
    "\n",
    "\n",
    "import os\n",
    "\n",
    "if \"OS\" in os.environ.keys() and \"WINDOWS\" in os.environ[\"OS\"].upper():\n",
    "    OS=\"WINDOWS\"\n",
    "\n",
    "    POPPLER_PATH = r\"C:\\Users\\conrad.thiounn\\Desktop\\poppler-23.01.0\\Library\\bin\"\n",
    "else:\n",
    "    OS=\"UNIX\"\n",
    "\n",
    "    POPPLER_PATH = r\"/usr/share/poppler\""
   ]
  },
  {
   "cell_type": "code",
   "execution_count": null,
   "id": "e38176c8-50a5-478e-9d8b-b832f761df25",
   "metadata": {},
   "outputs": [],
   "source": [
    "#https://gist.github.com/willprice/fd917d2cafe56732137e60154d456688\n",
    "\n",
    "from PIL import Image\n",
    "import numpy as np\n",
    "\n",
    "def vstack(images):\n",
    "    if len(images) == 0:\n",
    "        raise ValueError(\"Need 0 or more images\")\n",
    "\n",
    "    if isinstance(images[0], np.ndarray):\n",
    "        images = [Image.fromarray(img) for img in images]\n",
    "    width = max([img.size[0] for img in images])\n",
    "    height = sum([img.size[1] for img in images])\n",
    "    stacked = Image.new(images[0].mode, (width, height))\n",
    "\n",
    "    y_pos = 0\n",
    "    for img in images:\n",
    "        stacked.paste(img, (0, y_pos))\n",
    "        y_pos += img.size[1]\n",
    "    return stacked"
   ]
  },
  {
   "cell_type": "code",
   "execution_count": null,
   "id": "13570b3e-af1a-4376-827f-dcd0241d8d6c",
   "metadata": {},
   "outputs": [],
   "source": [
    "for file in os.listdir(PATH_TO_DOCX):\n",
    "    if file.endswith(\".pdf\"):\n",
    "        try:\n",
    "            if SAVE_ONE_STACKED_JPEG_FILE:\n",
    "                vstack(pdf2image.convert_from_path(pdf_path=PATH_TO_DOCX+\"/\"+file,thread_count=os.cpu_count())).save(file.replace(\".pdf\",\".jpg\"))\n",
    "            else:\n",
    "                pdf2image.convert_from_path(pdf_path=PATH_TO_DOCX+\"/\"+file,output_folder=PATH_TO_DOCX,thread_count=os.cpu_count(),output_file=file.replace(\".pdf\",\"\"),fmt=\"jpeg\")\n",
    "        except:\n",
    "            print(f\"bug with {file}\")"
   ]
  },
  {
   "cell_type": "code",
   "execution_count": null,
   "id": "ce82077a-5a16-43ff-8b1d-01f942c6f5ce",
   "metadata": {},
   "outputs": [],
   "source": [
    "import docx\n",
    "\n",
    "def read_txt_from_docx(filename: str) -> str:\n",
    "    fullText = []\n",
    "    try:\n",
    "        doc = docx.Document(filename)\n",
    "        for para in doc.paragraphs:\n",
    "            fullText.append(para.text)\n",
    "    except:\n",
    "        print(f\"bug docx {filename}\")\n",
    "    return \"\\n\".join(fullText)"
   ]
  },
  {
   "cell_type": "code",
   "execution_count": null,
   "id": "3001b5b9-c50f-40c2-bdca-1e36eba41cc0",
   "metadata": {},
   "outputs": [],
   "source": [
    "import pandas as pd\n",
    "df = pd.DataFrame(columns=[\"num_dossier\", \"txt\",\"img\",\"label_txt\",\"index\"],dtype=object)\n",
    "DIR_DOCX=\"./echantillon/\"\n",
    "num_parquet=0\n",
    "for i, num_dossier in enumerate(\n",
    "    {file_name[:12] for file_name in os.listdir(DIR_DOCX) if file_name.endswith(\".docx\")}\n",
    "):\n",
    "    if i%200==0:\n",
    "        df.to_parquet(f\"Dares_1Kaccords_dataset_{num_parquet}.parquet\")\n",
    "        num_parquet+=1\n",
    "        df = pd.DataFrame(columns=[\"num_dossier\", \"txt\",\"img\",\"label_txt\",\"index\"],dtype=object)\n",
    "    label_file=[\n",
    "            DIR_DOCX+file_name\n",
    "            for file_name in os.listdir(DIR_DOCX)\n",
    "            if file_name.endswith(\".txt\") and file_name.startswith(num_dossier)\n",
    "        ][0]\n",
    "    docx_file=[\n",
    "            DIR_DOCX+file_name\n",
    "            for file_name in os.listdir(DIR_DOCX)\n",
    "            if file_name.endswith(\".docx\") and file_name.startswith(num_dossier)\n",
    "        ][0]\n",
    "    pdf_file=[\n",
    "            DIR_DOCX+file_name\n",
    "            for file_name in os.listdir(DIR_DOCX)\n",
    "            if file_name.endswith(\".pdf\") and file_name.startswith(num_dossier)\n",
    "        ][0]\n",
    "    \n",
    "    new_line = [num_dossier] \n",
    "    txt=read_txt_from_docx(docx_file)\n",
    "    if txt:\n",
    "        new_line.append(txt)\n",
    "    else:\n",
    "        new_line.append(\"\")\n",
    "    img=vstack(pdf2image.convert_from_path(pdf_path=pdf_file,thread_count=os.cpu_count()))\n",
    "    new_line.append(img.tobytes())\n",
    "\n",
    "    with open(label_file,\"rb\") as file:\n",
    "        new_line.append(file.read())\n",
    "        \n",
    "    try:\n",
    "        new_line = {\n",
    "            \"num_dossier\": new_line[0],\n",
    "            \"txt\": new_line[1],\n",
    "            \"img\": new_line[2],\n",
    "            \"label_txt\" : new_line[3],\n",
    "            \"index\" : [i]\n",
    "        }\n",
    "    except:\n",
    "        print(f\"bug {num_dossier}\")\n",
    "        \n",
    "    print(i)\n",
    "    df_new_row = pd.DataFrame.from_records(data=new_line)\n",
    "    df = pd.concat([df, df_new_row])\n",
    "\n",
    "df.to_parquet(f\"Dares_1Kaccords_dataset_{num_parquet}.parquet\")"
   ]
  }
 ],
 "metadata": {
  "kernelspec": {
   "display_name": "Python 3 (ipykernel)",
   "language": "python",
   "name": "python3"
  },
  "language_info": {
   "codemirror_mode": {
    "name": "ipython",
    "version": 3
   },
   "file_extension": ".py",
   "mimetype": "text/x-python",
   "name": "python",
   "nbconvert_exporter": "python",
   "pygments_lexer": "ipython3",
   "version": "3.11.4"
  }
 },
 "nbformat": 4,
 "nbformat_minor": 5
}
