{
 "cells": [
  {
   "cell_type": "code",
   "execution_count": null,
   "metadata": {},
   "outputs": [],
   "source": [
    "!python -m pip install -r ../requirements.txt"
   ]
  },
  {
   "cell_type": "code",
   "execution_count": null,
   "metadata": {},
   "outputs": [],
   "source": [
    "import pdf2image\n",
    "from PIL import Image\n",
    "import pytesseract"
   ]
  },
  {
   "cell_type": "code",
   "execution_count": null,
   "metadata": {},
   "outputs": [],
   "source": [
    "import os\n",
    "\n",
    "if \"OS\" in os.environ.keys() and \"WINDOWS\" in os.environ[\"OS\"].upper():\n",
    "    OS=\"WINDOWS\"\n",
    "    pytesseract.pytesseract.tesseract_cmd = (\n",
    "        r\"C:\\Users\\conrad.thiounn\\AppData\\Local\\Programs\\Tesseract-OCR\\tesseract.exe\"\n",
    "    )\n",
    "    POPPLER_PATH = r\"C:\\Users\\conrad.thiounn\\Desktop\\poppler-23.01.0\\Library\\bin\"\n",
    "else:\n",
    "    OS=\"UNIX\"\n",
    "    pytesseract.pytesseract.tesseract_cmd = (\n",
    "        r\"/usr/bin/tesseract\"\n",
    "    )\n",
    "    POPPLER_PATH = r\"/usr/share/poppler\""
   ]
  },
  {
   "cell_type": "code",
   "execution_count": null,
   "metadata": {},
   "outputs": [],
   "source": [
    "# https://stackoverflow.com/questions/64048828/pytesseract-gives-an-error-permissionerror-winerror-5-access-is-denied\n",
    "def pdf_to_img(pdf_file):\n",
    "    return pdf2image.convert_from_path(pdf_file,\n",
    "        grayscale=True,thread_count=os.cpu_count())\n",
    "\n",
    "def ocr_core(file,lang,config):\n",
    "    if lang:\n",
    "        text = pytesseract.image_to_string(file, lang=lang,config=config)\n",
    "    else:\n",
    "        text = pytesseract.image_to_string(file,config=config)\n",
    "    return text\n",
    "\n",
    "def print_pages(pdf_file,lang, config):\n",
    "    txt = \"\"\n",
    "    images = pdf_to_img(pdf_file)\n",
    "    for pg, img in enumerate(images):\n",
    "        txt += ocr_core(img,lang, config)\n",
    "    return txt\n",
    "\n",
    "def read_and_print_pdf_with_ocr(pdf_file_path: str,lang:str=None) -> None:\n",
    "    custom_oem_psm_config = r\"-c tessedit_do_invert=0  --oem 2 --psm 4 tessedit_char_whitelist=abcdefghijklmnopqrstuvwxyzàâéêèùçîô0123456789\"\n",
    "\n",
    "\n",
    "    return print_pages(pdf_file_path,lang, custom_oem_psm_config)"
   ]
  },
  {
   "cell_type": "code",
   "execution_count": null,
   "metadata": {},
   "outputs": [],
   "source": [
    "PATH_TO_ALL_PDF=\"C:\\\\Users\\\\conrad.thiounn\\\\Desktop\\\\daccord-scraper\\\\Accords\\\\\"\n",
    "OUTPUT_DIR=\"C:\\\\Users\\\\conrad.thiounn\\\\Desktop\\\\ocr2\\\\\""
   ]
  },
  {
   "cell_type": "code",
   "execution_count": null,
   "metadata": {},
   "outputs": [],
   "source": [
    "list_txt_ocr=[file_name for file_name in os.listdir(OUTPUT_DIR)]\n",
    "for pdf in [file_name for file_name in os.listdir(PATH_TO_ALL_PDF) if \".pdf\" in file_name]:\n",
    "    new_file=pdf.replace(\".pdf\",\".txt\")\n",
    "    if new_file not in list_txt_ocr:\n",
    "        try:\n",
    "            with open(OUTPUT_DIR+new_file, \"w\") as f:\n",
    "                f.write(read_and_print_pdf_with_ocr(PATH_TO_ALL_PDF+pdf,lang=\"fra\"))\n",
    "        except:\n",
    "            print(f\"bug for {new_file}\")"
   ]
  }
 ],
 "metadata": {
  "kernelspec": {
   "display_name": "Python 3",
   "language": "python",
   "name": "python3"
  },
  "language_info": {
   "codemirror_mode": {
    "name": "ipython",
    "version": 3
   },
   "file_extension": ".py",
   "mimetype": "text/x-python",
   "name": "python",
   "nbconvert_exporter": "python",
   "pygments_lexer": "ipython3",
   "version": "3.7.0"
  }
 },
 "nbformat": 4,
 "nbformat_minor": 4
}
