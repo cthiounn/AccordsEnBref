{
 "cells": [
  {
   "cell_type": "code",
   "execution_count": null,
   "metadata": {},
   "outputs": [],
   "source": [
    "!python -m pip install -r ../requirements.txt"
   ]
  },
  {
   "cell_type": "code",
   "execution_count": null,
   "metadata": {},
   "outputs": [],
   "source": [
    "import os"
   ]
  },
  {
   "cell_type": "code",
   "execution_count": null,
   "metadata": {},
   "outputs": [],
   "source": [
    "import PyPDF2\n",
    "import pdf2image\n",
    "from PIL import Image\n",
    "import pytesseract\n",
    "from transformers import pipeline\n",
    "import docx"
   ]
  },
  {
   "cell_type": "code",
   "execution_count": null,
   "metadata": {},
   "outputs": [],
   "source": [
    "import os\n",
    "\n",
    "if \"OS\" in os.environ.keys() and \"WINDOWS\" in os.environ[\"OS\"].upper():\n",
    "    OS = \"WINDOWS\"\n",
    "    pytesseract.pytesseract.tesseract_cmd = (\n",
    "        r\"C:\\Users\\conrad.thiounn\\AppData\\Local\\Programs\\Tesseract-OCR\\tesseract.exe\"\n",
    "    )\n",
    "    POPPLER_PATH = r\"C:\\Users\\conrad.thiounn\\Desktop\\poppler-23.01.0\\Library\\bin\"\n",
    "else:\n",
    "    OS = \"UNIX\"\n",
    "    pytesseract.pytesseract.tesseract_cmd = r\"/usr/bin/tesseract\"\n",
    "    POPPLER_PATH = r\"/usr/share/poppler\""
   ]
  },
  {
   "cell_type": "code",
   "execution_count": null,
   "metadata": {},
   "outputs": [],
   "source": [
    "# https://stackoverflow.com/questions/64048828/pytesseract-gives-an-error-permissionerror-winerror-5-access-is-denied\n",
    "def read_and_print_pdf_with_ocr(pdf_file_path: str, lang: str = None) -> None:\n",
    "    custom_oem_psm_config = r\"-c tessedit_do_invert=0 tessedit_char_whitelist=abcdefghijklmnopqrstuvwxyzàéêèùçîô\"\n",
    "    def pdf_to_img(pdf_file):\n",
    "        \n",
    "        \n",
    "        return pdf2image.convert_from_path(pdf_file)\n",
    "\n",
    "    def ocr_core(file, config):\n",
    "        if lang:\n",
    "            text = pytesseract.image_to_string(file, lang=lang, config=config)\n",
    "        else:\n",
    "            text = pytesseract.image_to_string(file, config=config)\n",
    "        return text\n",
    "\n",
    "    def print_pages(pdf_file, config):\n",
    "        txt = \"\"\n",
    "        images = pdf_to_img(pdf_file)\n",
    "        for pg, img in enumerate(images):\n",
    "            txt += ocr_core(img, config)\n",
    "        return txt\n",
    "    return print_pages(pdf_file_path, custom_oem_psm_config)"
   ]
  },
  {
   "cell_type": "code",
   "execution_count": null,
   "metadata": {},
   "outputs": [],
   "source": [
    "PATH_TO_ALL_PDF = \"./\"\n",
    "OUTPUT_DIR = \"./\""
   ]
  },
  {
   "cell_type": "code",
   "execution_count": null,
   "metadata": {},
   "outputs": [],
   "source": [
    "list_txt_ocr = [file_name for file_name in os.listdir(OUTPUT_DIR)]\n",
    "for pdf in [\n",
    "    file_name for file_name in os.listdir(PATH_TO_ALL_PDF) if \".pdf\" in file_name\n",
    "]:\n",
    "    new_file = pdf.replace(\".pdf\", \".txt\")\n",
    "    if new_file not in list_txt_ocr:\n",
    "        try:\n",
    "            with open(OUTPUT_DIR + new_file, \"w\") as f:\n",
    "                f.write(read_and_print_pdf_with_ocr(PATH_TO_ALL_PDF + pdf,lang=\"fra\"))\n",
    "        except:\n",
    "            print(f\"bug for {new_file}\")"
   ]
  }
 ],
 "metadata": {
  "kernelspec": {
   "display_name": "Python 3 (ipykernel)",
   "language": "python",
   "name": "python3"
  },
  "language_info": {
   "codemirror_mode": {
    "name": "ipython",
    "version": 3
   },
   "file_extension": ".py",
   "mimetype": "text/x-python",
   "name": "python",
   "nbconvert_exporter": "python",
   "pygments_lexer": "ipython3",
   "version": "3.10.9"
  }
 },
 "nbformat": 4,
 "nbformat_minor": 4
}
