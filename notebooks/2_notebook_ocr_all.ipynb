{
 "cells": [
  {
   "cell_type": "code",
   "execution_count": null,
   "metadata": {},
   "outputs": [],
   "source": [
    "!python -m pip install -r ../requirements.txt"
   ]
  },
  {
   "cell_type": "code",
   "execution_count": null,
   "metadata": {},
   "outputs": [],
   "source": [
    "import os"
   ]
  },
  {
   "cell_type": "code",
   "execution_count": null,
   "metadata": {},
   "outputs": [],
   "source": [
    "import PyPDF2\n",
    "import pdf2image\n",
    "from PIL import Image\n",
    "import pytesseract\n",
    "from transformers import pipeline\n",
    "import docx"
   ]
  },
  {
   "cell_type": "code",
   "execution_count": null,
   "metadata": {},
   "outputs": [],
   "source": [
    "import os\n",
    "\n",
    "if \"OS\" in os.environ.keys() and \"WINDOWS\" in os.environ[\"OS\"].upper():\n",
    "    OS=\"WINDOWS\"\n",
    "    pytesseract.pytesseract.tesseract_cmd = (\n",
    "        r\"C:\\Users\\conrad.thiounn\\AppData\\Local\\Programs\\Tesseract-OCR\\tesseract.exe\"\n",
    "    )\n",
    "    POPPLER_PATH = r\"C:\\Users\\conrad.thiounn\\Desktop\\poppler-23.01.0\\Library\\bin\"\n",
    "else:\n",
    "    OS=\"UNIX\"\n",
    "    pytesseract.pytesseract.tesseract_cmd = (\n",
    "        r\"/usr/bin/tesseract\"\n",
    "    )\n",
    "    POPPLER_PATH = r\"/usr/share/poppler\""
   ]
  },
  {
   "cell_type": "code",
   "execution_count": null,
   "metadata": {},
   "outputs": [],
   "source": [
    "# https://stackoverflow.com/questions/64048828/pytesseract-gives-an-error-permissionerror-winerror-5-access-is-denied\n",
    "def read_and_print_pdf_with_ocr(pdf_file_path: str,lang:str=None) -> None:\n",
    "    def pdf_to_img(pdf_file):\n",
    "        return pdf2image.convert_from_path(pdf_file)\n",
    "\n",
    "    def ocr_core(file):\n",
    "        if lang:\n",
    "            text = pytesseract.image_to_string(file, lang=lang)\n",
    "        else:\n",
    "            text = pytesseract.image_to_string(file)\n",
    "        return text\n",
    "\n",
    "    def print_pages(pdf_file):\n",
    "        txt=\"\"\n",
    "        images = pdf_to_img(pdf_file)\n",
    "        for pg, img in enumerate(images):\n",
    "            txt+=(ocr_core(img))\n",
    "        return txt\n",
    "    \n",
    "    return print_pages(pdf_file_path)"
   ]
  },
  {
   "cell_type": "code",
   "execution_count": 20,
   "metadata": {},
   "outputs": [],
   "source": [
    "PATH_TO_ALL_PDF=\"C:\\\\Users\\\\conrad.thiounn\\\\Desktop\\\\daccord-scraper\\\\Accords\\\\\"\n",
    "OUTPUT_DIR=\"C:\\\\Users\\\\conrad.thiounn\\\\Desktop\\\\ocr\\\\\""
   ]
  },
  {
   "cell_type": "code",
   "execution_count": null,
   "metadata": {},
   "outputs": [],
   "source": [
    "for pdf in [file_name for file_name in os.listdir(PATH_TO_ALL_PDF) if \".pdf\" in file_name]:\n",
    "    with open(OUTPUT_DIR+pdf.replace(\".pdf\",\".txt\"), \"w\") as f:\n",
    "        f.write(read_and_print_pdf_with_ocr(PATH_TO_ALL_PDF+pdf))"
   ]
  },
  {
   "cell_type": "code",
   "execution_count": null,
   "metadata": {},
   "outputs": [],
   "source": []
  }
 ],
 "metadata": {
  "kernelspec": {
   "display_name": "Python 3",
   "language": "python",
   "name": "python3"
  },
  "language_info": {
   "codemirror_mode": {
    "name": "ipython",
    "version": 3
   },
   "file_extension": ".py",
   "mimetype": "text/x-python",
   "name": "python",
   "nbconvert_exporter": "python",
   "pygments_lexer": "ipython3",
   "version": "3.7.0"
  }
 },
 "nbformat": 4,
 "nbformat_minor": 2
}
