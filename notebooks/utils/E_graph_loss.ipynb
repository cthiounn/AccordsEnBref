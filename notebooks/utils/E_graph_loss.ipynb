{
 "cells": [
  {
   "cell_type": "code",
   "execution_count": null,
   "id": "f5c0580c-e970-4f68-bcd7-7a4c7eaa1b2d",
   "metadata": {},
   "outputs": [],
   "source": [
    "!pip install pandas seaborn"
   ]
  },
  {
   "cell_type": "code",
   "execution_count": null,
   "id": "49635465-f2ba-466c-8062-ed2464e4e359",
   "metadata": {},
   "outputs": [],
   "source": [
    "import pandas as pd\n",
    "import seaborn as sns"
   ]
  },
  {
   "cell_type": "raw",
   "id": "8f7eb1b5-10db-4ef4-bf97-6ea46e45284f",
   "metadata": {},
   "source": [
    "!cat log.txt | grep -o -P '(?<=total_loss:).*(?= time:)' | tr -d \"_a-z:\" | sed -e \"s/ \\s/;/g\" | tr -d \" \" | sed -e \"s/;$//g\" > loss.csv"
   ]
  },
  {
   "cell_type": "code",
   "execution_count": null,
   "id": "e539bdef-1736-40fd-98a5-5096328b44cc",
   "metadata": {},
   "outputs": [],
   "source": [
    "df=pd.read_csv(\"loss.csv\",header=None,names=[\"total_loss\",\"loss_cls\",\"loss_box_reg\",\"loss_rpn_cls\",\"loss_rpn_loc\"],sep=\";\")\n",
    "df"
   ]
  },
  {
   "cell_type": "code",
   "execution_count": null,
   "id": "89083b83-0d9b-4262-9229-fa3c75e82d4e",
   "metadata": {},
   "outputs": [],
   "source": [
    "sns.lineplot(df)"
   ]
  }
 ],
 "metadata": {
  "kernelspec": {
   "display_name": "Python 3 (ipykernel)",
   "language": "python",
   "name": "python3"
  },
  "language_info": {
   "codemirror_mode": {
    "name": "ipython",
    "version": 3
   },
   "file_extension": ".py",
   "mimetype": "text/x-python",
   "name": "python",
   "nbconvert_exporter": "python",
   "pygments_lexer": "ipython3",
   "version": "3.11.4"
  }
 },
 "nbformat": 4,
 "nbformat_minor": 5
}
