{
 "cells": [
  {
   "cell_type": "code",
   "execution_count": null,
   "id": "e4228bb6-11b9-4714-ac8a-3e56a455e6eb",
   "metadata": {},
   "outputs": [],
   "source": [
    "!tar -xvf echantillon.tar "
   ]
  },
  {
   "cell_type": "code",
   "execution_count": null,
   "id": "3c64f51b-2049-487b-bc64-caafd3a9f07a",
   "metadata": {},
   "outputs": [],
   "source": [
    "import os"
   ]
  },
  {
   "cell_type": "code",
   "execution_count": null,
   "id": "4cf0e6f2-be8b-4316-bb17-9af121b5be92",
   "metadata": {},
   "outputs": [],
   "source": [
    "DIR=\"echantillon/\""
   ]
  },
  {
   "cell_type": "code",
   "execution_count": null,
   "id": "fee67f7f-5e9e-48a9-8576-1187f3cd5688",
   "metadata": {},
   "outputs": [],
   "source": [
    "from zipfile import ZipFile"
   ]
  },
  {
   "cell_type": "code",
   "execution_count": null,
   "id": "28afd765-4c65-4baf-b640-e07711b3b5d0",
   "metadata": {},
   "outputs": [],
   "source": [
    "list_docx_avec_commentaires=list()\n",
    "for file in os.listdir(DIR):\n",
    "    with ZipFile(DIR+file,\"r\") as f :\n",
    "        for elment in (f.infolist()):\n",
    "            if \"comments.xml\" in elment.filename:\n",
    "                list_docx_avec_commentaires.append(file)\n",
    "set(list_docx_avec_commentaires)"
   ]
  }
 ],
 "metadata": {
  "kernelspec": {
   "display_name": "Python 3 (ipykernel)",
   "language": "python",
   "name": "python3"
  },
  "language_info": {
   "codemirror_mode": {
    "name": "ipython",
    "version": 3
   },
   "file_extension": ".py",
   "mimetype": "text/x-python",
   "name": "python",
   "nbconvert_exporter": "python",
   "pygments_lexer": "ipython3",
   "version": "3.11.4"
  }
 },
 "nbformat": 4,
 "nbformat_minor": 5
}
