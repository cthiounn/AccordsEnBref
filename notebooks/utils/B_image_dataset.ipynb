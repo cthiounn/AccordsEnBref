{
 "cells": [
  {
   "cell_type": "code",
   "execution_count": null,
   "id": "36c10012-9202-4735-b841-23cb44016f76",
   "metadata": {},
   "outputs": [],
   "source": [
    "!pip install pandas pyarrow pdf2image"
   ]
  },
  {
   "cell_type": "code",
   "execution_count": null,
   "id": "95dab560-75e2-4c4d-8007-4a9b6fc65117",
   "metadata": {},
   "outputs": [],
   "source": [
    "import pandas as pd\n",
    "import pyarrow\n",
    "import pdf2image\n",
    "from PIL import Image"
   ]
  },
  {
   "cell_type": "code",
   "execution_count": null,
   "id": "38519ef9-6803-4e0b-9b05-95f9ee89bff0",
   "metadata": {},
   "outputs": [],
   "source": [
    "#!rm -f *.jpg"
   ]
  },
  {
   "cell_type": "code",
   "execution_count": null,
   "id": "6ac5bfb9-9e49-4682-a379-191d1ea52afd",
   "metadata": {},
   "outputs": [],
   "source": [
    "#!tar -xvf ../echantillon/echantillon_pdf.tar"
   ]
  },
  {
   "cell_type": "code",
   "execution_count": null,
   "id": "c72c7a84-fe18-48ca-8385-d3013e2c2816",
   "metadata": {},
   "outputs": [],
   "source": [
    "import os\n",
    "df = pd.DataFrame(columns=[\"num_dossier\",\"img\",\"index\"],dtype=object)\n",
    "DIR_DOCX=\"./\"\n",
    "num_parquet=0\n",
    "for i, num_dossier in enumerate(\n",
    "    {file_name[:12] for file_name in os.listdir(DIR_DOCX) if file_name.endswith(\".pdf\")}\n",
    "):\n",
    "\n",
    "\n",
    "    pdf_file=[\n",
    "            DIR_DOCX+file_name\n",
    "            for file_name in os.listdir(DIR_DOCX)\n",
    "            if file_name.endswith(\".pdf\") and file_name.startswith(num_dossier)\n",
    "        ][0]\n",
    "\n",
    "    images=pdf2image.convert_from_path(pdf_path=pdf_file,thread_count=os.cpu_count())\n",
    "    for i,image in enumerate(images):\n",
    "        image.save(num_dossier+\"-\"+str(i+1)+\".jpg\")\n"
   ]
  },
  {
   "cell_type": "code",
   "execution_count": null,
   "id": "67828462-6efd-4f1c-be69-a240b7e02e30",
   "metadata": {},
   "outputs": [],
   "source": [
    "#!rm -f echantillon_jpeg_allpages.tar"
   ]
  },
  {
   "cell_type": "code",
   "execution_count": null,
   "id": "69f3faad-edf6-4488-9111-3de99d34b8ad",
   "metadata": {},
   "outputs": [],
   "source": [
    "#!tar -cvf   echantillon_jpeg_allpages.tar *.jpg"
   ]
  },
  {
   "cell_type": "code",
   "execution_count": null,
   "id": "2e6b0b53-c0a2-402c-a907-9f1d93532601",
   "metadata": {},
   "outputs": [],
   "source": [
    "import os\n",
    "df = pd.DataFrame(columns=[\"num_dossier\",\"path_img\",\"num_page\",\"num_max_page\",\"index\"],dtype=object)\n",
    "DIR_DOCX=\"./\"\n",
    "num_parquet=0\n",
    "for i, num_dossier in enumerate(\n",
    "    {file_name[:12] for file_name in os.listdir(DIR_DOCX) if file_name.endswith(\".jpg\")}\n",
    "):\n",
    "\n",
    "\n",
    "    jpg_file=[\n",
    "            DIR_DOCX+file_name\n",
    "            for file_name in os.listdir(DIR_DOCX)\n",
    "            if file_name.endswith(\".jpg\") and file_name.startswith(num_dossier)\n",
    "        ]\n",
    "    num_max_page=len(jpg_file)\n",
    "    for file in jpg_file:\n",
    "        num_page=(file.split(\"-\")[1]).split(\".\")[0]\n",
    "        \n",
    "            \n",
    "        try:\n",
    "            new_line = {\n",
    "                \"num_dossier\": num_dossier,\n",
    "                \"path_img\": file,\n",
    "                \"num_page\": num_page,\n",
    "                \"num_max_page\": num_max_page,\n",
    "                \"index\" : [i]\n",
    "            }\n",
    "        except:\n",
    "            print(f\"bug {num_dossier}\")\n",
    "            \n",
    "        df_new_row = pd.DataFrame.from_records(data=new_line)\n",
    "        df = pd.concat([df, df_new_row])"
   ]
  },
  {
   "cell_type": "code",
   "execution_count": null,
   "id": "51ebaf69-7d06-43dd-964d-b81d550e65f6",
   "metadata": {},
   "outputs": [],
   "source": [
    "df=df.drop(columns=\"index\")\n",
    "df=df.set_index([\"num_dossier\",\"num_page\"])"
   ]
  },
  {
   "cell_type": "code",
   "execution_count": null,
   "id": "b5846a56-8c40-4267-8427-995c7904d3fa",
   "metadata": {},
   "outputs": [],
   "source": [
    "df.to_parquet(\"Dares_1Kaccords_dataset_image_metadata.parquet\")"
   ]
  }
 ],
 "metadata": {
  "kernelspec": {
   "display_name": "Python 3 (ipykernel)",
   "language": "python",
   "name": "python3"
  },
  "language_info": {
   "codemirror_mode": {
    "name": "ipython",
    "version": 3
   },
   "file_extension": ".py",
   "mimetype": "text/x-python",
   "name": "python",
   "nbconvert_exporter": "python",
   "pygments_lexer": "ipython3",
   "version": "3.10.9"
  }
 },
 "nbformat": 4,
 "nbformat_minor": 5
}
