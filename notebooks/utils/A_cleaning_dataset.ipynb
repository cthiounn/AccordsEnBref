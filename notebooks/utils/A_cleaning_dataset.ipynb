{
 "cells": [
  {
   "cell_type": "code",
   "execution_count": null,
   "id": "563d53cf-aa83-40c8-b772-75ab9e8238fb",
   "metadata": {},
   "outputs": [],
   "source": [
    "pip install pandas pyarrow"
   ]
  },
  {
   "cell_type": "code",
   "execution_count": null,
   "id": "cc6f8b74-a7b8-4178-b6a9-9b68a9c14d0e",
   "metadata": {},
   "outputs": [],
   "source": [
    "import pyarrow\n",
    "import pandas as pd"
   ]
  },
  {
   "cell_type": "code",
   "execution_count": null,
   "id": "cf944318-cebf-463d-a133-47a04e696461",
   "metadata": {},
   "outputs": [],
   "source": [
    "df1=pd.read_parquet(\"echantillon/Dares_1Kaccords_dataset_1.parquet\")\n",
    "df1=df1.drop(columns='img')\n",
    "df1=df1.drop(columns='index')\n",
    "df1=df1.set_index(\"num_dossier\")"
   ]
  },
  {
   "cell_type": "code",
   "execution_count": null,
   "id": "5dedb1f7-cb8f-4727-87b6-46e300fe3024",
   "metadata": {},
   "outputs": [],
   "source": [
    "df2=pd.read_parquet(\"echantillon/Dares_1Kaccords_dataset_2.parquet\")\n",
    "df2=df2.drop(columns='img')\n",
    "df2=df2.drop(columns='index')\n",
    "df2=df2.set_index(\"num_dossier\")"
   ]
  },
  {
   "cell_type": "code",
   "execution_count": null,
   "id": "1a900ece-b5d3-4d41-9edd-b224061232e4",
   "metadata": {},
   "outputs": [],
   "source": [
    "df3=pd.read_parquet(\"echantillon/Dares_1Kaccords_dataset_3.parquet\")\n",
    "df3=df3.drop(columns='img')\n",
    "df3=df3.drop(columns='index')\n",
    "df3=df3.set_index(\"num_dossier\")"
   ]
  },
  {
   "cell_type": "code",
   "execution_count": null,
   "id": "cc0d64f9-89de-4f51-816d-cf945990283c",
   "metadata": {},
   "outputs": [],
   "source": [
    "df4=pd.read_parquet(\"echantillon/Dares_1Kaccords_dataset_4.parquet\")\n",
    "df4=df4.drop(columns='img')\n",
    "df4=df4.drop(columns='index')\n",
    "df4=df4.set_index(\"num_dossier\")"
   ]
  },
  {
   "cell_type": "code",
   "execution_count": null,
   "id": "a144ac13-3756-49d8-b5ab-19188d9a55da",
   "metadata": {},
   "outputs": [],
   "source": [
    "df5=pd.read_parquet(\"echantillon/Dares_1Kaccords_dataset_5.parquet\")\n",
    "df5=df5.drop(columns='img')\n",
    "df5=df5.drop(columns='index')\n",
    "df5=df5.set_index(\"num_dossier\")"
   ]
  },
  {
   "cell_type": "code",
   "execution_count": null,
   "id": "48650c7c-e45b-4036-a8c2-a57e05413c60",
   "metadata": {},
   "outputs": [],
   "source": [
    "df=pd.concat([df1,df2,df3,df4,df5])"
   ]
  },
  {
   "cell_type": "code",
   "execution_count": null,
   "id": "836e5c49-43a2-4330-9ad3-2e024cf5a15f",
   "metadata": {},
   "outputs": [],
   "source": [
    "df.to_parquet(\"echantillon/Dares_1Kaccords_dataset_txt_label.parquet\")"
   ]
  }
 ],
 "metadata": {
  "kernelspec": {
   "display_name": "Python 3 (ipykernel)",
   "language": "python",
   "name": "python3"
  },
  "language_info": {
   "codemirror_mode": {
    "name": "ipython",
    "version": 3
   },
   "file_extension": ".py",
   "mimetype": "text/x-python",
   "name": "python",
   "nbconvert_exporter": "python",
   "pygments_lexer": "ipython3",
   "version": "3.10.9"
  }
 },
 "nbformat": 4,
 "nbformat_minor": 5
}
