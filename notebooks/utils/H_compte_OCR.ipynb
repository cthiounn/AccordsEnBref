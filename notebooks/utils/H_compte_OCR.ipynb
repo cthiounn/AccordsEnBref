{
 "cells": [
  {
   "cell_type": "code",
   "execution_count": null,
   "id": "9f147798-c78c-42eb-8b24-dc8445055029",
   "metadata": {},
   "outputs": [],
   "source": [
    "!pip install -q seaborn pandas"
   ]
  },
  {
   "cell_type": "code",
   "execution_count": null,
   "id": "bf9f1bbc-b362-4b3f-b966-043024533030",
   "metadata": {},
   "outputs": [],
   "source": [
    "import seaborn as sns  \n",
    "import pandas as pd\n",
    "import matplotlib.pyplot as plt"
   ]
  },
  {
   "cell_type": "code",
   "execution_count": null,
   "id": "5701761b-538c-4089-a04a-1ae2bc24c92b",
   "metadata": {},
   "outputs": [],
   "source": [
    "df = pd.read_csv(\"mycsvtime.csv\")"
   ]
  },
  {
   "cell_type": "code",
   "execution_count": null,
   "id": "be00d9fe-d9da-4c35-ae03-b13569b39208",
   "metadata": {},
   "outputs": [],
   "source": [
    "df['date_column'] = pd.to_datetime(df['Time'], unit='s')\n"
   ]
  },
  {
   "cell_type": "code",
   "execution_count": null,
   "id": "dfd1f272-8629-46ce-bf5c-0bd6572f84a3",
   "metadata": {},
   "outputs": [],
   "source": [
    "df[df.date_column<(\"2023-09-08\")]"
   ]
  },
  {
   "cell_type": "code",
   "execution_count": null,
   "id": "54380397-a95b-46d8-8f08-899e43c3f18e",
   "metadata": {},
   "outputs": [],
   "source": [
    "sns.displot(x=df[df.date_column<(\"2023-09-07\")].date_column,height=10,aspect=2,kde=True)"
   ]
  }
 ],
 "metadata": {
  "kernelspec": {
   "display_name": "Python 3 (ipykernel)",
   "language": "python",
   "name": "python3"
  },
  "language_info": {
   "codemirror_mode": {
    "name": "ipython",
    "version": 3
   },
   "file_extension": ".py",
   "mimetype": "text/x-python",
   "name": "python",
   "nbconvert_exporter": "python",
   "pygments_lexer": "ipython3",
   "version": "3.11.4"
  }
 },
 "nbformat": 4,
 "nbformat_minor": 5
}
