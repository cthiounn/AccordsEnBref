{
 "cells": [
  {
   "cell_type": "code",
   "execution_count": null,
   "id": "bbbfcecf-fe92-4296-a3e3-da62e85a9524",
   "metadata": {},
   "outputs": [],
   "source": [
    "!pip install pandas pyarrow"
   ]
  },
  {
   "cell_type": "code",
   "execution_count": null,
   "id": "ed2b0aa6-fa7b-4af9-8b90-18229d66387c",
   "metadata": {},
   "outputs": [],
   "source": [
    "PATH_TO_TXT_FILE=\"../../echantillon/\"\n",
    "OUTPUT_FILE_PARQUET=\"Dares_accords_docx_sommaire_label_230811.parquet\""
   ]
  },
  {
   "cell_type": "code",
   "execution_count": null,
   "id": "3363a612-5f13-4efd-8d1a-e0ee4364def6",
   "metadata": {},
   "outputs": [],
   "source": [
    "import os\n",
    "import pandas as pd"
   ]
  },
  {
   "cell_type": "code",
   "execution_count": null,
   "id": "6a826726-d18d-4bbf-ae3d-27a20ab20382",
   "metadata": {},
   "outputs": [],
   "source": [
    "df = pd.DataFrame(columns=[\"num_dossier\", \"sommaire_label\"],dtype=object)\n",
    "for i,file in enumerate(os.listdir(PATH_TO_TXT_FILE)):\n",
    "    if file.endswith(\".txt\"):\n",
    "        with open(PATH_TO_TXT_FILE+file,\"r\") as f:\n",
    "            contenu_fichier=f.read()\n",
    "        new_line = [file[:12]] + [\n",
    "            contenu_fichier\n",
    "        ] \n",
    "        try:\n",
    "            new_line = {\n",
    "                \"num_dossier\": new_line[0],\n",
    "                \"sommaire_label\": new_line[1],\n",
    "                \"index\" : [i]\n",
    "            }\n",
    "        except:\n",
    "            print(f\"bug {num_dossier}\")\n",
    "            \n",
    "        \n",
    "        df_new_row = pd.DataFrame.from_records(data=new_line)\n",
    "        df = pd.concat([df, df_new_row])\n",
    "df=df.set_index(\"num_dossier\").drop(columns=[\"index\"])\n",
    "df.to_parquet(OUTPUT_FILE_PARQUET)"
   ]
  }
 ],
 "metadata": {
  "kernelspec": {
   "display_name": "Python 3 (ipykernel)",
   "language": "python",
   "name": "python3"
  },
  "language_info": {
   "codemirror_mode": {
    "name": "ipython",
    "version": 3
   },
   "file_extension": ".py",
   "mimetype": "text/x-python",
   "name": "python",
   "nbconvert_exporter": "python",
   "pygments_lexer": "ipython3",
   "version": "3.11.4"
  }
 },
 "nbformat": 4,
 "nbformat_minor": 5
}
