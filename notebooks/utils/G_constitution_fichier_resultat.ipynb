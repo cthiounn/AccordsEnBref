{
 "cells": [
  {
   "cell_type": "code",
   "execution_count": null,
   "id": "ae6c4355-ec04-401f-b3e2-100f17bb06d0",
   "metadata": {},
   "outputs": [],
   "source": [
    "!pip install -q pandas pyarrow"
   ]
  },
  {
   "cell_type": "code",
   "execution_count": null,
   "id": "843c9ec6-49a3-4616-a726-a5337fe0104c",
   "metadata": {},
   "outputs": [],
   "source": [
    "import pandas as pd\n",
    "import os"
   ]
  },
  {
   "cell_type": "code",
   "execution_count": null,
   "id": "4ce1a474-ceaf-48fd-8217-9d4fd000ceb0",
   "metadata": {},
   "outputs": [],
   "source": [
    "FILENAME_MODEL_1a=\"Dares_accords_docx_sommaire_result_310811_05_1.parquet\"\n",
    "FILENAME_MODEL_1b=\"Dares_accords_docx_sommaire_result_310811_05_2.parquet\"\n",
    "FILENAME_MODEL_2=\"Dares_accords_docx_sommaire_memsum_230826.parquet\"\n",
    "FILENAME_LABEL=\"Dares_accords_docx_sommaire_label_230811.parquet\"\n",
    "FILENAME_DATASET=\"Dares_1Kaccords_dataset_txt_label.parquet\"\n",
    "PATH_TO_FILE=\"../\"\n",
    "\n",
    "FILENAME_OUTPUT_RESULTS=\"Dares_1Kaccords_dataset_txt_label_result.parquet\""
   ]
  },
  {
   "cell_type": "code",
   "execution_count": null,
   "id": "e5a3539f-3d27-464d-8547-25c0a4384b92",
   "metadata": {},
   "outputs": [],
   "source": [
    "df1a=pd.read_parquet(os.path.join(PATH_TO_FILE,FILENAME_MODEL_1a))\n",
    "df1b=pd.read_parquet(os.path.join(PATH_TO_FILE,FILENAME_MODEL_1b))\n",
    "df2=pd.read_parquet(os.path.join(PATH_TO_FILE,FILENAME_MODEL_2))\n",
    "df_label=pd.read_parquet(os.path.join(PATH_TO_FILE,FILENAME_LABEL))\n",
    "df_dataset=pd.read_parquet(os.path.join(PATH_TO_FILE,FILENAME_DATASET))\n",
    "df1a=df1a.rename(columns={\"sommaire_result\":\"result_1a\"})\n",
    "df1b=df1b.rename(columns={\"sommaire_result\":\"result_1b\"})\n",
    "df_label=df_label.rename(columns={\"sommaire_label\":\"label\"})\n",
    "df2=df2.rename(columns={\"extracted_summary\":\"result_2\", \"sommaire_label_list\":\"label_list\" })\n",
    "df_dataset=df_dataset.drop(columns=[\"label_txt\"])"
   ]
  },
  {
   "cell_type": "code",
   "execution_count": null,
   "id": "6601a20c-70ef-4b1b-9ce3-6431cb47899c",
   "metadata": {},
   "outputs": [],
   "source": [
    "df_dataset.join(df_label).join(df2).join(df1a).join(df1b).to_parquet(FILENAME_OUTPUT_RESULTS)"
   ]
  },
  {
   "cell_type": "code",
   "execution_count": null,
   "id": "0fd666c5-2430-46fc-8f1f-aea6ec066dbf",
   "metadata": {},
   "outputs": [],
   "source": [
    "df_dataset.join(df_label).join(df2).join(df1a).join(df1b)"
   ]
  }
 ],
 "metadata": {
  "kernelspec": {
   "display_name": "Python 3 (ipykernel)",
   "language": "python",
   "name": "python3"
  },
  "language_info": {
   "codemirror_mode": {
    "name": "ipython",
    "version": 3
   },
   "file_extension": ".py",
   "mimetype": "text/x-python",
   "name": "python",
   "nbconvert_exporter": "python",
   "pygments_lexer": "ipython3",
   "version": "3.11.4"
  }
 },
 "nbformat": 4,
 "nbformat_minor": 5
}
