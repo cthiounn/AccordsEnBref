{
 "cells": [
  {
   "cell_type": "code",
   "execution_count": null,
   "id": "1adf3f87-85a0-49ce-bf4a-acf497bf769c",
   "metadata": {},
   "outputs": [],
   "source": [
    "!python -m pip install --user -r ../requirements.txt"
   ]
  },
  {
   "cell_type": "code",
   "execution_count": null,
   "id": "aff54fa8-a2fc-44cc-841d-1e4c941dae76",
   "metadata": {},
   "outputs": [],
   "source": [
    "from transformers import AutoModel"
   ]
  },
  {
   "cell_type": "code",
   "execution_count": null,
   "id": "9c593f3e-2a66-4de4-a73f-e5b4455eea93",
   "metadata": {},
   "outputs": [],
   "source": [
    "model = AutoModel.from_pretrained(\"microsoft/layoutlmv3-base\")"
   ]
  },
  {
   "cell_type": "code",
   "execution_count": null,
   "id": "99e45c22-ab08-4257-b16c-0979c2f69b48",
   "metadata": {},
   "outputs": [],
   "source": [
    "from transformers import LayoutLMv3ImageProcessor \n",
    "\n",
    "imgpro = LayoutLMv3ImageProcessor()"
   ]
  },
  {
   "cell_type": "code",
   "execution_count": null,
   "id": "07028569-91fd-482e-a416-3e95aa79fb2d",
   "metadata": {},
   "outputs": [],
   "source": [
    "import pdf2image\n",
    "import os\n",
    "def pdf_to_img(pdf_file):\n",
    "    return pdf2image.convert_from_path(pdf_file,\n",
    "        grayscale=False,thread_count=os.cpu_count())"
   ]
  },
  {
   "cell_type": "code",
   "execution_count": null,
   "id": "0f5354a2-3b79-4256-b63b-88edba9ea182",
   "metadata": {},
   "outputs": [],
   "source": [
    "img = pdf_to_img(\"Liste_admissibilite_admn_ext_2023_public.pdf\")"
   ]
  },
  {
   "cell_type": "code",
   "execution_count": null,
   "id": "8e255b77-f6e0-4a4f-9342-1e2cf843cdd9",
   "metadata": {},
   "outputs": [],
   "source": [
    "encoded_inputs = imgpro.preprocess(img)"
   ]
  },
  {
   "cell_type": "code",
   "execution_count": null,
   "id": "7c5b3f63-afb6-4d62-8fe5-c306e4e022d1",
   "metadata": {},
   "outputs": [],
   "source": [
    "encoded_inputs.boxes"
   ]
  },
  {
   "cell_type": "code",
   "execution_count": null,
   "id": "a67359b5-dacc-4404-a784-23c2f3b06207",
   "metadata": {},
   "outputs": [],
   "source": [
    "from PIL import  ImageDraw\n",
    "draw = ImageDraw.Draw(img[0])\n",
    "draw.rectangle(encoded_inputs.boxes[0][1])\n",
    "img[0].show()"
   ]
  },
  {
   "cell_type": "code",
   "execution_count": null,
   "id": "78ce71bb-c678-4111-bf54-632cf5fb0d85",
   "metadata": {},
   "outputs": [],
   "source": [
    "def unnormalize_box(bbox, width, height):\n",
    "     return [\n",
    "         width * (bbox[0] / 1000),\n",
    "         height * (bbox[1] / 1000),\n",
    "         width * (bbox[2] / 1000),\n",
    "         height * (bbox[3] / 1000),\n",
    "     ]\n",
    "\n",
    "image=img[0]\n",
    "width, height = image.size\n",
    "draw = ImageDraw.Draw(image)\n",
    "example=encoded_inputs\n",
    "for box in encoded_inputs.boxes[0]:\n",
    "  box = unnormalize_box(box, width, height)\n",
    "  draw.rectangle(box,outline=\"blue\", width=2)\n",
    "\n",
    "image"
   ]
  }
 ],
 "metadata": {
  "kernelspec": {
   "display_name": "Python 3 (ipykernel)",
   "language": "python",
   "name": "python3"
  },
  "language_info": {
   "codemirror_mode": {
    "name": "ipython",
    "version": 3
   },
   "file_extension": ".py",
   "mimetype": "text/x-python",
   "name": "python",
   "nbconvert_exporter": "python",
   "pygments_lexer": "ipython3",
   "version": "3.10.9"
  }
 },
 "nbformat": 4,
 "nbformat_minor": 5
}
