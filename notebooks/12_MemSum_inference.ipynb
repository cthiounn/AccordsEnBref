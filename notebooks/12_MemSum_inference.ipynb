{
 "cells": [
  {
   "cell_type": "code",
   "execution_count": null,
   "id": "9d29ea11-77a8-4c5a-8f89-359f79c9cb7d",
   "metadata": {},
   "outputs": [],
   "source": [
    "!git clone https://github.com/nianlonggu/MemSum.git"
   ]
  },
  {
   "cell_type": "code",
   "execution_count": null,
   "id": "6a52652b-bd71-435d-8663-0c98cdcd026a",
   "metadata": {},
   "outputs": [],
   "source": [
    "!pip install -q -r MemSum/requirements.txt"
   ]
  },
  {
   "cell_type": "code",
   "execution_count": null,
   "id": "ea65a1c2-0158-4b4d-b3fd-328a48e9befa",
   "metadata": {},
   "outputs": [],
   "source": [
    "from MemSum.src.summarizer import MemSum\n",
    "from tqdm import tqdm\n",
    "from rouge_score import rouge_scorer\n",
    "import json\n",
    "import numpy as np\n",
    "import os"
   ]
  },
  {
   "cell_type": "code",
   "execution_count": null,
   "id": "fda8e5d3-6791-4f6c-a27d-2022bedd58cf",
   "metadata": {},
   "outputs": [],
   "source": [
    "FILENAME_MODEL=\"model_batch_5600.pt\"\n",
    "PATH_TO_MODEL=\"model/memsum-custom-data/\"\n",
    "FILENAME_VOCAB=\"vocabulary_200dim.pkl\"\n",
    "PATH_TO_VOCAB=\"model/word_embedding/\""
   ]
  },
  {
   "cell_type": "code",
   "execution_count": null,
   "id": "5b8785b1-1826-4d0a-90e7-99d59d9b8546",
   "metadata": {},
   "outputs": [],
   "source": [
    "memsum_custom_data = MemSum( os.path.join(PATH_TO_MODEL,FILENAME_MODEL) , \n",
    "                  os.path.join(PATH_TO_VOCAB,FILENAME_VOCAB), \n",
    "                  gpu = 0 ,  max_doc_len = 500  )"
   ]
  },
  {
   "cell_type": "code",
   "execution_count": null,
   "id": "c19c20e7-e8b2-43c2-89a5-a1e32063b60a",
   "metadata": {},
   "outputs": [],
   "source": [
    "def extract_summary(document_of_list_shape):\n",
    "    list_of_results=[]\n",
    "    extracted_summary = memsum_custom_data.extract( [ document_of_list_shape ], \n",
    "                                       p_stop_thres = 0.6, \n",
    "                                       max_extracted_sentences_per_document = 50\n",
    "                                      )[0]\n",
    "    for element in document_of_list_shape:\n",
    "        if element in extracted_summary:\n",
    "            list_of_results.append(element)\n",
    "    return list_of_results"
   ]
  },
  {
   "cell_type": "code",
   "execution_count": null,
   "id": "7f688603-1668-4419-9645-da045bcdd838",
   "metadata": {},
   "outputs": [],
   "source": [
    "DOCUMENT_TEST=[\"Accord collectif d'activité partielle \", 'de longue durée (APLD)', 'Entre les soussignés :', '', 'La Société PRESTOMATIC SAS', 'Au capital de 150 000,00 euros', 'Immatriculée au registre du commerce et des sociétés ', 'sous le numéro 339 853 178 RCS STRASBOURG', 'Dont le siège social est situé 7 rue des Hirondelles 67110 GUNDERSHOFFEN ', 'Représentée par, agissant en qualité de Président,', '', 'Dénommée ci-dessous “La Société”,', \"D'une part,\", 'Et,', '', 'Le comité social et économique ayant voté à la majorité des membres titulaires présents, dont le procès-verbal est annexé au présent accord, ', '', \"D'autre part,\", 'Il a été conclu le présent accord.', 'ARTICLE 1 - Préambule', \"Du fait de la crise sanitaire liée à l'épidémie de Covid-19, la société, qui compte à ce jour 33 salariés, est confrontée à une importante baisse d’activité, qui a déjà conduit la société à recourir à l’activité partielle classique, permettant de réduire la durée du travail tout en maintenant le niveau de salaire et en préservant l’emploi et les compétences des salariés.\", \"Compte tenu de ces mesures et du contexte sanitaire, économique et social actuel très contraint, un diagnostic sur la situation économique de la société et ses perspectives d'activité a été établi. \"]"
   ]
  },
  {
   "cell_type": "code",
   "execution_count": null,
   "id": "043c7730-6a53-4e57-83b5-14a0d005ad5f",
   "metadata": {},
   "outputs": [],
   "source": [
    "extract_summary(DOCUMENT_TEST)"
   ]
  },
  {
   "cell_type": "markdown",
   "id": "e6b90856-d3a2-4781-aca9-d173372eb555",
   "metadata": {},
   "source": [
    "# Inference on Dataset"
   ]
  },
  {
   "cell_type": "code",
   "execution_count": null,
   "id": "908c476c-ccc1-4588-b6fc-3119b578f43a",
   "metadata": {},
   "outputs": [],
   "source": [
    "!pip install -q pyarrow pandas"
   ]
  },
  {
   "cell_type": "code",
   "execution_count": null,
   "id": "e8334e2a-9fc9-4add-8d13-0dd15bbf5cf3",
   "metadata": {},
   "outputs": [],
   "source": [
    "import pandas as pd\n",
    "import os"
   ]
  },
  {
   "cell_type": "code",
   "execution_count": null,
   "id": "6e693313-3b71-44eb-8b10-401c1c84198f",
   "metadata": {},
   "outputs": [],
   "source": [
    "PATH_TO_PARQUET=\"../../\"\n",
    "NOM_PARQUET_LABEL=\"Dares_accords_docx_sommaire_label_230811.parquet\"\n",
    "NOM_PARQUET_DATASET=\"Dares_1Kaccords_dataset_txt_label.parquet\""
   ]
  },
  {
   "cell_type": "code",
   "execution_count": null,
   "id": "60655c22-70ab-42cf-9200-2f736a9ea498",
   "metadata": {},
   "outputs": [],
   "source": [
    "df_label=pd.read_parquet(os.path.join(PATH_TO_PARQUET,NOM_PARQUET_LABEL))"
   ]
  },
  {
   "cell_type": "code",
   "execution_count": null,
   "id": "f9967d04-b16e-4afa-900b-d7492ebf4ef5",
   "metadata": {},
   "outputs": [],
   "source": [
    "df_dataset=pd.read_parquet(os.path.join(PATH_TO_PARQUET,NOM_PARQUET_DATASET))\n",
    "df_dataset=df_dataset.drop(columns=[\"label_txt\"])"
   ]
  },
  {
   "cell_type": "code",
   "execution_count": null,
   "id": "271a977e-3920-480b-9c25-f025de408666",
   "metadata": {},
   "outputs": [],
   "source": [
    "def trim_new_line_on_start(string):\n",
    "    if string.startswith(\"\\n\") or string.startswith(\" \")or string.startswith(\"\\t\"):\n",
    "        return trim_new_line_on_start(string[1:])\n",
    "    else:\n",
    "        return string"
   ]
  },
  {
   "cell_type": "code",
   "execution_count": null,
   "id": "87b63ecb-b217-4f35-b3f3-b093792806f8",
   "metadata": {},
   "outputs": [],
   "source": [
    "df_join_ftext_sum=df_dataset.join(df_label)\n",
    "df_join_ftext_sum[\"txt_trim\"]=df_join_ftext_sum[\"txt\"].apply(trim_new_line_on_start)\n",
    "df_join_ftext_sum[\"txt_trim_list\"]=df_join_ftext_sum[[\"txt_trim\"]].apply(lambda x : x.str.split(\"\\n\"))"
   ]
  },
  {
   "cell_type": "code",
   "execution_count": null,
   "id": "b60939f6-bc7f-4932-9c44-e486b05a020b",
   "metadata": {},
   "outputs": [],
   "source": [
    "df_join_ftext_sum[\"extracted_summary\"]=df_join_ftext_sum[\"txt_trim_list\"].apply(extract_summary)"
   ]
  },
  {
   "cell_type": "code",
   "execution_count": null,
   "id": "a15bb2b3-8462-4834-bcad-f4a758287403",
   "metadata": {},
   "outputs": [],
   "source": [
    "df_join_ftext_sum[\"sommaire_label_list\"]=df_join_ftext_sum[[\"sommaire_label\"]].apply(lambda x : x.str.split(\"\\n\"))"
   ]
  },
  {
   "cell_type": "code",
   "execution_count": null,
   "id": "f1549ceb-c8f6-4c36-9770-8d05cd95227f",
   "metadata": {},
   "outputs": [],
   "source": [
    "df_extracted=df_join_ftext_sum[[\"sommaire_label_list\",\"extracted_summary\"]]"
   ]
  },
  {
   "cell_type": "code",
   "execution_count": null,
   "id": "46a90bdc-897a-4440-94cb-23f7f6c3a44c",
   "metadata": {},
   "outputs": [],
   "source": [
    "df_extracted.to_parquet(\"Dares_accords_docx_sommaire_memsum_230826.parquet\")"
   ]
  }
 ],
 "metadata": {
  "kernelspec": {
   "display_name": "Python 3 (ipykernel)",
   "language": "python",
   "name": "python3"
  },
  "language_info": {
   "codemirror_mode": {
    "name": "ipython",
    "version": 3
   },
   "file_extension": ".py",
   "mimetype": "text/x-python",
   "name": "python",
   "nbconvert_exporter": "python",
   "pygments_lexer": "ipython3",
   "version": "3.11.4"
  }
 },
 "nbformat": 4,
 "nbformat_minor": 5
}
