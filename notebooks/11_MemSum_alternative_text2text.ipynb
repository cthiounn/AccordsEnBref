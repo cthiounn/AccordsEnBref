{
 "cells": [
  {
   "cell_type": "code",
   "execution_count": null,
   "id": "a1702be9-f10a-4556-97f9-74eff98a8071",
   "metadata": {},
   "outputs": [],
   "source": [
    "!pip install pandas pyarrow"
   ]
  },
  {
   "cell_type": "code",
   "execution_count": null,
   "id": "b65235a1-f76c-49cf-a66c-63cdd45a3323",
   "metadata": {},
   "outputs": [],
   "source": [
    "!git clone https://github.com/nianlonggu/MemSum.git"
   ]
  },
  {
   "cell_type": "code",
   "execution_count": null,
   "id": "c98db3e9-46f0-4c9c-a7e6-b660ce94a611",
   "metadata": {},
   "outputs": [],
   "source": [
    "import pandas as pd\n",
    "import json"
   ]
  },
  {
   "cell_type": "code",
   "execution_count": null,
   "id": "25a0e5b4-c45d-4a26-9ec4-e0407c0274de",
   "metadata": {},
   "outputs": [],
   "source": [
    "df_full_text=pd.read_parquet(\"../../Dares_1Kaccords_dataset_txt_label.parquet\")\n",
    "df_full_text=df_full_text.drop(columns=\"label_txt\")"
   ]
  },
  {
   "cell_type": "code",
   "execution_count": null,
   "id": "f96fb856-15b0-424c-812c-7208db6e2f1f",
   "metadata": {},
   "outputs": [],
   "source": [
    "df_summary_label=pd.read_parquet(\"../../Dares_accords_docx_sommaire_label_230811.parquet\")"
   ]
  },
  {
   "cell_type": "code",
   "execution_count": null,
   "id": "a2e8b0e7-6f22-4b2c-9b53-e745f6b78ae7",
   "metadata": {},
   "outputs": [],
   "source": [
    "df_join_ftext_sum=df_full_text.join(df_summary_label)"
   ]
  },
  {
   "cell_type": "code",
   "execution_count": null,
   "id": "00db2ad5-103a-4093-95cb-cf48e42090bc",
   "metadata": {},
   "outputs": [],
   "source": [
    "def trim_new_line_on_start(string):\n",
    "    if string.startswith(\"\\n\") or string.startswith(\" \")or string.startswith(\"\\t\"):\n",
    "        return trim_new_line_on_start(string[1:])\n",
    "    else:\n",
    "        return string"
   ]
  },
  {
   "cell_type": "code",
   "execution_count": null,
   "id": "7642aaa0-810d-4f02-993e-61bbf86ab073",
   "metadata": {},
   "outputs": [],
   "source": [
    "df_join_ftext_sum[\"txt_trim\"]=df_join_ftext_sum[\"txt\"].apply(trim_new_line_on_start)"
   ]
  },
  {
   "cell_type": "code",
   "execution_count": null,
   "id": "6515d536-004a-4ab8-8e21-73b2e8d71264",
   "metadata": {},
   "outputs": [],
   "source": [
    "df_join_ftext_sum[\"txt_trim_list\"]=df_join_ftext_sum[[\"txt_trim\"]].apply(lambda x : x.str.split(\"\\n\"))"
   ]
  },
  {
   "cell_type": "code",
   "execution_count": null,
   "id": "fc06fec8-ce51-430d-b2c8-bf61e97451db",
   "metadata": {},
   "outputs": [],
   "source": [
    "df_join_ftext_sum[\"sommaire_label_list\"]=df_join_ftext_sum[[\"sommaire_label\"]].apply(lambda x : x.str.split(\"\\n\"))"
   ]
  },
  {
   "cell_type": "code",
   "execution_count": null,
   "id": "3679304e-faaa-47d1-a30f-52ba88c6f343",
   "metadata": {},
   "outputs": [],
   "source": [
    "def return_dict(text,label):\n",
    "    d=dict()\n",
    "    d[\"text\"]=text\n",
    "    d[\"summary\"]=label\n",
    "    return json.dumps(d)"
   ]
  },
  {
   "cell_type": "code",
   "execution_count": null,
   "id": "ced81523-da79-4be8-b55b-4a2586c2fe06",
   "metadata": {},
   "outputs": [],
   "source": [
    "df_join_ftext_sum[\"dict_txt_sommaire\"]=df_join_ftext_sum[[\"txt_trim_list\",\"sommaire_label_list\"]].apply(lambda x :return_dict(*x),axis=1)\n"
   ]
  },
  {
   "cell_type": "code",
   "execution_count": null,
   "id": "d1190d39-afc0-4d76-8888-2dc1d4ad840f",
   "metadata": {},
   "outputs": [],
   "source": [
    "df_join_ftext_sum=df_join_ftext_sum.reset_index()[['dict_txt_sommaire']]"
   ]
  },
  {
   "cell_type": "code",
   "execution_count": null,
   "id": "ef75ba46-ae02-4af9-967b-5d0c7cfee46c",
   "metadata": {},
   "outputs": [],
   "source": [
    "df_join_ftext_sum=df_join_ftext_sum.set_index(\"dict_txt_sommaire\")"
   ]
  },
  {
   "cell_type": "code",
   "execution_count": null,
   "id": "482b1916-d276-4f5b-857a-49dc7f611f0d",
   "metadata": {},
   "outputs": [],
   "source": [
    "df_join_ftext_sum.to_csv(\"train_data.json\")"
   ]
  },
  {
   "cell_type": "code",
   "execution_count": null,
   "id": "a244d3c2-eb50-4c3d-ae64-036723443758",
   "metadata": {},
   "outputs": [],
   "source": [
    "!cat train_data.json | tail -n +2 | sed -e 's/\"{/{/g' | sed -e 's/}\"/}/g'  | sed -e 's/\"\"/\"/g' > train_data_parsed.json"
   ]
  },
  {
   "cell_type": "code",
   "execution_count": null,
   "id": "a514008d-a286-43aa-8ec8-5370dfe70c57",
   "metadata": {},
   "outputs": [],
   "source": [
    "!pip install -q -r MemSum/requirements.txt"
   ]
  },
  {
   "cell_type": "code",
   "execution_count": null,
   "id": "6c31271f-08f1-4945-88fc-dfdac4dca0c8",
   "metadata": {},
   "outputs": [],
   "source": [
    "!cd MemSum/data_preprocessing; python get_high_rouge_episodes_mp.py -input_corpus_file_name ../../train_data_parsed.json -output_corpus_file_name custom_train.json -beamsearch_size 2 -n_processes 71"
   ]
  }
 ],
 "metadata": {
  "kernelspec": {
   "display_name": "Python 3 (ipykernel)",
   "language": "python",
   "name": "python3"
  },
  "language_info": {
   "codemirror_mode": {
    "name": "ipython",
    "version": 3
   },
   "file_extension": ".py",
   "mimetype": "text/x-python",
   "name": "python",
   "nbconvert_exporter": "python",
   "pygments_lexer": "ipython3",
   "version": "3.11.4"
  }
 },
 "nbformat": 4,
 "nbformat_minor": 5
}
