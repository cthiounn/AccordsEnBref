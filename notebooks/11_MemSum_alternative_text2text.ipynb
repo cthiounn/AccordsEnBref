{
 "cells": [
  {
   "cell_type": "code",
   "execution_count": null,
   "id": "a1702be9-f10a-4556-97f9-74eff98a8071",
   "metadata": {},
   "outputs": [],
   "source": [
    "!pip install pandas pyarrow"
   ]
  },
  {
   "cell_type": "code",
   "execution_count": null,
   "id": "b65235a1-f76c-49cf-a66c-63cdd45a3323",
   "metadata": {},
   "outputs": [],
   "source": [
    "!git clone https://github.com/nianlonggu/MemSum.git"
   ]
  },
  {
   "cell_type": "code",
   "execution_count": null,
   "id": "a514008d-a286-43aa-8ec8-5370dfe70c57",
   "metadata": {},
   "outputs": [],
   "source": [
    "!pip install -q -r MemSum/requirements.txt"
   ]
  },
  {
   "cell_type": "code",
   "execution_count": null,
   "id": "c98db3e9-46f0-4c9c-a7e6-b660ce94a611",
   "metadata": {},
   "outputs": [],
   "source": [
    "import pandas as pd\n",
    "import json"
   ]
  },
  {
   "cell_type": "code",
   "execution_count": null,
   "id": "25a0e5b4-c45d-4a26-9ec4-e0407c0274de",
   "metadata": {},
   "outputs": [],
   "source": [
    "df_full_text=pd.read_parquet(\"../../Dares_1Kaccords_dataset_txt_label.parquet\")\n",
    "df_full_text=df_full_text.drop(columns=\"label_txt\")"
   ]
  },
  {
   "cell_type": "code",
   "execution_count": null,
   "id": "f96fb856-15b0-424c-812c-7208db6e2f1f",
   "metadata": {},
   "outputs": [],
   "source": [
    "df_summary_label=pd.read_parquet(\"../../Dares_accords_docx_sommaire_label_230811.parquet\")"
   ]
  },
  {
   "cell_type": "code",
   "execution_count": null,
   "id": "a2e8b0e7-6f22-4b2c-9b53-e745f6b78ae7",
   "metadata": {},
   "outputs": [],
   "source": [
    "df_join_ftext_sum=df_full_text.join(df_summary_label)"
   ]
  },
  {
   "cell_type": "code",
   "execution_count": null,
   "id": "00db2ad5-103a-4093-95cb-cf48e42090bc",
   "metadata": {},
   "outputs": [],
   "source": [
    "def trim_new_line_on_start(string):\n",
    "    if string.startswith(\"\\n\") or string.startswith(\" \")or string.startswith(\"\\t\"):\n",
    "        return trim_new_line_on_start(string[1:])\n",
    "    else:\n",
    "        return string"
   ]
  },
  {
   "cell_type": "code",
   "execution_count": null,
   "id": "7642aaa0-810d-4f02-993e-61bbf86ab073",
   "metadata": {},
   "outputs": [],
   "source": [
    "df_join_ftext_sum[\"txt_trim\"]=df_join_ftext_sum[\"txt\"].apply(trim_new_line_on_start)"
   ]
  },
  {
   "cell_type": "code",
   "execution_count": null,
   "id": "6515d536-004a-4ab8-8e21-73b2e8d71264",
   "metadata": {},
   "outputs": [],
   "source": [
    "df_join_ftext_sum[\"txt_trim_list\"]=df_join_ftext_sum[[\"txt_trim\"]].apply(lambda x : x.str.split(\"\\n\"))"
   ]
  },
  {
   "cell_type": "code",
   "execution_count": null,
   "id": "fc06fec8-ce51-430d-b2c8-bf61e97451db",
   "metadata": {},
   "outputs": [],
   "source": [
    "df_join_ftext_sum[\"sommaire_label_list\"]=df_join_ftext_sum[[\"sommaire_label\"]].apply(lambda x : x.str.split(\"\\n\"))"
   ]
  },
  {
   "cell_type": "code",
   "execution_count": null,
   "id": "3679304e-faaa-47d1-a30f-52ba88c6f343",
   "metadata": {},
   "outputs": [],
   "source": [
    "def return_dict(text,label):\n",
    "    d=dict()\n",
    "    d[\"text\"]=text\n",
    "    d[\"summary\"]=label\n",
    "    return json.dumps(d)"
   ]
  },
  {
   "cell_type": "code",
   "execution_count": null,
   "id": "ced81523-da79-4be8-b55b-4a2586c2fe06",
   "metadata": {},
   "outputs": [],
   "source": [
    "df_join_ftext_sum[\"dict_txt_sommaire\"]=df_join_ftext_sum[[\"txt_trim_list\",\"sommaire_label_list\"]].apply(lambda x :return_dict(*x),axis=1)\n"
   ]
  },
  {
   "cell_type": "code",
   "execution_count": null,
   "id": "d1190d39-afc0-4d76-8888-2dc1d4ad840f",
   "metadata": {},
   "outputs": [],
   "source": [
    "df_join_ftext_sum=df_join_ftext_sum.reset_index()[['dict_txt_sommaire']]"
   ]
  },
  {
   "cell_type": "code",
   "execution_count": null,
   "id": "5720af99-3a87-48c1-a885-5e104eb142ef",
   "metadata": {},
   "outputs": [],
   "source": [
    "df_1 = df_join_ftext_sum.sample(frac=0.7)  \n",
    "df_2 = df_join_ftext_sum.loc[~df_join_ftext_sum.index.isin(df_1.index)].reset_index(drop=True)\n",
    "df_3 = df_2.sample(frac=0.5)  \n",
    "df_validation = df_2.loc[~df_2.index.isin(df_3.index)].reset_index(drop=True)\n",
    "df_train = df_1.reset_index(drop=True)\n",
    "df_test = df_3.reset_index(drop=True)"
   ]
  },
  {
   "cell_type": "code",
   "execution_count": null,
   "id": "ef75ba46-ae02-4af9-967b-5d0c7cfee46c",
   "metadata": {},
   "outputs": [],
   "source": [
    "df_train=df_train.set_index(\"dict_txt_sommaire\")\n",
    "df_test=df_test.set_index(\"dict_txt_sommaire\")\n",
    "df_validation=df_validation.set_index(\"dict_txt_sommaire\")"
   ]
  },
  {
   "cell_type": "code",
   "execution_count": null,
   "id": "482b1916-d276-4f5b-857a-49dc7f611f0d",
   "metadata": {},
   "outputs": [],
   "source": [
    "df_train.to_csv(\"train_data.json\")\n",
    "df_validation.to_csv(\"validation_data.json\")\n",
    "df_test.to_csv(\"test_data.json\")"
   ]
  },
  {
   "cell_type": "code",
   "execution_count": null,
   "id": "a244d3c2-eb50-4c3d-ae64-036723443758",
   "metadata": {},
   "outputs": [],
   "source": [
    "!cat train_data.json | tail -n +2 | sed -e 's/\"{/{/g' | sed -e 's/}\"/}/g'  | sed -e 's/\"\"/\"/g' > train_data_parsed.json\n",
    "!cat validation_data.json | tail -n +2 | sed -e 's/\"{/{/g' | sed -e 's/}\"/}/g'  | sed -e 's/\"\"/\"/g' > validation_data_parsed.json\n",
    "!cat test_data.json | tail -n +2 | sed -e 's/\"{/{/g' | sed -e 's/}\"/}/g'  | sed -e 's/\"\"/\"/g' > test_data_parsed.json"
   ]
  },
  {
   "cell_type": "code",
   "execution_count": null,
   "id": "6c31271f-08f1-4945-88fc-dfdac4dca0c8",
   "metadata": {},
   "outputs": [],
   "source": [
    "!cd MemSum/data_preprocessing; python get_high_rouge_episodes_mp.py -input_corpus_file_name ../../train_data_parsed.json -output_corpus_file_name ../../custom_train.json -beamsearch_size 2 -n_processes 71"
   ]
  },
  {
   "cell_type": "code",
   "execution_count": null,
   "id": "fc64d45d-b0fa-4450-ac05-5fb1bcb7da35",
   "metadata": {},
   "outputs": [],
   "source": [
    "!cd MemSum/data_preprocessing; python get_high_rouge_episodes_mp.py -input_corpus_file_name ../../validation_data_parsed.json -output_corpus_file_name ../../custom_validation.json -beamsearch_size 2 -n_processes 71"
   ]
  },
  {
   "cell_type": "code",
   "execution_count": null,
   "id": "d23640b1-a86d-4117-ad6d-b9745ea8111f",
   "metadata": {},
   "outputs": [],
   "source": [
    "!cd MemSum/data_preprocessing; python get_high_rouge_episodes_mp.py -input_corpus_file_name ../../test_data_parsed.json -output_corpus_file_name ../../custom_test.json -beamsearch_size 2 -n_processes 71"
   ]
  },
  {
   "cell_type": "code",
   "execution_count": null,
   "id": "d6880789-3813-4847-927a-de649051058d",
   "metadata": {},
   "outputs": [],
   "source": [
    "!cd MemSum/src; python train.py -training_corpus_file_name ../../custom_train.json -validation_corpus_file_name ../../custom_validation.json -model_folder ../../model/memsum-custom-data -log_folder ../../log/memsum-custom-data -vocabulary_file_name ../../model/word_embedding/vocabulary_200dim.pkl -pretrained_unigram_embeddings_file_name ../../model/word_embedding/unigram_embeddings_200dim.pkl -max_seq_len 100 -max_doc_len 500 -num_of_epochs 50 -save_every 0 -validate_every 0 -n_device 1 -batch_size_per_device 4 -max_extracted_sentences_per_document 20 -moving_average_decay 0.999 -p_stop_thres 0.6"
   ]
  },
  {
   "cell_type": "code",
   "execution_count": null,
   "id": "bef77f39-9640-4601-a00c-7e1f7c5dff8f",
   "metadata": {},
   "outputs": [],
   "source": [
    "!cd MemSum/src; python get_optimal_batch.py -log_file_name ../../log/memsum-custom-data/val.log"
   ]
  },
  {
   "cell_type": "code",
   "execution_count": null,
   "id": "a9cbbd4f-50ab-4733-a6be-8ba3ea50dda6",
   "metadata": {},
   "outputs": [],
   "source": [
    "from huggingface_hub import snapshot_download\n",
    "## download the pretrained glove word embedding (200 dimension)\n",
    "snapshot_download('nianlong/memsum-word-embedding', local_dir = \"model/word_embedding\" )"
   ]
  },
  {
   "cell_type": "code",
   "execution_count": null,
   "id": "9aa5d9ff-6617-4909-a171-ccf384d920d9",
   "metadata": {},
   "outputs": [],
   "source": [
    "from MemSum.src.summarizer import MemSum\n",
    "from tqdm import tqdm\n",
    "from rouge_score import rouge_scorer\n",
    "import json\n",
    "import numpy as np"
   ]
  },
  {
   "cell_type": "code",
   "execution_count": null,
   "id": "321d1b3c-2992-4f42-8413-a144e2589232",
   "metadata": {},
   "outputs": [],
   "source": [
    "rouge_cal = rouge_scorer.RougeScorer(['rouge1','rouge2', 'rougeLsum'], use_stemmer=True)"
   ]
  },
  {
   "cell_type": "code",
   "execution_count": null,
   "id": "36d99f0d-402b-4647-b3f1-dda369039232",
   "metadata": {},
   "outputs": [],
   "source": [
    "memsum_custom_data = MemSum(  \"model/memsum-custom-data/model_batch_5600.pt\", \n",
    "                  \"model/word_embedding/vocabulary_200dim.pkl\", \n",
    "                  gpu = 0 ,  max_doc_len = 500  )"
   ]
  },
  {
   "cell_type": "code",
   "execution_count": null,
   "id": "9c1fd65a-532f-475d-aa7a-e64e730c34fc",
   "metadata": {},
   "outputs": [],
   "source": [
    "test_corpus_custom_data = [ json.loads(line) for line in open(\"custom_test.json\")]"
   ]
  },
  {
   "cell_type": "code",
   "execution_count": null,
   "id": "55f70140-a9cb-4c68-a2fa-2746c1822be6",
   "metadata": {},
   "outputs": [],
   "source": [
    "def evaluate( model, corpus, p_stop, max_extracted_sentences, rouge_cal ):\n",
    "    scores = []\n",
    "    for data in tqdm(corpus):\n",
    "        gold_summary = data[\"summary\"]\n",
    "        extracted_summary = model.extract( [data[\"text\"]], p_stop_thres = p_stop, max_extracted_sentences_per_document = max_extracted_sentences )[0]\n",
    "        \n",
    "        score = rouge_cal.score( \"\\n\".join( gold_summary ), \"\\n\".join(extracted_summary)  )\n",
    "        scores.append( [score[\"rouge1\"].fmeasure, score[\"rouge2\"].fmeasure, score[\"rougeLsum\"].fmeasure ] )\n",
    "    \n",
    "    return np.asarray(scores).mean(axis = 0)"
   ]
  },
  {
   "cell_type": "code",
   "execution_count": null,
   "id": "8d06a51c-7a2e-456a-95ee-3d638410f9d8",
   "metadata": {},
   "outputs": [],
   "source": [
    "evaluate(memsum_custom_data, test_corpus_custom_data, 0.6, 7, rouge_cal)\n"
   ]
  },
  {
   "cell_type": "code",
   "execution_count": null,
   "id": "1f18a8fd-d6f3-4ef5-af51-cf35acc442ba",
   "metadata": {},
   "outputs": [],
   "source": [
    "document = test_corpus_custom_data[2][\"text\"]\n",
    "extracted_summary = memsum_custom_data.extract( [ document ], \n",
    "                                   p_stop_thres = 0.6, \n",
    "                                   max_extracted_sentences_per_document = 50\n",
    "                                  )[0]\n",
    "print(document)\n",
    "for element in document:\n",
    "    if element in extracted_summary:\n",
    "        print(element)"
   ]
  }
 ],
 "metadata": {
  "kernelspec": {
   "display_name": "Python 3 (ipykernel)",
   "language": "python",
   "name": "python3"
  },
  "language_info": {
   "codemirror_mode": {
    "name": "ipython",
    "version": 3
   },
   "file_extension": ".py",
   "mimetype": "text/x-python",
   "name": "python",
   "nbconvert_exporter": "python",
   "pygments_lexer": "ipython3",
   "version": "3.11.4"
  }
 },
 "nbformat": 4,
 "nbformat_minor": 5
}
