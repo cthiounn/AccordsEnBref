{
 "cells": [
  {
   "cell_type": "code",
   "execution_count": null,
   "id": "82b31837-bacc-4fe0-9cb8-7b19feb7982b",
   "metadata": {},
   "outputs": [],
   "source": [
    "!pip install -q fuzzywuzzy python-Levenshtein Levenshtein nltk pandas pyarrow seaborn"
   ]
  },
  {
   "cell_type": "code",
   "execution_count": null,
   "id": "7056055e-d6ac-4588-bcb9-43606903739c",
   "metadata": {},
   "outputs": [],
   "source": [
    "PATH_TO_PARQUET=\"../../\"\n",
    "NOM_PARQUET_LABEL=\"Dares_accords_docx_sommaire_label_230811.parquet\"\n",
    "NOM_PARQUET_RESULTAT=\"Dares_accords_docx_sommaire_result_310811_05_2.parquet\""
   ]
  },
  {
   "cell_type": "code",
   "execution_count": null,
   "id": "580224b9-cbc1-45c6-9501-c0f86b2bb306",
   "metadata": {},
   "outputs": [],
   "source": [
    "list_of_titles=[\"ACCORD D'ENTREPRISE RELATIF AU\\nFORFAIT ANNUEL EN J OURS\",\n",
    " '- Eurofins Labazur Guyane',\n",
    " 'PREAMBULE',\n",
    " \"Article 1.Champ d'application\",\n",
    " 'Article 2.Salariés concernés',\n",
    " 'Article 3.Durée annuelle du travail décomptée en jours',\n",
    " 'Article 4.Conclusion d’une convention individuelle avec chaque salarié concerné',\n",
    " 'Article 5.Forfait annuel en jours « réduit »',\n",
    " 'Article 6.Impact des absences et arrivées/départs en cours de période',\n",
    " 'Article 7.Rémunération des salariés',\n",
    " 'Article 8.Garanties applicables au forfait annuel en jours et droit à la déconnexion',\n",
    " '1. Garanties sur la durée du travail',\n",
    " '2. Droit à la déconnexion',\n",
    " 'Article 9.Suivi de la charge de travail et contrôle du nombre de jours travaill',\n",
    " '“ Suivi individuel et contrôle',\n",
    " '— Repos hebdomadaires ;',\n",
    " '“ Entretiens individuels et points de suivi',\n",
    " '— sa charge de travail,',\n",
    " \"“ Procédure d’alerte en cas de dysfonctionnements afférents à la charge de travail, à\\nl'amplitude des journées de travail et à l'équilibre entre vie privée/vie professionnelle\",\n",
    " 'Article 10. Dispositions finales',\n",
    " 'Article 10.1 : Durée - Entrée en vigueur',\n",
    " 'Article 10.2 : Révision - Dénonciation',\n",
    " 'Article 10.3 : Dépôt - Publicité',\n",
    " 'Pour Eurofins Labazur Guyane']"
   ]
  },
  {
   "cell_type": "code",
   "execution_count": null,
   "id": "7bb2c06a-2d99-4be5-8b45-d9edbca12e80",
   "metadata": {},
   "outputs": [],
   "source": [
    "import pandas as pd\n",
    "import seaborn as sns\n",
    "from Levenshtein import distance\n",
    "from fuzzywuzzy import fuzz\n",
    "from fuzzywuzzy import process\n",
    "from nltk import edit_distance\n",
    "import os"
   ]
  },
  {
   "cell_type": "code",
   "execution_count": null,
   "id": "68c8e34f-0399-4c2f-bbd8-24dd6c0a86ef",
   "metadata": {},
   "outputs": [],
   "source": [
    "string2 = \"Dépot - Publicité\"\n",
    "\n",
    "print(min([(distance(string1, string2),string1) for string1 in list_of_titles]))"
   ]
  },
  {
   "cell_type": "code",
   "execution_count": null,
   "id": "0649b4e2-2b91-4302-b40f-4cc0fce889b0",
   "metadata": {},
   "outputs": [],
   "source": [
    "list_of_labeled_titles=[\n",
    "\"ACCORD D�ENTREPRISE RELATIF AU\\nFORFAIT ANNUEL EN JOURS\",\n",
    "\"PREAMBULE\",\n",
    "\"Article 1.      Champ d�application\",\n",
    "\"Article 2.      Salari�s concern�s\",\n",
    "\"Article 3.      Dur�e annuelle du travail d�compt�e en jours\",\n",
    "\"Article 4.      Conclusion d�une convention individuelle avec chaque salari� concern�\",\n",
    "\"Article 5.      Forfait annuel en jours � r�duit �\",\n",
    "\"Article 6.      Impact des absences et arriv�es/d�parts en cours de p�riode\",\n",
    "\"Article 7.      R�mun�ration des salari�s\",\n",
    "\"Article 8.      Garanties applicables au forfait annuel en jours et droit � la d�connexion\",\n",
    "\"Article 9.      Suivi de la charge de travail et contr�le du nombre de jours travaill�s\",\n",
    "\"Article 10. Dispositions finales\",\n",
    "\"Article 10.1 : Dur�e - Entr�e en vigueur\",\n",
    "\"Article 10.2 : R�vision - D�nonciation\",\n",
    "\"Article 10.3 : D�p�t - Publicit�\"\n",
    "]"
   ]
  },
  {
   "cell_type": "code",
   "execution_count": null,
   "id": "e8519a88-b6e7-46bf-8480-f8fd5cb45fba",
   "metadata": {},
   "outputs": [],
   "source": [
    "for label in list_of_labeled_titles:\n",
    "    print(min([(distance(string1, label),string1) for string1 in list_of_titles]))"
   ]
  },
  {
   "cell_type": "code",
   "execution_count": null,
   "id": "68baf40e-3125-4431-a03e-481b69a4f7f9",
   "metadata": {},
   "outputs": [],
   "source": [
    "def compute_Levensthein_sim(str1,str2):\n",
    "    edit_dist  = edit_distance(str1,str2)\n",
    "    len_total = max(len(str1),len(str2))\n",
    "    return ((len_total-edit_dist)/len_total)*100"
   ]
  },
  {
   "cell_type": "code",
   "execution_count": null,
   "id": "4c56d577-34a2-46d7-b465-dd95aebd77a1",
   "metadata": {},
   "outputs": [],
   "source": [
    "str1 = 'Article 8.      Garanties applicables au forfait annuel en jours et droit � la d�connexion'\n",
    "str2 = 'Article 8.Garanties applicables au forfait annuel en jours et droit à la déconnexion'\n",
    "edit_dist  = edit_distance(str1,str2)\n",
    "print(edit_dist)\n",
    "len_total = max(len(str1),len(str2))\n",
    "pct_edit_dist = ((len_total-edit_dist)/len_total)*100\n",
    "print(pct_edit_dist)"
   ]
  },
  {
   "cell_type": "code",
   "execution_count": null,
   "id": "cd60d4ef-71c7-4599-8ead-bbe26fb917b3",
   "metadata": {},
   "outputs": [],
   "source": [
    "str1 = 'Article 8.      Garanties applicables au forfait annuel en jours et droit � la d�connexion'\n",
    "str2 = 'Article 8.Garanties applicables au forfait annuel en jours et droit à la déconnexion'\n",
    "fuzz.ratio(str1,str2)"
   ]
  },
  {
   "cell_type": "code",
   "execution_count": null,
   "id": "990d141d-bdf6-49ef-ae55-cd35bfb8124f",
   "metadata": {},
   "outputs": [],
   "source": [
    "df_label=pd.read_parquet(os.path.join(PATH_TO_PARQUET,NOM_PARQUET_LABEL))\n",
    "df_result=pd.read_parquet(os.path.join(PATH_TO_PARQUET,NOM_PARQUET_RESULTAT))"
   ]
  },
  {
   "cell_type": "code",
   "execution_count": null,
   "id": "cf01b1af-6e2e-48d1-990f-076cf7e30627",
   "metadata": {},
   "outputs": [],
   "source": [
    "#df_result=df_result.drop(columns=\"index\").set_index(\"num_dossier\")"
   ]
  },
  {
   "cell_type": "code",
   "execution_count": null,
   "id": "4cd3f237-73a9-4b52-b2ee-be9d0c574456",
   "metadata": {},
   "outputs": [],
   "source": [
    "def match_part(x,index):\n",
    "    return x.str.split(\"-----\")[0][index-1] if len(x.str.split(\"-----\")[0])>=index  else None"
   ]
  },
  {
   "cell_type": "code",
   "execution_count": null,
   "id": "5ce9939a-3452-47a6-85a3-04ed7f3f4bc0",
   "metadata": {},
   "outputs": [],
   "source": [
    "df_label[\"titre_label\"]=df_label[['sommaire_label']].apply(lambda x : match_part(x,1),axis=1)\n",
    "df_label[\"corps_label\"]=df_label[['sommaire_label']].apply(lambda x : match_part(x,2) ,axis=1)\n",
    "df_label[\"annexe_label\"]=df_label[['sommaire_label']].apply(lambda x : match_part(x,3),axis=1)"
   ]
  },
  {
   "cell_type": "code",
   "execution_count": null,
   "id": "1390d4f1-90f1-430f-9adc-691a1733f880",
   "metadata": {},
   "outputs": [],
   "source": [
    "df_result[\"titre_result\"]=df_result[['sommaire_result']].apply(lambda x : match_part(x,1),axis=1)\n",
    "df_result[\"corps_result\"]=df_result[['sommaire_result']].apply(lambda x : match_part(x,2) ,axis=1)"
   ]
  },
  {
   "cell_type": "code",
   "execution_count": null,
   "id": "504329ae-cbbc-48e9-b172-17b4bd3eba02",
   "metadata": {},
   "outputs": [],
   "source": [
    "df_join=df_label.join(df_result)"
   ]
  },
  {
   "cell_type": "code",
   "execution_count": null,
   "id": "9c43b9c7-a064-4362-959b-bbbc72f2621f",
   "metadata": {},
   "outputs": [],
   "source": [
    "df_join[\"titre_Levensthein\"]=df_join[[\"titre_label\",\"titre_result\"]].apply(lambda x :distance(*x),axis=1)\n",
    "df_join[\"titre_Levensthein_sim\"]=df_join[[\"titre_label\",\"titre_result\"]].apply(lambda x :compute_Levensthein_sim(*x),axis=1)\n",
    "df_join[\"titre_fuzz_ratio\"]=df_join[[\"titre_label\",\"titre_result\"]].apply(lambda x :fuzz.ratio(*x),axis=1)\n",
    "df_join[\"titre_fuzz_partial_ratio\"]=df_join[[\"titre_label\",\"titre_result\"]].apply(lambda x :fuzz.partial_ratio(*x),axis=1)"
   ]
  },
  {
   "cell_type": "code",
   "execution_count": null,
   "id": "f5cee017-fa5f-4b55-b85e-258ac1f8f166",
   "metadata": {},
   "outputs": [],
   "source": [
    "sns.displot(df_join.titre_fuzz_partial_ratio)"
   ]
  },
  {
   "cell_type": "code",
   "execution_count": null,
   "id": "7e5d28a5-fe5a-43ca-ab4a-19734f1b77f8",
   "metadata": {},
   "outputs": [],
   "source": [
    "df_join[df_join.titre_fuzz_partial_ratio<50][[\"titre_label\",\"titre_result\",\"titre_fuzz_partial_ratio\"]].to_csv(\"my_csv.csv\")"
   ]
  },
  {
   "cell_type": "code",
   "execution_count": null,
   "id": "f3478d88-e16b-4ea1-82d7-0a3c2d46c7d1",
   "metadata": {},
   "outputs": [],
   "source": [
    "def is_annexe_present(x,y):\n",
    "    return (\"annexe\" in x.lower(),\"annexe\" in y.lower())"
   ]
  },
  {
   "cell_type": "code",
   "execution_count": null,
   "id": "26308557-3e8b-4405-8cd1-7fa8d5b0b7c5",
   "metadata": {},
   "outputs": [],
   "source": [
    "df_join[\"presence_annexe_label_result\"]=df_join[[\"sommaire_label\",\"sommaire_result\"]].apply(lambda x : is_annexe_present(*x),axis=1)"
   ]
  },
  {
   "cell_type": "code",
   "execution_count": null,
   "id": "72f46b75-9a76-45e1-bca6-0d71d0a2a8f8",
   "metadata": {},
   "outputs": [],
   "source": [
    "df_join.groupby(\"presence_annexe_label_result\")[[\"presence_annexe_label_result\"]].count()"
   ]
  }
 ],
 "metadata": {
  "kernelspec": {
   "display_name": "Python 3 (ipykernel)",
   "language": "python",
   "name": "python3"
  },
  "language_info": {
   "codemirror_mode": {
    "name": "ipython",
    "version": 3
   },
   "file_extension": ".py",
   "mimetype": "text/x-python",
   "name": "python",
   "nbconvert_exporter": "python",
   "pygments_lexer": "ipython3",
   "version": "3.11.4"
  }
 },
 "nbformat": 4,
 "nbformat_minor": 5
}
