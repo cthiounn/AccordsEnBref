{
 "cells": [
  {
   "cell_type": "code",
   "execution_count": null,
   "id": "82b31837-bacc-4fe0-9cb8-7b19feb7982b",
   "metadata": {},
   "outputs": [],
   "source": [
    "!pip install fuzzywuzzy python-Levenshtein Levenshtein nltk"
   ]
  },
  {
   "cell_type": "code",
   "execution_count": null,
   "id": "580224b9-cbc1-45c6-9501-c0f86b2bb306",
   "metadata": {},
   "outputs": [],
   "source": [
    "list_of_titles=[\"ACCORD D'ENTREPRISE RELATIF AU\\nFORFAIT ANNUEL EN J OURS\",\n",
    " '- Eurofins Labazur Guyane',\n",
    " 'PREAMBULE',\n",
    " \"Article 1.Champ d'application\",\n",
    " 'Article 2.Salariés concernés',\n",
    " 'Article 3.Durée annuelle du travail décomptée en jours',\n",
    " 'Article 4.Conclusion d’une convention individuelle avec chaque salarié concerné',\n",
    " 'Article 5.Forfait annuel en jours « réduit »',\n",
    " 'Article 6.Impact des absences et arrivées/départs en cours de période',\n",
    " 'Article 7.Rémunération des salariés',\n",
    " 'Article 8.Garanties applicables au forfait annuel en jours et droit à la déconnexion',\n",
    " '1. Garanties sur la durée du travail',\n",
    " '2. Droit à la déconnexion',\n",
    " 'Article 9.Suivi de la charge de travail et contrôle du nombre de jours travaill',\n",
    " '“ Suivi individuel et contrôle',\n",
    " '— Repos hebdomadaires ;',\n",
    " '“ Entretiens individuels et points de suivi',\n",
    " '— sa charge de travail,',\n",
    " \"“ Procédure d’alerte en cas de dysfonctionnements afférents à la charge de travail, à\\nl'amplitude des journées de travail et à l'équilibre entre vie privée/vie professionnelle\",\n",
    " 'Article 10. Dispositions finales',\n",
    " 'Article 10.1 : Durée - Entrée en vigueur',\n",
    " 'Article 10.2 : Révision - Dénonciation',\n",
    " 'Article 10.3 : Dépôt - Publicité',\n",
    " 'Pour Eurofins Labazur Guyane']"
   ]
  },
  {
   "cell_type": "code",
   "execution_count": null,
   "id": "7bb2c06a-2d99-4be5-8b45-d9edbca12e80",
   "metadata": {},
   "outputs": [],
   "source": [
    "from Levenshtein import distance\n",
    "\n",
    "\n",
    "string2 = \"Dépot - Publicité\"\n",
    "\n",
    "print(min([(distance(string1, string2),string1) for string1 in list_of_titles]))"
   ]
  },
  {
   "cell_type": "code",
   "execution_count": null,
   "id": "0649b4e2-2b91-4302-b40f-4cc0fce889b0",
   "metadata": {},
   "outputs": [],
   "source": [
    "list_of_labeled_titles=[\n",
    "\"ACCORD D�ENTREPRISE RELATIF AU\\nFORFAIT ANNUEL EN JOURS\",\n",
    "\"PREAMBULE\",\n",
    "\"Article 1.      Champ d�application\",\n",
    "\"Article 2.      Salari�s concern�s\",\n",
    "\"Article 3.      Dur�e annuelle du travail d�compt�e en jours\",\n",
    "\"Article 4.      Conclusion d�une convention individuelle avec chaque salari� concern�\",\n",
    "\"Article 5.      Forfait annuel en jours � r�duit �\",\n",
    "\"Article 6.      Impact des absences et arriv�es/d�parts en cours de p�riode\",\n",
    "\"Article 7.      R�mun�ration des salari�s\",\n",
    "\"Article 8.      Garanties applicables au forfait annuel en jours et droit � la d�connexion\",\n",
    "\"Article 9.      Suivi de la charge de travail et contr�le du nombre de jours travaill�s\",\n",
    "\"Article 10. Dispositions finales\",\n",
    "\"Article 10.1 : Dur�e - Entr�e en vigueur\",\n",
    "\"Article 10.2 : R�vision - D�nonciation\",\n",
    "\"Article 10.3 : D�p�t - Publicit�\"\n",
    "]"
   ]
  },
  {
   "cell_type": "code",
   "execution_count": null,
   "id": "e8519a88-b6e7-46bf-8480-f8fd5cb45fba",
   "metadata": {},
   "outputs": [],
   "source": [
    "for label in list_of_labeled_titles:\n",
    "    print(min([(distance(string1, label),string1) for string1 in list_of_titles]))"
   ]
  },
  {
   "cell_type": "code",
   "execution_count": null,
   "id": "9dc7381d-7bfd-4f8e-8cb1-8ab3aa56ed05",
   "metadata": {},
   "outputs": [],
   "source": [
    "from nltk import edit_distance\n",
    "\n",
    "str1 = 'Article 8.      Garanties applicables au forfait annuel en jours et droit � la d�connexion'\n",
    "str2 = 'Article 8.Garanties applicables au forfait annuel en jours et droit à la déconnexion'\n",
    "edit_dist  = edit_distance(str1,str2)\n",
    "print(edit_dist)\n",
    "len_total = len(str1)+len(str2)\n",
    "pct_edit_dist = ((len_total-edit_dist)/len_total)*100\n",
    "print(pct_edit_dist)"
   ]
  },
  {
   "cell_type": "code",
   "execution_count": null,
   "id": "cd60d4ef-71c7-4599-8ead-bbe26fb917b3",
   "metadata": {},
   "outputs": [],
   "source": [
    "from fuzzywuzzy import fuzz\n",
    "from fuzzywuzzy import process\n",
    "\n",
    "str1 = 'Article 8.      Garanties applicables au forfait annuel en jours et droit � la d�connexion'\n",
    "str2 = 'Article 8.Garanties applicables au forfait annuel en jours et droit à la déconnexion'\n",
    "fuzz.ratio(str1,str2)"
   ]
  }
 ],
 "metadata": {
  "kernelspec": {
   "display_name": "Python 3 (ipykernel)",
   "language": "python",
   "name": "python3"
  },
  "language_info": {
   "codemirror_mode": {
    "name": "ipython",
    "version": 3
   },
   "file_extension": ".py",
   "mimetype": "text/x-python",
   "name": "python",
   "nbconvert_exporter": "python",
   "pygments_lexer": "ipython3",
   "version": "3.11.4"
  }
 },
 "nbformat": 4,
 "nbformat_minor": 5
}
