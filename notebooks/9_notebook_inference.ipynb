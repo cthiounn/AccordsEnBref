{
 "cells": [
  {
   "cell_type": "code",
   "execution_count": null,
   "id": "1adf3f87-85a0-49ce-bf4a-acf497bf769c",
   "metadata": {},
   "outputs": [],
   "source": [
    "!python -m pip install --user -r ../requirements.txt"
   ]
  },
  {
   "cell_type": "code",
   "execution_count": null,
   "id": "3db1ce41-323d-4b3e-9683-5b7ae7218df7",
   "metadata": {},
   "outputs": [],
   "source": [
    "!python -m pip install --user  opencv-python-headless"
   ]
  },
  {
   "cell_type": "code",
   "execution_count": null,
   "id": "e17f8b07-7947-4573-a01a-3c9fed191ff7",
   "metadata": {},
   "outputs": [],
   "source": [
    "!python -m pip install --user  opencv-python-headless\n",
    "!python -m pip install --user layoutparser # Install the base layoutparser library with\n",
    "!python -m pip install --user  \"layoutparser[layoutmodels]\" # Install DL layout model toolkit\n",
    "!python -m pip install --user \"layoutparser[ocr]\" # Install OCR toolkit"
   ]
  },
  {
   "cell_type": "code",
   "execution_count": null,
   "id": "e53f4158-a7b7-4f35-8954-2c8beca3ee5b",
   "metadata": {},
   "outputs": [],
   "source": [
    "!python -m pip install --user pyarrow"
   ]
  },
  {
   "cell_type": "code",
   "execution_count": null,
   "id": "f3b0b9a9-6897-4295-8552-3f7b08976c90",
   "metadata": {},
   "outputs": [],
   "source": [
    "!python -m pip install --user 'git+https://github.com/facebookresearch/detectron2.git'"
   ]
  },
  {
   "cell_type": "code",
   "execution_count": null,
   "id": "08d51276-7708-4669-97d4-08a78ad5b87f",
   "metadata": {},
   "outputs": [],
   "source": [
    "!sudo apt-get update"
   ]
  },
  {
   "cell_type": "code",
   "execution_count": null,
   "id": "03e710e2-8bfd-43db-a711-378919afb9d0",
   "metadata": {},
   "outputs": [],
   "source": [
    "!sudo apt install --yes libgl1 libgl1-mesa-glx libglib2.0-0"
   ]
  },
  {
   "cell_type": "code",
   "execution_count": null,
   "id": "9d460c6f-ec84-4504-b1fb-0b24a3b48996",
   "metadata": {},
   "outputs": [],
   "source": [
    "!pip install \"Pillow<=9.5.0\""
   ]
  },
  {
   "cell_type": "markdown",
   "id": "b81f625a-960b-4be1-a706-c3c6489ef1cb",
   "metadata": {},
   "source": [
    "* restart kernel here"
   ]
  },
  {
   "cell_type": "code",
   "execution_count": null,
   "id": "24835eee-696e-41b8-9d39-1f01d6be3bc6",
   "metadata": {},
   "outputs": [],
   "source": [
    "import layoutparser as lp\n",
    "import cv2\n",
    "import numpy as np\n",
    "import pdf2image\n",
    "import os\n",
    "from PIL import Image\n",
    "import json\n",
    "import pandas as pd"
   ]
  },
  {
   "cell_type": "code",
   "execution_count": null,
   "id": "c039ab71-a722-488b-a91b-0448327fa5e1",
   "metadata": {},
   "outputs": [],
   "source": [
    "PATH_OF_THE_PDF=\"echantillon/\"\n",
    "NAME_OF_THE_PDF_TO_READ=\"T06319001085-42943397200016.pdf\"\n",
    "TESSERACT_LANGUAGE=\"fra\"\n",
    "SHOW_IMAGE=False\n",
    "SHOW_ZOOM_TITLE=True\n",
    "PRINT_DETECTED_TITLE=True"
   ]
  },
  {
   "cell_type": "code",
   "execution_count": null,
   "id": "4106842f-5e2f-4f29-b37d-742206c073b8",
   "metadata": {},
   "outputs": [],
   "source": [
    "model = lp.models.Detectron2LayoutModel(\n",
    "    config_path =\"../config.yaml\",\n",
    "    model_path =\"../model_final.pth\",\n",
    "    extra_config=[\"MODEL.ROI_HEADS.SCORE_THRESH_TEST\", 0.5],\n",
    "    label_map={3: \"Text\", 4: \"Title\", 1: \"List\", 2: \"Table\", 0: \"Figure\"},\n",
    ")"
   ]
  },
  {
   "cell_type": "code",
   "execution_count": null,
   "id": "d8a267e4-be06-4e11-824e-bfd61bbf3cb5",
   "metadata": {},
   "outputs": [],
   "source": [
    "def pdf_to_img(pdf_file):\n",
    "    return pdf2image.convert_from_path(\n",
    "        pdf_file, grayscale=False, thread_count=os.cpu_count()\n",
    "    )"
   ]
  },
  {
   "cell_type": "code",
   "execution_count": null,
   "id": "87fee9b9-6988-4660-8866-082adfd713fa",
   "metadata": {},
   "outputs": [],
   "source": [
    "all_images = pdf_to_img(PATH_OF_THE_PDF+NAME_OF_THE_PDF_TO_READ)\n",
    "list_of_titles=[]\n",
    "list_of_subtitles=[]\n",
    "for i,one_image in enumerate(all_images):\n",
    "    one_image_np = np.asarray(one_image)\n",
    "    layout = model.detect(one_image_np)\n",
    "    if SHOW_IMAGE:\n",
    "        lp.draw_box(one_image_np, layout, box_width=3, show_element_type=True).show()\n",
    "    title_blocks = lp.Layout([b for b in layout if b.type == \"Title\"])\n",
    "    ocr_agent = lp.TesseractAgent(languages=TESSERACT_LANGUAGE)\n",
    "    for block in title_blocks.sort(key=lambda x: x.coordinates[1]):\n",
    "        segment_image = block.pad(left=20, right=20, top=20, bottom=20).crop_image(one_image_np)\n",
    "        if SHOW_ZOOM_TITLE:\n",
    "            Image.fromarray(segment_image).show()\n",
    "        # add padding in each image segment can help\n",
    "        # improve robustness\n",
    "    \n",
    "        text = ocr_agent.detect(segment_image).replace(\"\\n\",\" \").replace(\"  \",\"\")\n",
    "        block.set(text=text, inplace=True)\n",
    "        if i==0:\n",
    "            list_of_titles.append(text)\n",
    "        else:\n",
    "            list_of_subtitles.append(text)\n",
    "        if PRINT_DETECTED_TITLE:\n",
    "            print(text)\n",
    "\n",
    "    if len(all_images)==1 and list_of_titles:\n",
    "        list_of_subtitles=list_of_titles[1:]+list_of_subtitles\n",
    "        list_of_titles=[list_of_titles[0]]"
   ]
  },
  {
   "cell_type": "code",
   "execution_count": null,
   "id": "05d1dacf-6874-465a-95d0-21bb08026b47",
   "metadata": {},
   "outputs": [],
   "source": [
    "list_of_titles=list(map(lambda x: x.replace(\"\\x0c\",\"\"),list_of_titles))\n",
    "list_of_subtitles=list(map(lambda x: x.replace(\"\\x0c\",\"\"),list_of_subtitles))"
   ]
  },
  {
   "cell_type": "code",
   "execution_count": null,
   "id": "44034560-2860-4abd-8d10-fa9eaa16bfa0",
   "metadata": {},
   "outputs": [],
   "source": [
    "list_of_titles"
   ]
  },
  {
   "cell_type": "markdown",
   "id": "2f99f58e-71c3-4af1-8184-ff9914e67199",
   "metadata": {},
   "source": [
    "# Write result files Part"
   ]
  },
  {
   "cell_type": "code",
   "execution_count": null,
   "id": "5838e90c-924a-45e8-8606-d1ce7f06e665",
   "metadata": {},
   "outputs": [],
   "source": [
    "!mkdir result"
   ]
  },
  {
   "cell_type": "code",
   "execution_count": null,
   "id": "a6f3b3c8-32e9-41b7-bb8b-7f61ccc8607f",
   "metadata": {},
   "outputs": [],
   "source": [
    "OUTPUT_FILE_PARQUET = \"Dares_accords_docx_sommaire_result.parquet\""
   ]
  },
  {
   "cell_type": "code",
   "execution_count": null,
   "id": "85c7526b-aed8-40e5-b0cd-b09a313e97f9",
   "metadata": {},
   "outputs": [],
   "source": [
    "df = pd.DataFrame(columns=[\"num_dossier\", \"sommaire_result\"],dtype=object)\n",
    "for file in os.listdir(PATH_OF_THE_PDF):\n",
    "    if file.endswith(\".pdf\"):\n",
    "        all_images = pdf_to_img(PATH_OF_THE_PDF+file)\n",
    "        list_of_titles=[]\n",
    "        list_of_subtitles=[]\n",
    "        for i,one_image in enumerate(all_images):\n",
    "            one_image_np = np.asarray(one_image)\n",
    "            layout = model.detect(one_image_np)\n",
    "            title_blocks = lp.Layout([b for b in layout if b.type == \"Title\"])\n",
    "            ocr_agent = lp.TesseractAgent(languages=TESSERACT_LANGUAGE)\n",
    "            for block in title_blocks.sort(key=lambda x: x.coordinates[1]):\n",
    "                segment_image = block.pad(left=20, right=20, top=20, bottom=20).crop_image(one_image_np)\n",
    "                text = ocr_agent.detect(segment_image).replace(\"\\n\",\" \").replace(\"  \",\"\")\n",
    "                block.set(text=text, inplace=True)\n",
    "                if i==0:\n",
    "                    list_of_titles.append(text)\n",
    "                else:\n",
    "                    list_of_subtitles.append(text)\n",
    "\n",
    "        if len(all_images)==1 and list_of_titles:\n",
    "            list_of_subtitles=list_of_titles[1:]+list_of_subtitles\n",
    "            list_of_titles=[list_of_titles[0]]\n",
    "            \n",
    "        list_of_titles=list(map(lambda x: x.replace(\"\\x0c\",\"\"),list_of_titles))\n",
    "        list_of_subtitles=list(map(lambda x: x.replace(\"\\x0c\",\"\"),list_of_subtitles))\n",
    "        contenu_fichier=\" \".join(list_of_titles)+\"\\n-----\\n\"+\"\\n\".join(list_of_subtitles)\n",
    "        with open(f\"result/{file}\".replace(\".pdf\",\".txt\"),\"w\") as file_to_write:\n",
    "            file_to_write.write(contenu_fichier)\n",
    "        new_line = [num_dossier] + [\n",
    "            contenu_fichier\n",
    "        ] \n",
    "        try:\n",
    "            new_line = {\n",
    "                \"num_dossier\": new_line[0],\n",
    "                \"sommaire_result\": new_line[1],\n",
    "                \"index\" : [i]\n",
    "            }\n",
    "        except:\n",
    "            print(f\"bug {num_dossier}\")\n",
    "            \n",
    "        \n",
    "        df_new_row = pd.DataFrame.from_records(data=new_line)\n",
    "        df = pd.concat([df, df_new_row])\n",
    "df=df.set_index(\"num_dossier\").drop(columns=[\"index\"])\n",
    "df.to_parquet(OUTPUT_FILE_PARQUET)"
   ]
  }
 ],
 "metadata": {
  "kernelspec": {
   "display_name": "Python 3 (ipykernel)",
   "language": "python",
   "name": "python3"
  },
  "language_info": {
   "codemirror_mode": {
    "name": "ipython",
    "version": 3
   },
   "file_extension": ".py",
   "mimetype": "text/x-python",
   "name": "python",
   "nbconvert_exporter": "python",
   "pygments_lexer": "ipython3",
   "version": "3.11.4"
  }
 },
 "nbformat": 4,
 "nbformat_minor": 5
}
