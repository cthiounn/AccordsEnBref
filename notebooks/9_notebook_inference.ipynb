{
 "cells": [
  {
   "cell_type": "code",
   "execution_count": null,
   "id": "1adf3f87-85a0-49ce-bf4a-acf497bf769c",
   "metadata": {},
   "outputs": [],
   "source": [
    "!python -m pip install --user -r ../requirements.txt"
   ]
  },
  {
   "cell_type": "code",
   "execution_count": null,
   "id": "3db1ce41-323d-4b3e-9683-5b7ae7218df7",
   "metadata": {},
   "outputs": [],
   "source": [
    "!python -m pip install --user  opencv-python-headless"
   ]
  },
  {
   "cell_type": "code",
   "execution_count": null,
   "id": "e17f8b07-7947-4573-a01a-3c9fed191ff7",
   "metadata": {},
   "outputs": [],
   "source": [
    "!python -m pip install --user  opencv-python-headless\n",
    "!python -m pip install --user layoutparser # Install the base layoutparser library with\n",
    "!python -m pip install --user  \"layoutparser[layoutmodels]\" # Install DL layout model toolkit\n",
    "!python -m pip install --user \"layoutparser[ocr]\" # Install OCR toolkit"
   ]
  },
  {
   "cell_type": "code",
   "execution_count": null,
   "id": "f3b0b9a9-6897-4295-8552-3f7b08976c90",
   "metadata": {},
   "outputs": [],
   "source": [
    "!python -m pip install --user 'git+https://github.com/facebookresearch/detectron2.git'"
   ]
  },
  {
   "cell_type": "code",
   "execution_count": null,
   "id": "08d51276-7708-4669-97d4-08a78ad5b87f",
   "metadata": {},
   "outputs": [],
   "source": [
    "!sudo apt-get update"
   ]
  },
  {
   "cell_type": "code",
   "execution_count": null,
   "id": "03e710e2-8bfd-43db-a711-378919afb9d0",
   "metadata": {},
   "outputs": [],
   "source": [
    "!sudo apt install --yes libgl1 libgl1-mesa-glx libglib2.0-0"
   ]
  },
  {
   "cell_type": "code",
   "execution_count": null,
   "id": "9d460c6f-ec84-4504-b1fb-0b24a3b48996",
   "metadata": {},
   "outputs": [],
   "source": [
    "!pip install \"Pillow<=9.5.0\""
   ]
  },
  {
   "cell_type": "markdown",
   "id": "b81f625a-960b-4be1-a706-c3c6489ef1cb",
   "metadata": {},
   "source": [
    "* restart kernel here"
   ]
  },
  {
   "cell_type": "code",
   "execution_count": null,
   "id": "24835eee-696e-41b8-9d39-1f01d6be3bc6",
   "metadata": {},
   "outputs": [],
   "source": [
    "import layoutparser as lp\n",
    "import cv2\n",
    "import numpy as np\n",
    "import pdf2image\n",
    "import os\n",
    "from PIL import Image\n",
    "import json"
   ]
  },
  {
   "cell_type": "code",
   "execution_count": null,
   "id": "c039ab71-a722-488b-a91b-0448327fa5e1",
   "metadata": {},
   "outputs": [],
   "source": [
    "PATH_OF_THE_PDF=\"../echantillon/\"\n",
    "NAME_OF_THE_PDF_TO_READ=\"T97322000546-43301619300016.pdf\"\n",
    "TESSERACT_LANGUAGE=\"fra\"\n",
    "SHOW_IMAGE=False\n",
    "SHOW_ZOOM_TITLE=True\n",
    "PRINT_DETECTED_TITLE=False"
   ]
  },
  {
   "cell_type": "code",
   "execution_count": null,
   "id": "4106842f-5e2f-4f29-b37d-742206c073b8",
   "metadata": {},
   "outputs": [],
   "source": [
    "model = lp.models.Detectron2LayoutModel(\n",
    "    config_path =\"../config.yaml\",\n",
    "    model_path =\"../model_final.pth\",\n",
    "    extra_config=[\"MODEL.ROI_HEADS.SCORE_THRESH_TEST\", 0.5],\n",
    "    label_map={3: \"Text\", 4: \"Title\", 1: \"List\", 2: \"Table\", 0: \"Figure\"},\n",
    ")"
   ]
  },
  {
   "cell_type": "code",
   "execution_count": null,
   "id": "d8a267e4-be06-4e11-824e-bfd61bbf3cb5",
   "metadata": {},
   "outputs": [],
   "source": [
    "def pdf_to_img(pdf_file):\n",
    "    return pdf2image.convert_from_path(\n",
    "        pdf_file, grayscale=False, thread_count=os.cpu_count()\n",
    "    )"
   ]
  },
  {
   "cell_type": "code",
   "execution_count": null,
   "id": "87fee9b9-6988-4660-8866-082adfd713fa",
   "metadata": {},
   "outputs": [],
   "source": [
    "all_images = pdf_to_img(PATH_OF_THE_PDF+NAME_OF_THE_PDF_TO_READ)\n",
    "list_of_titles=[]\n",
    "for one_image in all_images:\n",
    "    one_image_np = np.asarray(one_image)\n",
    "    layout = model.detect(one_image_np)\n",
    "    if SHOW_IMAGE:\n",
    "        lp.draw_box(one_image_np, layout, box_width=3, show_element_type=True).show()\n",
    "    title_blocks = lp.Layout([b for b in layout if b.type == \"Title\"])\n",
    "    ocr_agent = lp.TesseractAgent(languages=TESSERACT_LANGUAGE)\n",
    "    for block in title_blocks.sort(key=lambda x: x.coordinates[1]):\n",
    "        segment_image = block.pad(left=20, right=20, top=20, bottom=20).crop_image(one_image_np)\n",
    "        if SHOW_ZOOM_TITLE:\n",
    "            Image.fromarray(segment_image).show()\n",
    "        # add padding in each image segment can help\n",
    "        # improve robustness\n",
    "    \n",
    "        text = ocr_agent.detect(segment_image)\n",
    "        block.set(text=text, inplace=True)\n",
    "        list_of_titles.append(text)\n",
    "        if PRINT_DETECTED_TITLE:\n",
    "            print(txt)"
   ]
  },
  {
   "cell_type": "code",
   "execution_count": null,
   "id": "05d1dacf-6874-465a-95d0-21bb08026b47",
   "metadata": {},
   "outputs": [],
   "source": [
    "list_of_titles=list(map(lambda x: x.replace(\"\\n\\x0c\",\"\"),list_of_titles))"
   ]
  },
  {
   "cell_type": "code",
   "execution_count": null,
   "id": "44034560-2860-4abd-8d10-fa9eaa16bfa0",
   "metadata": {},
   "outputs": [],
   "source": [
    "list_of_titles"
   ]
  }
 ],
 "metadata": {
  "kernelspec": {
   "display_name": "Python 3 (ipykernel)",
   "language": "python",
   "name": "python3"
  },
  "language_info": {
   "codemirror_mode": {
    "name": "ipython",
    "version": 3
   },
   "file_extension": ".py",
   "mimetype": "text/x-python",
   "name": "python",
   "nbconvert_exporter": "python",
   "pygments_lexer": "ipython3",
   "version": "3.11.4"
  }
 },
 "nbformat": 4,
 "nbformat_minor": 5
}
