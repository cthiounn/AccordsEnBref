{
 "cells": [
  {
   "cell_type": "code",
   "execution_count": null,
   "id": "ae6c4355-ec04-401f-b3e2-100f17bb06d0",
   "metadata": {},
   "outputs": [],
   "source": [
    "!pip install -q fuzzywuzzy python-Levenshtein Levenshtein nltk pandas pyarrow seaborn"
   ]
  },
  {
   "cell_type": "code",
   "execution_count": null,
   "id": "843c9ec6-49a3-4616-a726-a5337fe0104c",
   "metadata": {},
   "outputs": [],
   "source": [
    "import pandas as pd\n",
    "import seaborn as sns\n",
    "from Levenshtein import distance\n",
    "from fuzzywuzzy import fuzz\n",
    "from fuzzywuzzy import process\n",
    "from nltk import edit_distance\n",
    "import os\n",
    "\n",
    "def compute_Levensthein_sim(str1,str2):\n",
    "    edit_dist  = edit_distance(str1,str2)\n",
    "    len_total = max(len(str1),len(str2))\n",
    "    return ((len_total-edit_dist)/len_total)*100\n",
    "\n",
    "def match_part(x,index):\n",
    "    return x.str.split(\"-----\")[0][index-1] if len(x.str.split(\"-----\")[0])>=index  else None\n",
    "\n"
   ]
  },
  {
   "cell_type": "code",
   "execution_count": null,
   "id": "4ce1a474-ceaf-48fd-8217-9d4fd000ceb0",
   "metadata": {},
   "outputs": [],
   "source": [
    "PATH_TO_FILE=\"../../resultats_stage/\"\n",
    "FILENAME_INPUT_RESULTS=\"Dares_1Kaccords_dataset_txt_label_result.parquet\""
   ]
  },
  {
   "cell_type": "code",
   "execution_count": null,
   "id": "e5a3539f-3d27-464d-8547-25c0a4384b92",
   "metadata": {},
   "outputs": [],
   "source": [
    "df_results=pd.read_parquet(os.path.join(PATH_TO_FILE,FILENAME_INPUT_RESULTS))"
   ]
  },
  {
   "cell_type": "code",
   "execution_count": null,
   "id": "bd24a339-8bc5-4517-b233-c532d0e5db35",
   "metadata": {},
   "outputs": [],
   "source": [
    "df_results[\"titre_label\"]=df_results[['label']].apply(lambda x : match_part(x,1),axis=1)\n",
    "df_results[\"corps_label\"]=df_results[['label']].apply(lambda x : match_part(x,2) ,axis=1)\n",
    "df_results[\"annexe_label\"]=df_results[['label']].apply(lambda x : match_part(x,3),axis=1)\n",
    "df_results[\"titre_result_1a\"]=df_results[['result_1a']].apply(lambda x : match_part(x,1),axis=1)\n",
    "df_results[\"corps_result_1a\"]=df_results[['result_1a']].apply(lambda x : match_part(x,2) ,axis=1)\n",
    "df_results[\"titre_result_1b\"]=df_results[['result_1b']].apply(lambda x : match_part(x,1),axis=1)\n",
    "df_results[\"corps_result_1b\"]=df_results[['result_1b']].apply(lambda x : match_part(x,2) ,axis=1)\n",
    "df_results[\"titre_1a_Levensthein\"]=df_results[[\"titre_label\",\"titre_result_1a\"]].apply(lambda x :distance(*x),axis=1)\n",
    "df_results[\"titre_1a_Levensthein_sim\"]=df_results[[\"titre_label\",\"titre_result_1a\"]].apply(lambda x :compute_Levensthein_sim(*x),axis=1)\n",
    "df_results[\"titre_1a_fuzz_ratio\"]=df_results[[\"titre_label\",\"titre_result_1a\"]].apply(lambda x :fuzz.ratio(*x),axis=1)\n",
    "df_results[\"titre_1a_fuzz_partial_ratio\"]=df_results[[\"titre_label\",\"titre_result_1a\"]].apply(lambda x :fuzz.partial_ratio(*x),axis=1)\n",
    "df_results[\"titre_1b_Levensthein\"]=df_results[[\"titre_label\",\"titre_result_1b\"]].apply(lambda x :distance(*x),axis=1)\n",
    "df_results[\"titre_1b_Levensthein_sim\"]=df_results[[\"titre_label\",\"titre_result_1b\"]].apply(lambda x :compute_Levensthein_sim(*x),axis=1)\n",
    "df_results[\"titre_1b_fuzz_ratio\"]=df_results[[\"titre_label\",\"titre_result_1b\"]].apply(lambda x :fuzz.ratio(*x),axis=1)\n",
    "df_results[\"titre_1b_fuzz_partial_ratio\"]=df_results[[\"titre_label\",\"titre_result_1b\"]].apply(lambda x :fuzz.partial_ratio(*x),axis=1)"
   ]
  },
  {
   "cell_type": "code",
   "execution_count": null,
   "id": "85ba7704-b0cb-475e-a0be-59e11a0e4f08",
   "metadata": {},
   "outputs": [],
   "source": [
    "sns.displot(df_results[[\"titre_1a_fuzz_partial_ratio\",\"titre_1a_fuzz_ratio\",\"titre_1a_Levensthein_sim\"]],multiple=\"dodge\",kde=True,bins=10)"
   ]
  },
  {
   "cell_type": "code",
   "execution_count": null,
   "id": "4050158c-4d43-4799-8610-5dca8dd22650",
   "metadata": {},
   "outputs": [],
   "source": [
    "sns.displot(df_results[[\"titre_1a_fuzz_partial_ratio\",\"titre_1b_fuzz_partial_ratio\"]],multiple=\"dodge\",kde=True,bins=10)"
   ]
  },
  {
   "cell_type": "code",
   "execution_count": null,
   "id": "bfb3c4da-8144-42ee-a493-f7aec5cb738c",
   "metadata": {},
   "outputs": [],
   "source": [
    "sns.displot(df_results[[\"titre_1a_fuzz_ratio\",\"titre_1b_fuzz_ratio\"]],multiple=\"dodge\",kde=True,bins=10)"
   ]
  },
  {
   "cell_type": "code",
   "execution_count": null,
   "id": "75ee0879-a5e8-4477-aced-189b2b400507",
   "metadata": {},
   "outputs": [],
   "source": [
    "sns.displot(df_results[[\"titre_1a_Levensthein_sim\",\"titre_1b_Levensthein_sim\"]],multiple=\"dodge\",kde=True,bins=10)"
   ]
  },
  {
   "cell_type": "code",
   "execution_count": null,
   "id": "345b4923-eb66-4258-8211-6b2ac8b66db4",
   "metadata": {},
   "outputs": [],
   "source": [
    "df_results[df_results[\"titre_1a_Levensthein_sim\"].between(80,100)][[\"titre_label\",\"titre_result_1a\",\"result_1a\",\"titre_1a_Levensthein_sim\",\"titre_1a_fuzz_ratio\",\"titre_result_1b\",\"result_1b\",\"titre_1b_Levensthein_sim\"]]"
   ]
  }
 ],
 "metadata": {
  "kernelspec": {
   "display_name": "Python 3 (ipykernel)",
   "language": "python",
   "name": "python3"
  },
  "language_info": {
   "codemirror_mode": {
    "name": "ipython",
    "version": 3
   },
   "file_extension": ".py",
   "mimetype": "text/x-python",
   "name": "python",
   "nbconvert_exporter": "python",
   "pygments_lexer": "ipython3",
   "version": "3.11.4"
  }
 },
 "nbformat": 4,
 "nbformat_minor": 5
}
