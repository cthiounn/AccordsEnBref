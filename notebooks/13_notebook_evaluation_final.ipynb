{
 "cells": [
  {
   "cell_type": "code",
   "execution_count": null,
   "id": "ae6c4355-ec04-401f-b3e2-100f17bb06d0",
   "metadata": {},
   "outputs": [],
   "source": [
    "!pip install -q fuzzywuzzy python-Levenshtein Levenshtein nltk pandas pyarrow seaborn"
   ]
  },
  {
   "cell_type": "code",
   "execution_count": null,
   "id": "843c9ec6-49a3-4616-a726-a5337fe0104c",
   "metadata": {},
   "outputs": [],
   "source": [
    "import pandas as pd\n",
    "import seaborn as sns\n",
    "from Levenshtein import distance\n",
    "from fuzzywuzzy import fuzz\n",
    "from fuzzywuzzy import process\n",
    "from nltk import edit_distance\n",
    "import matplotlib.pyplot as plt\n",
    "import numpy as np\n",
    "import os\n",
    "\n",
    "def compute_Levensthein_sim(str1,str2):\n",
    "    edit_dist  = edit_distance(str1,str2)\n",
    "    len_total = max(len(str1),len(str2))\n",
    "    return ((len_total-edit_dist)/len_total)*100\n",
    "\n",
    "def match_part(x,index):\n",
    "    return x.str.split(\"-----\")[0][index-1] if len(x.str.split(\"-----\")[0])>=index  else None\n",
    "\n"
   ]
  },
  {
   "cell_type": "code",
   "execution_count": null,
   "id": "4ce1a474-ceaf-48fd-8217-9d4fd000ceb0",
   "metadata": {},
   "outputs": [],
   "source": [
    "PATH_TO_FILE=\"../../resultats_stage/\"\n",
    "FILENAME_INPUT_RESULTS=\"Dares_1Kaccords_dataset_txt_label_result.parquet\""
   ]
  },
  {
   "cell_type": "code",
   "execution_count": null,
   "id": "e5a3539f-3d27-464d-8547-25c0a4384b92",
   "metadata": {},
   "outputs": [],
   "source": [
    "df_results=pd.read_parquet(os.path.join(PATH_TO_FILE,FILENAME_INPUT_RESULTS))"
   ]
  },
  {
   "cell_type": "code",
   "execution_count": null,
   "id": "bd24a339-8bc5-4517-b233-c532d0e5db35",
   "metadata": {},
   "outputs": [],
   "source": [
    "df_results[\"titre_label\"]=df_results[['label']].apply(lambda x : match_part(x,1),axis=1)\n",
    "df_results[\"corps_label\"]=df_results[['label']].apply(lambda x : match_part(x,2) ,axis=1)\n",
    "df_results[\"annexe_label\"]=df_results[['label']].apply(lambda x : match_part(x,3),axis=1)\n",
    "df_results[\"titre_result_1a\"]=df_results[['result_1a']].apply(lambda x : match_part(x,1),axis=1)\n",
    "df_results[\"corps_result_1a\"]=df_results[['result_1a']].apply(lambda x : match_part(x,2) ,axis=1)\n",
    "df_results[\"titre_result_1b\"]=df_results[['result_1b']].apply(lambda x : match_part(x,1),axis=1)\n",
    "df_results[\"corps_result_1b\"]=df_results[['result_1b']].apply(lambda x : match_part(x,2) ,axis=1)\n",
    "df_results[\"titre_1a_Levensthein\"]=df_results[[\"titre_label\",\"titre_result_1a\"]].apply(lambda x :distance(*x),axis=1)\n",
    "df_results[\"titre_1a_Levensthein_sim\"]=df_results[[\"titre_label\",\"titre_result_1a\"]].apply(lambda x :compute_Levensthein_sim(*x),axis=1)\n",
    "df_results[\"titre_1a_fuzz_ratio\"]=df_results[[\"titre_label\",\"titre_result_1a\"]].apply(lambda x :fuzz.ratio(*x),axis=1)\n",
    "df_results[\"titre_1a_fuzz_partial_ratio\"]=df_results[[\"titre_label\",\"titre_result_1a\"]].apply(lambda x :fuzz.partial_ratio(*x),axis=1)\n",
    "df_results[\"titre_1b_Levensthein\"]=df_results[[\"titre_label\",\"titre_result_1b\"]].apply(lambda x :distance(*x),axis=1)\n",
    "df_results[\"titre_1b_Levensthein_sim\"]=df_results[[\"titre_label\",\"titre_result_1b\"]].apply(lambda x :compute_Levensthein_sim(*x),axis=1)\n",
    "df_results[\"titre_1b_fuzz_ratio\"]=df_results[[\"titre_label\",\"titre_result_1b\"]].apply(lambda x :fuzz.ratio(*x),axis=1)\n",
    "df_results[\"titre_1b_fuzz_partial_ratio\"]=df_results[[\"titre_label\",\"titre_result_1b\"]].apply(lambda x :fuzz.partial_ratio(*x),axis=1)"
   ]
  },
  {
   "cell_type": "code",
   "execution_count": null,
   "id": "85ba7704-b0cb-475e-a0be-59e11a0e4f08",
   "metadata": {},
   "outputs": [],
   "source": [
    "sns.displot(df_results[[\"titre_1a_fuzz_partial_ratio\",\"titre_1a_fuzz_ratio\",\"titre_1a_Levensthein_sim\"]],multiple=\"dodge\",kde=True,bins=10)"
   ]
  },
  {
   "cell_type": "code",
   "execution_count": null,
   "id": "4050158c-4d43-4799-8610-5dca8dd22650",
   "metadata": {},
   "outputs": [],
   "source": [
    "sns.displot(df_results[[\"titre_1a_fuzz_partial_ratio\",\"titre_1b_fuzz_partial_ratio\"]],multiple=\"dodge\",kde=True,bins=10)"
   ]
  },
  {
   "cell_type": "code",
   "execution_count": null,
   "id": "bfb3c4da-8144-42ee-a493-f7aec5cb738c",
   "metadata": {},
   "outputs": [],
   "source": [
    "sns.displot(df_results[[\"titre_1a_fuzz_ratio\",\"titre_1b_fuzz_ratio\"]],multiple=\"dodge\",kde=True,bins=10)"
   ]
  },
  {
   "cell_type": "code",
   "execution_count": null,
   "id": "75ee0879-a5e8-4477-aced-189b2b400507",
   "metadata": {},
   "outputs": [],
   "source": [
    "sns.displot(df_results[[\"titre_1a_Levensthein_sim\",\"titre_1b_Levensthein_sim\"]],multiple=\"dodge\",kde=True,bins=10)"
   ]
  },
  {
   "cell_type": "code",
   "execution_count": null,
   "id": "345b4923-eb66-4258-8211-6b2ac8b66db4",
   "metadata": {},
   "outputs": [],
   "source": [
    "df_results[df_results[\"titre_1a_Levensthein_sim\"].between(31,40)][[\"titre_label\",\"titre_result_1a\",\"result_1a\",\"titre_1a_Levensthein_sim\",\"titre_1a_fuzz_ratio\",\"titre_result_1b\",\"result_1b\",\"titre_1b_Levensthein_sim\"]]           "
   ]
  },
  {
   "cell_type": "code",
   "execution_count": null,
   "id": "f0464c57-625e-46d2-9172-4513933bb875",
   "metadata": {},
   "outputs": [],
   "source": [
    "df_results[\"titre_1a_Levensthein_sim_cat\"]=pd.cut(df_results[\"titre_1a_Levensthein_sim\"],[0,20,50,80,100])\n",
    "CATEGORIES = ['Mauvais','Passable','Correct','Excellent']\n",
    "df_results[\"titre_1a_Levensthein_sim_cat\"]=df_results.titre_1a_Levensthein_sim_cat.cat.rename_categories(CATEGORIES)\n",
    "df_results[\"titre_1b_Levensthein_sim_cat\"]=pd.cut(df_results[\"titre_1b_Levensthein_sim\"],[0,20,50,80,100])\n",
    "df_results[\"titre_1b_Levensthein_sim_cat\"]=df_results.titre_1b_Levensthein_sim_cat.cat.rename_categories(CATEGORIES)\n",
    "df_results[\"titre_1a_fuzz_ratio_cat\"]=pd.cut(df_results[\"titre_1a_fuzz_ratio\"],[0,20,50,80,100])\n",
    "df_results[\"titre_1a_fuzz_ratio_cat\"]=df_results.titre_1a_fuzz_ratio_cat.cat.rename_categories(CATEGORIES)\n",
    "df_results[\"titre_1b_fuzz_ratio_cat\"]=pd.cut(df_results[\"titre_1b_fuzz_ratio\"],[0,20,50,80,100])\n",
    "df_results[\"titre_1b_fuzz_ratio_cat\"]=df_results.titre_1b_fuzz_ratio_cat.cat.rename_categories(CATEGORIES)\n",
    "df_results[\"titre_1a_fuzz_partial_ratio_cat\"]=pd.cut(df_results[\"titre_1a_fuzz_partial_ratio\"],[0,20,50,80,100])\n",
    "df_results[\"titre_1a_fuzz_partial_ratio_cat\"]=df_results.titre_1a_fuzz_partial_ratio_cat.cat.rename_categories(CATEGORIES)\n",
    "df_results[\"titre_1b_fuzz_partial_ratio_cat\"]=pd.cut(df_results[\"titre_1b_fuzz_partial_ratio\"],[0,20,50,80,100])\n",
    "df_results[\"titre_1b_fuzz_partial_ratio_cat\"]=df_results.titre_1b_fuzz_partial_ratio_cat.cat.rename_categories(CATEGORIES)"
   ]
  },
  {
   "cell_type": "code",
   "execution_count": null,
   "id": "4339d447-1387-4b60-86ca-cb171c3c0e96",
   "metadata": {},
   "outputs": [],
   "source": [
    "fig, ax =plt.subplots(1,3,figsize=(10, 5))\n",
    "sns.countplot(x=df_results[\"titre_1a_Levensthein_sim_cat\"],ax=ax[0])\n",
    "sns.countplot(x=df_results[\"titre_1a_fuzz_ratio_cat\"],ax=ax[1])\n",
    "sns.countplot(x=df_results[\"titre_1a_fuzz_partial_ratio_cat\"],ax=ax[2])\n",
    "fig.tight_layout(pad=0.5)\n",
    "\n",
    "\n",
    "fig.show()"
   ]
  },
  {
   "cell_type": "code",
   "execution_count": null,
   "id": "0ac91f2e-49bd-4f8c-a777-d0fa31b4aba0",
   "metadata": {},
   "outputs": [],
   "source": [
    "df_results[df_results[\"titre_1a_fuzz_partial_ratio_cat\"]==\"Excellent\"].shape"
   ]
  },
  {
   "cell_type": "code",
   "execution_count": null,
   "id": "c21a3960-c3e3-422d-bfbc-b628a64c8534",
   "metadata": {},
   "outputs": [],
   "source": [
    "df_results[df_results[\"titre_1b_fuzz_partial_ratio_cat\"]==\"Excellent\"].shape"
   ]
  },
  {
   "cell_type": "code",
   "execution_count": null,
   "id": "4edd5a84-c3df-4056-b62e-d4e59e5ca247",
   "metadata": {},
   "outputs": [],
   "source": [
    "pd.crosstab( df_results.titre_1a_fuzz_ratio_cat,df_results.titre_1a_fuzz_partial_ratio_cat)"
   ]
  },
  {
   "cell_type": "code",
   "execution_count": null,
   "id": "afa3be84-1870-45d3-a69a-57ae4fecfa7b",
   "metadata": {},
   "outputs": [],
   "source": [
    "pd.crosstab( df_results.titre_1a_Levensthein_sim_cat,df_results.titre_1a_fuzz_partial_ratio_cat)"
   ]
  },
  {
   "cell_type": "code",
   "execution_count": null,
   "id": "e4a6af12-30f0-4a3b-b163-ac6e5cd49616",
   "metadata": {},
   "outputs": [],
   "source": [
    "pd.crosstab( df_results.titre_1a_Levensthein_sim_cat,df_results.titre_1a_fuzz_ratio_cat)"
   ]
  },
  {
   "cell_type": "code",
   "execution_count": null,
   "id": "e98da927-b76a-4911-8030-89f729e53f5b",
   "metadata": {},
   "outputs": [],
   "source": [
    "pd.crosstab( df_results.titre_1a_Levensthein_sim_cat,df_results.titre_1b_Levensthein_sim_cat)"
   ]
  },
  {
   "cell_type": "code",
   "execution_count": null,
   "id": "1b90e9f2-0416-4199-83ae-eb4451076d2d",
   "metadata": {},
   "outputs": [],
   "source": [
    "matrix=pd.crosstab( df_results.titre_1a_fuzz_ratio_cat,df_results.titre_1b_fuzz_ratio_cat)"
   ]
  },
  {
   "cell_type": "code",
   "execution_count": null,
   "id": "5a79ca8d-0318-43c8-8a23-52fec2fd25d3",
   "metadata": {},
   "outputs": [],
   "source": [
    "def calculate_sum_over_under_diag_over_matrix(matrix):\n",
    "    rng = np.arange(len(matrix))\n",
    "    ut=matrix.mask(rng[:, None] <= rng).reset_index(drop=True).sum().sum()\n",
    "    diag=np.diag(matrix).sum()\n",
    "    ot=matrix.mask(rng[:, None] >= rng).reset_index(drop=True).sum().sum()\n",
    "    return (ut,diag,ot)"
   ]
  },
  {
   "cell_type": "code",
   "execution_count": null,
   "id": "f1236382-7b2d-4088-9238-90210fed266e",
   "metadata": {},
   "outputs": [],
   "source": [
    "list(map(lambda x: x/10,calculate_sum_over_under_diag_over_matrix(matrix)))"
   ]
  },
  {
   "cell_type": "code",
   "execution_count": null,
   "id": "6ecbfd54-762c-4811-a75d-b7d83b3b1614",
   "metadata": {},
   "outputs": [],
   "source": [
    "fig, ax =plt.subplots(1,3,figsize=(10, 5))\n",
    "sns.countplot(x=df_results[\"titre_1b_Levensthein_sim_cat\"],ax=ax[0])\n",
    "sns.countplot(x=df_results[\"titre_1b_fuzz_ratio_cat\"],ax=ax[1])\n",
    "sns.countplot(x=df_results[\"titre_1b_fuzz_partial_ratio_cat\"],ax=ax[2])\n",
    "fig.tight_layout(pad=0.5)\n",
    "fig.show()"
   ]
  },
  {
   "cell_type": "code",
   "execution_count": null,
   "id": "abd46205-c8ed-4de7-99ca-5936db065f8c",
   "metadata": {},
   "outputs": [],
   "source": [
    "df_results.corps_label"
   ]
  },
  {
   "cell_type": "code",
   "execution_count": null,
   "id": "49c52c1d-0b69-42b1-bb75-bf9120e6b274",
   "metadata": {},
   "outputs": [],
   "source": [
    "\n",
    "df_results[\"corps_result_1a\"]"
   ]
  },
  {
   "cell_type": "code",
   "execution_count": null,
   "id": "8439230e-0e67-4f9e-acc5-d0797156e071",
   "metadata": {},
   "outputs": [],
   "source": [
    "def compare_deux_chaines_corps_compte_manquant_label(label,resultat):\n",
    "    manquant=0\n",
    "    total_item=0\n",
    "    for item in label.split(\"\\n\"):\n",
    "        if item:\n",
    "            total_item+=1\n",
    "            if max([fuzz.partial_ratio(item,item_resultat) for item_resultat in resultat.split(\"\\n\")])<80:\n",
    "                manquant+=1\n",
    "    return (manquant,total_item)"
   ]
  },
  {
   "cell_type": "code",
   "execution_count": null,
   "id": "c9c655ad-ee41-475b-84dc-03ff158501ea",
   "metadata": {},
   "outputs": [],
   "source": [
    "df_results[[\"corps_manquant_1a\",\"total_item\"]]=df_results[[\"corps_label\",\"corps_result_1a\"]].apply(lambda x: compare_deux_chaines_corps_compte_manquant_label(*x),axis=1, result_type=\"expand\")\n",
    "df_results[[\"corps_manquant_1b\",\"total_item\"]]=df_results[[\"corps_label\",\"corps_result_1b\"]].apply(lambda x: compare_deux_chaines_corps_compte_manquant_label(*x),axis=1, result_type=\"expand\")"
   ]
  },
  {
   "cell_type": "code",
   "execution_count": null,
   "id": "3c37e13e-81aa-43f0-8c3a-7df4f804e139",
   "metadata": {},
   "outputs": [],
   "source": [
    "df_results[\"corps_manquant_1a_pct\"]= df_results.corps_manquant_1a*100/df_results.total_item\n",
    "df_results[\"corps_manquant_1b_pct\"]= df_results.corps_manquant_1b*100/df_results.total_item"
   ]
  },
  {
   "cell_type": "code",
   "execution_count": null,
   "id": "dfa8492a-5f54-44df-ac75-67b75ade86bf",
   "metadata": {},
   "outputs": [],
   "source": [
    "sns.displot(df_results[[\"corps_manquant_1a_pct\",\"corps_manquant_1b_pct\"]],kde=True)"
   ]
  },
  {
   "cell_type": "code",
   "execution_count": null,
   "id": "23c11beb-579a-4ae5-acf5-2ad2f0a753fb",
   "metadata": {},
   "outputs": [],
   "source": [
    "df_results[\"total_item\"]"
   ]
  },
  {
   "cell_type": "code",
   "execution_count": null,
   "id": "27e7a4da-2c19-4c04-85b1-47efd967b37d",
   "metadata": {},
   "outputs": [],
   "source": [
    "sns.displot(df_results[df_results[\"total_item\"]<40][[\"corps_manquant_1a\"]])"
   ]
  },
  {
   "cell_type": "code",
   "execution_count": null,
   "id": "4ad43ccc-0e6a-43a1-b24e-19343c035845",
   "metadata": {},
   "outputs": [],
   "source": [
    "df_results[\"result_2_string\"]=df_results[[\"result_2\"]].apply(lambda x: \"\\n\".join(x.values[0]),axis=1)"
   ]
  },
  {
   "cell_type": "code",
   "execution_count": null,
   "id": "0ce1f20d-4b62-415d-a638-f730bade05a7",
   "metadata": {},
   "outputs": [],
   "source": [
    "df_results[[\"corps_manquant_2\",\"total_item\"]]=df_results[[\"corps_label\",\"result_2_string\"]].apply(lambda x: compare_deux_chaines_corps_compte_manquant_label(*x),axis=1, result_type=\"expand\")\n",
    "df_results[\"corps_manquant_2_pct\"]= df_results.corps_manquant_2*100/df_results.total_item"
   ]
  },
  {
   "cell_type": "code",
   "execution_count": null,
   "id": "464f2833-f728-4f28-94e2-74a85ce2dd8e",
   "metadata": {},
   "outputs": [],
   "source": [
    "sns.displot(df_results[[\"corps_manquant_2_pct\"]],kde=True)"
   ]
  },
  {
   "cell_type": "code",
   "execution_count": null,
   "id": "bdb92ba8-5c69-4f22-ac52-0527e479d4e8",
   "metadata": {},
   "outputs": [],
   "source": [
    "sns.displot(df_results[[\"corps_manquant_2\"]],kde=True)"
   ]
  }
 ],
 "metadata": {
  "kernelspec": {
   "display_name": "Python 3 (ipykernel)",
   "language": "python",
   "name": "python3"
  },
  "language_info": {
   "codemirror_mode": {
    "name": "ipython",
    "version": 3
   },
   "file_extension": ".py",
   "mimetype": "text/x-python",
   "name": "python",
   "nbconvert_exporter": "python",
   "pygments_lexer": "ipython3",
   "version": "3.11.4"
  }
 },
 "nbformat": 4,
 "nbformat_minor": 5
}
