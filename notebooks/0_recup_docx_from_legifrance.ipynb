{
 "cells": [
  {
   "cell_type": "code",
   "execution_count": null,
   "metadata": {
    "tags": []
   },
   "outputs": [],
   "source": [
    "!pip install --user requests-html beautifulsoup4"
   ]
  },
  {
   "cell_type": "code",
   "execution_count": null,
   "metadata": {
    "tags": []
   },
   "outputs": [],
   "source": [
    "from bs4 import BeautifulSoup\n",
    "from requests_html import HTMLSession"
   ]
  },
  {
   "cell_type": "code",
   "execution_count": null,
   "metadata": {
    "tags": []
   },
   "outputs": [],
   "source": [
    "session = HTMLSession()"
   ]
  },
  {
   "cell_type": "code",
   "execution_count": null,
   "metadata": {
    "tags": []
   },
   "outputs": [],
   "source": [
    "URL_ACCORD = \"https://www.legifrance.gouv.fr/acco/id/ACCOTEXT000047526337\""
   ]
  },
  {
   "cell_type": "code",
   "execution_count": null,
   "metadata": {
    "tags": []
   },
   "outputs": [],
   "source": [
    "r = session.get(URL_ACCORD)"
   ]
  },
  {
   "cell_type": "code",
   "execution_count": null,
   "metadata": {
    "tags": []
   },
   "outputs": [],
   "source": [
    "RS = \"\"\n",
    "SIRET = \"\"\n",
    "soup = BeautifulSoup(r.text, \"html.parser\")\n",
    "for c in soup.find(\"ul\", {\"class\": \"picto-list\"}).children:\n",
    "    if \"Raison sociale :\" in c.text:\n",
    "        RS = c.text.split(\" : \")[-1]\n",
    "    elif \"SIRET :\" in c.text:\n",
    "        SIRET = c.text.split(\" : \")[-1]\n",
    "dl = session.get(\n",
    "    \"https://www.legifrance.gouv.fr\" + soup.find(\"a\", {\"class\": \"doc-download\"})[\"href\"]\n",
    ")\n",
    "with open(\"{}.docx\".format(SIRET), \"wb\") as f:\n",
    "    f.write(dl.content)"
   ]
  }
 ],
 "metadata": {
  "kernelspec": {
   "display_name": "Python 3",
   "language": "python",
   "name": "python3"
  },
  "language_info": {
   "codemirror_mode": {
    "name": "ipython",
    "version": 3
   },
   "file_extension": ".py",
   "mimetype": "text/x-python",
   "name": "python",
   "nbconvert_exporter": "python",
   "pygments_lexer": "ipython3",
   "version": "3.7.0"
  }
 },
 "nbformat": 4,
 "nbformat_minor": 5
}
