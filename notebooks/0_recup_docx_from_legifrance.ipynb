{
 "cells": [
  {
   "cell_type": "code",
   "execution_count": null,
   "id": "5e2c4ef0-751b-4fc6-993b-0c30d9ce308c",
   "metadata": {},
   "outputs": [],
   "source": [
    "%pip install requests beautifulsoup4"
   ]
  },
  {
   "cell_type": "code",
   "execution_count": null,
   "id": "ca25f4cf-3cab-4215-9fc5-a56d48b7ada3",
   "metadata": {},
   "outputs": [],
   "source": [
    "from bs4 import BeautifulSoup\n",
    "import requests"
   ]
  },
  {
   "cell_type": "code",
   "execution_count": null,
   "id": "ef09ca80-895f-4ec5-bd9f-2914c130af7a",
   "metadata": {},
   "outputs": [],
   "source": [
    "URL_ACCORD = \"https://www.legifrance.gouv.fr/acco/id/ACCOTEXT000047526337\""
   ]
  },
  {
   "cell_type": "code",
   "execution_count": null,
   "id": "c0afa7b9-9aa8-41ac-87a4-027ceec4ad39",
   "metadata": {},
   "outputs": [],
   "source": [
    "r = requests.get(URL_ACCORD)"
   ]
  },
  {
   "cell_type": "code",
   "execution_count": null,
   "id": "9a8aa637-3069-40fe-adc6-bc324e4b597c",
   "metadata": {},
   "outputs": [],
   "source": [
    "RS=\"\"\n",
    "SIRET=\"\"\n",
    "\n",
    " \n",
    "\n",
    "soup = BeautifulSoup(r.text, 'html.parser')\n",
    "for c in  soup.find(\"ul\",{\"class\" :\"picto-list\"}).children:\n",
    "    if \"Raison sociale :\" in c.text:\n",
    "        RS=c.text.split(\" : \")[-1]\n",
    "    elif \"SIRET :\" in c.text:\n",
    "        SIRET=c.text.split(\" : \")[-1]\n",
    "\n",
    " \n",
    "\n",
    "dl=requests.get(\"https://www.legifrance.gouv.fr\"+soup.find(\"a\", {\"class\": \"doc-download\"})['href'])\n",
    "with open(\"{}.docx\".format(SIRET), \"wb\") as f:\n",
    "    f.write(dl.content)"
   ]
  }
 ],
 "metadata": {
  "kernelspec": {
   "display_name": "Python 3 (ipykernel)",
   "language": "python",
   "name": "python3"
  },
  "language_info": {
   "codemirror_mode": {
    "name": "ipython",
    "version": 3
   },
   "file_extension": ".py",
   "mimetype": "text/x-python",
   "name": "python",
   "nbconvert_exporter": "python",
   "pygments_lexer": "ipython3",
   "version": "3.10.9"
  }
 },
 "nbformat": 4,
 "nbformat_minor": 5
}
