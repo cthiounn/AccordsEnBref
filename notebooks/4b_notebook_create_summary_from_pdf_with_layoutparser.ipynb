{
 "cells": [
  {
   "cell_type": "code",
   "execution_count": null,
   "id": "1adf3f87-85a0-49ce-bf4a-acf497bf769c",
   "metadata": {},
   "outputs": [],
   "source": [
    "!python -m pip install --user -r ../requirements.txt"
   ]
  },
  {
   "cell_type": "code",
   "execution_count": null,
   "id": "3db1ce41-323d-4b3e-9683-5b7ae7218df7",
   "metadata": {},
   "outputs": [],
   "source": [
    "!python -m pip install --user  opencv-python-headless"
   ]
  },
  {
   "cell_type": "code",
   "execution_count": null,
   "id": "e17f8b07-7947-4573-a01a-3c9fed191ff7",
   "metadata": {},
   "outputs": [],
   "source": [
    "!python -m pip install --user layoutparser # Install the base layoutparser library with\n",
    "!python -m pip install --user  \"layoutparser[layoutmodels]\" # Install DL layout model toolkit\n",
    "!python -m pip install --user \"layoutparser[ocr]\" # Install OCR toolkit"
   ]
  },
  {
   "cell_type": "code",
   "execution_count": null,
   "id": "f3b0b9a9-6897-4295-8552-3f7b08976c90",
   "metadata": {},
   "outputs": [],
   "source": [
    "!python -m pip install --user 'git+https://github.com/facebookresearch/detectron2.git@v0.4#egg=detectron2'"
   ]
  },
  {
   "cell_type": "markdown",
   "id": "b81f625a-960b-4be1-a706-c3c6489ef1cb",
   "metadata": {},
   "source": [
    "* restart kernel here"
   ]
  },
  {
   "cell_type": "code",
   "execution_count": null,
   "id": "24835eee-696e-41b8-9d39-1f01d6be3bc6",
   "metadata": {},
   "outputs": [],
   "source": [
    "import layoutparser as lp\n",
    "import cv2\n",
    "import numpy as np\n",
    "import pdf2image\n",
    "import os"
   ]
  },
  {
   "cell_type": "code",
   "execution_count": null,
   "id": "c039ab71-a722-488b-a91b-0448327fa5e1",
   "metadata": {},
   "outputs": [],
   "source": [
    "PATH_OF_THE_PDF=\"./\"\n",
    "NAME_OF_THE_PDF_TO_READ=\"Accord-denteprise-ITG-DD2_0.pdf\"\n",
    "TESSERACT_LANGUAGE=\"fra\"\n",
    "SHOW_IMAGE=True\n",
    "PRINT_DETECTED_TITLE=False"
   ]
  },
  {
   "cell_type": "code",
   "execution_count": null,
   "id": "07028569-91fd-482e-a416-3e95aa79fb2d",
   "metadata": {},
   "outputs": [],
   "source": [
    "def pdf_to_img(pdf_file):\n",
    "    return pdf2image.convert_from_path(\n",
    "        pdf_file, grayscale=False, thread_count=os.cpu_count()\n",
    "    )"
   ]
  },
  {
   "cell_type": "code",
   "execution_count": null,
   "id": "0f5354a2-3b79-4256-b63b-88edba9ea182",
   "metadata": {},
   "outputs": [],
   "source": [
    "all_images = pdf_to_img(PATH_OF_THE_PDF+NAME_OF_THE_PDF_TO_READ)"
   ]
  },
  {
   "cell_type": "code",
   "execution_count": null,
   "id": "4106842f-5e2f-4f29-b37d-742206c073b8",
   "metadata": {},
   "outputs": [],
   "source": [
    "model = lp.models.Detectron2LayoutModel(\n",
    "    \"lp://PubLayNet/mask_rcnn_X_101_32x8d_FPN_3x/config\",\n",
    "    extra_config=[\"MODEL.ROI_HEADS.SCORE_THRESH_TEST\", 0.5],\n",
    "    label_map={0: \"Text\", 1: \"Title\", 2: \"List\", 3: \"Table\", 4: \"Figure\"},\n",
    ")"
   ]
  },
  {
   "cell_type": "code",
   "execution_count": null,
   "id": "46c99868-8f83-4b7c-b60e-9627f251913a",
   "metadata": {},
   "outputs": [],
   "source": [
    "list_of_titles=[]"
   ]
  },
  {
   "cell_type": "code",
   "execution_count": null,
   "id": "83c686d7-3d70-428b-a74a-845fc6fc1190",
   "metadata": {},
   "outputs": [],
   "source": [
    "for one_image in all_images:\n",
    "    one_image_np = np.asarray(one_image)\n",
    "    layout = model.detect(one_image_np)\n",
    "    if SHOW_IMAGE:\n",
    "        lp.draw_box(one_image_np, layout, box_width=3, show_element_type=True).show()\n",
    "    title_blocks = lp.Layout([b for b in layout if b.type == \"Title\"])\n",
    "    ocr_agent = lp.TesseractAgent(languages=TESSERACT_LANGUAGE)\n",
    "    for block in title_blocks:\n",
    "        segment_image = block.pad(left=5, right=5, top=5, bottom=5).crop_image(one_image_np)\n",
    "        # add padding in each image segment can help\n",
    "        # improve robustness\n",
    "    \n",
    "        text = ocr_agent.detect(segment_image)\n",
    "        block.set(text=text, inplace=True)\n",
    "\n",
    "    for txt in title_blocks.get_texts():\n",
    "        list_of_titles.append(txt)\n",
    "        if PRINT_DETECTED_TITLE:\n",
    "            print(txt, end=\"\\n---\\n\")"
   ]
  },
  {
   "cell_type": "code",
   "execution_count": null,
   "id": "54e08541-b365-4645-9d19-558d3fc4a761",
   "metadata": {},
   "outputs": [],
   "source": [
    "list_of_titles"
   ]
  }
 ],
 "metadata": {
  "kernelspec": {
   "display_name": "Python 3 (ipykernel)",
   "language": "python",
   "name": "python3"
  },
  "language_info": {
   "codemirror_mode": {
    "name": "ipython",
    "version": 3
   },
   "file_extension": ".py",
   "mimetype": "text/x-python",
   "name": "python",
   "nbconvert_exporter": "python",
   "pygments_lexer": "ipython3",
   "version": "3.10.9"
  }
 },
 "nbformat": 4,
 "nbformat_minor": 5
}
