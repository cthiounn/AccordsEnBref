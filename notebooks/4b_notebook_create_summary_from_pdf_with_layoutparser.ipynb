{
 "cells": [
  {
   "cell_type": "code",
   "execution_count": null,
   "id": "1adf3f87-85a0-49ce-bf4a-acf497bf769c",
   "metadata": {},
   "outputs": [],
   "source": [
    "!python -m pip install --user -r ../requirements.txt"
   ]
  },
  {
   "cell_type": "code",
   "execution_count": null,
   "id": "3db1ce41-323d-4b3e-9683-5b7ae7218df7",
   "metadata": {},
   "outputs": [],
   "source": [
    "!python -m pip install --user  opencv-python-headless"
   ]
  },
  {
   "cell_type": "code",
   "execution_count": null,
   "id": "e17f8b07-7947-4573-a01a-3c9fed191ff7",
   "metadata": {},
   "outputs": [],
   "source": [
    "!python -m pip install --user layoutparser # Install the base layoutparser library with  \n",
    "!python -m pip install --user  \"layoutparser[layoutmodels]\" # Install DL layout model toolkit \n",
    "!python -m pip install --user \"layoutparser[ocr]\" # Install OCR toolkit"
   ]
  },
  {
   "cell_type": "code",
   "execution_count": null,
   "id": "f3b0b9a9-6897-4295-8552-3f7b08976c90",
   "metadata": {},
   "outputs": [],
   "source": [
    "!python -m pip install --user 'git+https://github.com/facebookresearch/detectron2.git@v0.4#egg=detectron2'"
   ]
  },
  {
   "cell_type": "code",
   "execution_count": null,
   "id": "24835eee-696e-41b8-9d39-1f01d6be3bc6",
   "metadata": {},
   "outputs": [],
   "source": [
    "import layoutparser as lp\n",
    "import cv2\n",
    "import numpy as np\n",
    "import pdf2image\n",
    "import os"
   ]
  },
  {
   "cell_type": "code",
   "execution_count": null,
   "id": "07028569-91fd-482e-a416-3e95aa79fb2d",
   "metadata": {},
   "outputs": [],
   "source": [
    "def pdf_to_img(pdf_file):\n",
    "    return pdf2image.convert_from_path(pdf_file,\n",
    "        grayscale=False,thread_count=os.cpu_count())"
   ]
  },
  {
   "cell_type": "code",
   "execution_count": null,
   "id": "0f5354a2-3b79-4256-b63b-88edba9ea182",
   "metadata": {},
   "outputs": [],
   "source": [
    "img = pdf_to_img(\"Liste_admissibilite_admn_ext_2023_public.pdf\")"
   ]
  },
  {
   "cell_type": "code",
   "execution_count": null,
   "id": "4106842f-5e2f-4f29-b37d-742206c073b8",
   "metadata": {},
   "outputs": [],
   "source": [
    "model = lp.models.Detectron2LayoutModel('lp://PubLayNet/mask_rcnn_X_101_32x8d_FPN_3x/config',\n",
    "                                 extra_config=[\"MODEL.ROI_HEADS.SCORE_THRESH_TEST\", 0.5],\n",
    "                                 label_map={0: \"Text\", 1: \"Title\", 2: \"List\", \n",
    "                                 3:\"Table\",4:\"Figure\"})"
   ]
  },
  {
   "cell_type": "code",
   "execution_count": null,
   "id": "54e08541-b365-4645-9d19-558d3fc4a761",
   "metadata": {},
   "outputs": [],
   "source": [
    "mynumpyarray=np.asarray(img[0])\n",
    "layout = model.detect(mynumpyarray)"
   ]
  },
  {
   "cell_type": "code",
   "execution_count": null,
   "id": "860cf068-5ea8-4b30-9a53-544bc1cc7f85",
   "metadata": {},
   "outputs": [],
   "source": [
    "lp.draw_box(mynumpyarray, layout, box_width=3)\n"
   ]
  },
  {
   "cell_type": "code",
   "execution_count": null,
   "id": "07638905-e4ce-407b-a280-04f6831cf125",
   "metadata": {},
   "outputs": [],
   "source": [
    "title_blocks = lp.Layout([b for b in layout if b.type=='Title'])"
   ]
  },
  {
   "cell_type": "code",
   "execution_count": null,
   "id": "5628c000-575e-4fb2-bd6c-cacee29ebc32",
   "metadata": {},
   "outputs": [],
   "source": [
    "title_blocks"
   ]
  },
  {
   "cell_type": "code",
   "execution_count": null,
   "id": "507b097a-3636-4ff4-8daa-d19642355ae1",
   "metadata": {},
   "outputs": [],
   "source": [
    "ocr_agent = lp.TesseractAgent(languages='fra') "
   ]
  },
  {
   "cell_type": "code",
   "execution_count": null,
   "id": "c7d266fd-b449-4179-a453-00ae5891720f",
   "metadata": {},
   "outputs": [],
   "source": [
    "for block in title_blocks:\n",
    "    segment_image = (block\n",
    "                       .pad(left=5, right=5, top=5, bottom=5)\n",
    "                       .crop_image(mynumpyarray))\n",
    "        # add padding in each image segment can help\n",
    "        # improve robustness \n",
    "        \n",
    "    text = ocr_agent.detect(segment_image)\n",
    "    block.set(text=text, inplace=True)"
   ]
  },
  {
   "cell_type": "code",
   "execution_count": null,
   "id": "ad85e220-62ac-446d-a72e-bfd0a0af8f3a",
   "metadata": {},
   "outputs": [],
   "source": [
    "for txt in title_blocks.get_texts():\n",
    "    print(txt, end='\\n---\\n')"
   ]
  }
 ],
 "metadata": {
  "kernelspec": {
   "display_name": "Python 3 (ipykernel)",
   "language": "python",
   "name": "python3"
  },
  "language_info": {
   "codemirror_mode": {
    "name": "ipython",
    "version": 3
   },
   "file_extension": ".py",
   "mimetype": "text/x-python",
   "name": "python",
   "nbconvert_exporter": "python",
   "pygments_lexer": "ipython3",
   "version": "3.10.9"
  }
 },
 "nbformat": 4,
 "nbformat_minor": 5
}
