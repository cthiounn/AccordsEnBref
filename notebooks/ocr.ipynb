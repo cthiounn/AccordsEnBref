{
 "cells": [
  {
   "cell_type": "code",
   "execution_count": null,
   "id": "7bce45a0-c61b-4c9f-a19f-e1da5df6806f",
   "metadata": {},
   "outputs": [],
   "source": [
    "!python -m pip install -r ../requirements.txt"
   ]
  },
  {
   "cell_type": "code",
   "execution_count": null,
   "id": "2ddf9677-33ff-4ba2-a140-647998119fbf",
   "metadata": {},
   "outputs": [],
   "source": [
    "!pip install opencv-python-headless matplotlib"
   ]
  },
  {
   "cell_type": "code",
   "execution_count": null,
   "id": "43922c60-a8c2-4400-b3d5-b8cc346b5e8b",
   "metadata": {},
   "outputs": [],
   "source": [
    "!sudo apt install -y libgtk2.0-dev pkg-config"
   ]
  },
  {
   "cell_type": "code",
   "execution_count": null,
   "id": "bf816dd2-f11f-45ee-bd6d-d3fd25ba6cdf",
   "metadata": {},
   "outputs": [],
   "source": [
    "import pytesseract\n",
    "from pytesseract import Output\n",
    "import cv2\n",
    "img = cv2.imread('test.jpg')\n",
    "\n",
    "d = pytesseract.image_to_data(img, output_type=Output.DICT)\n",
    "n_boxes = len(d['level'])\n",
    "for i in range(n_boxes):\n",
    "    (x, y, w, h) = (d['left'][i], d['top'][i], d['width'][i], d['height'][i])\n",
    "    cv2.rectangle(img, (x, y), (x + w, y + h), (0, 255, 0), 2)\n"
   ]
  },
  {
   "cell_type": "code",
   "execution_count": null,
   "id": "c2ad95df-c043-4f85-b288-e97a987640c7",
   "metadata": {},
   "outputs": [],
   "source": [
    "import matplotlib.pyplot as plt\n",
    "\n",
    "plt.imshow(img)\n",
    "plt.show()"
   ]
  },
  {
   "cell_type": "code",
   "execution_count": null,
   "id": "82fc0ae4-277b-4a7b-9829-29f8a5d404f0",
   "metadata": {},
   "outputs": [],
   "source": [
    "d['text']"
   ]
  }
 ],
 "metadata": {
  "kernelspec": {
   "display_name": "Python 3 (ipykernel)",
   "language": "python",
   "name": "python3"
  },
  "language_info": {
   "codemirror_mode": {
    "name": "ipython",
    "version": 3
   },
   "file_extension": ".py",
   "mimetype": "text/x-python",
   "name": "python",
   "nbconvert_exporter": "python",
   "pygments_lexer": "ipython3",
   "version": "3.10.9"
  }
 },
 "nbformat": 4,
 "nbformat_minor": 5
}
