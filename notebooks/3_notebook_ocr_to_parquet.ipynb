{
 "cells": [
  {
   "cell_type": "code",
   "execution_count": null,
   "id": "102d7e86-d069-46d3-9c0f-ed667eea3e4d",
   "metadata": {},
   "outputs": [],
   "source": [
    "!pip install --user pyarrow"
   ]
  },
  {
   "cell_type": "code",
   "execution_count": null,
   "id": "aaef4b3d-7a78-49fe-9688-0d99d0e68336",
   "metadata": {},
   "outputs": [],
   "source": [
    "import pandas as pd\n",
    "import os"
   ]
  },
  {
   "cell_type": "code",
   "execution_count": null,
   "id": "08b9a718-c1e0-421d-ae6b-9f07ca2510ad",
   "metadata": {},
   "outputs": [],
   "source": [
    "DIR_OCR = \"./\"\n",
    "OUTPUT_FILE_PARQUET = \"my_file.parquet\""
   ]
  },
  {
   "cell_type": "code",
   "execution_count": null,
   "id": "ae758b7e-cf13-4f4c-bc3c-244efbc1daaf",
   "metadata": {},
   "outputs": [],
   "source": [
    "df = pd.DataFrame(columns=[\"num_dossier\", \"ocr_text_1\", \"ocr_text_2\"])\n",
    "for i, num_dossier in enumerate(\n",
    "    {file_name[:12] for file_name in os.listdir(DIR_OCR) if \".txt\" in file_name}\n",
    "):\n",
    "    print(f\"processing {num_dossier}\")\n",
    "    all_ocr_files_for_num_dossier = sorted(\n",
    "        [\n",
    "            file_name\n",
    "            for file_name in os.listdir(DIR_OCR)\n",
    "            if file_name.endswith(\".txt\") and file_name.startswith(num_dossier)\n",
    "        ],\n",
    "        key=os.path.getsize,\n",
    "        reverse=True,\n",
    "    )\n",
    "\n",
    "    new_line = [num_dossier] + [\n",
    "        \"\".join(open(file, \"r\").readlines()) for file in all_ocr_files_for_num_dossier\n",
    "    ]\n",
    "    new_line = new_line[:3] if len(new_line) >= 3 else new_line + [\"\"]\n",
    "    new_line = {\n",
    "        \"num_dossier\": new_line[0],\n",
    "        \"ocr_text_1\": new_line[1],\n",
    "        \"ocr_text_2\": new_line[2],\n",
    "    }\n",
    "    df_new_row = pd.DataFrame(\n",
    "        new_line, columns=[\"num_dossier\", \"ocr_text_1\", \"ocr_text_2\"], index=[i]\n",
    "    )\n",
    "    df = pd.concat([df, df_new_row])"
   ]
  },
  {
   "cell_type": "code",
   "execution_count": null,
   "id": "75488b74-f28f-4cbd-91b7-0ab8d01c3bf0",
   "metadata": {},
   "outputs": [],
   "source": [
    "df.to_parquet(OUTPUT_FILE_PARQUET)"
   ]
  }
 ],
 "metadata": {
  "kernelspec": {
   "display_name": "Python 3 (ipykernel)",
   "language": "python",
   "name": "python3"
  },
  "language_info": {
   "codemirror_mode": {
    "name": "ipython",
    "version": 3
   },
   "file_extension": ".py",
   "mimetype": "text/x-python",
   "name": "python",
   "nbconvert_exporter": "python",
   "pygments_lexer": "ipython3",
   "version": "3.10.9"
  }
 },
 "nbformat": 4,
 "nbformat_minor": 5
}
