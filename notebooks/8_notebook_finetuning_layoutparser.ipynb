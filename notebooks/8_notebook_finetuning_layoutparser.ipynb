{
 "cells": [
  {
   "cell_type": "code",
   "execution_count": null,
   "id": "5ac26464-08f1-492a-9435-4a8720d68f4c",
   "metadata": {},
   "outputs": [],
   "source": [
    "#!pip install fiftyone"
   ]
  },
  {
   "cell_type": "code",
   "execution_count": null,
   "id": "36552741-d502-4e5d-be46-745981188ba2",
   "metadata": {},
   "outputs": [],
   "source": [
    "!pip install pycocotools"
   ]
  },
  {
   "cell_type": "code",
   "execution_count": null,
   "id": "fa6de3f0-19c8-48ea-b662-c73e7cc3ecc0",
   "metadata": {},
   "outputs": [],
   "source": [
    "!python -m pip install --user  opencv-python-headless\n"
   ]
  },
  {
   "cell_type": "code",
   "execution_count": null,
   "id": "56b7d4fd-6e16-45f1-8ca5-fb803fd3c17b",
   "metadata": {},
   "outputs": [],
   "source": [
    "!python -m pip install --user layoutparser # Install the base layoutparser library with\n",
    "!python -m pip install --user  \"layoutparser[layoutmodels]\" # Install DL layout model toolkit\n",
    "!python -m pip install --user \"layoutparser[ocr]\" # Install OCR toolkit"
   ]
  },
  {
   "cell_type": "code",
   "execution_count": null,
   "id": "2f655e7a-1159-4037-9650-3694caf180ad",
   "metadata": {},
   "outputs": [],
   "source": [
    "!sudo apt-get update\n",
    "!sudo apt install --yes libgl1 libgl1-mesa-glx libglib2.0-0"
   ]
  },
  {
   "cell_type": "code",
   "execution_count": null,
   "id": "d6b27209-b117-4bf0-bf8d-8557e373f7ca",
   "metadata": {},
   "outputs": [],
   "source": [
    "\n",
    "# The directory containing the source images\n",
    "data_path = \"./work/images/\"\n",
    "\n",
    "# The path to the COCO labels JSON file\n",
    "labels_path = \"result_json.json\"\n",
    "\n"
   ]
  },
  {
   "cell_type": "code",
   "execution_count": null,
   "id": "357ba961-7a4c-4edb-a87b-ad47c2951570",
   "metadata": {},
   "outputs": [],
   "source": [
    "#import fiftyone as fo\n",
    "# Import the dataset\n",
    "#dataset = fo.Dataset.from_dir(\n",
    "#    dataset_type=fo.types.COCODetectionDataset,\n",
    "#    data_path=data_path,\n",
    "#    labels_path=labels_path,\n",
    "#)"
   ]
  },
  {
   "cell_type": "code",
   "execution_count": null,
   "id": "f06a6dae-9307-45d2-8e16-36f5e5dd8fac",
   "metadata": {},
   "outputs": [],
   "source": [
    "# From  https://github.com/Layout-Parser/layout-parser/blob/main/examples/Customizing%20Layout%20Models%20with%20Label%20Studio%20Annotation/Customizing%20Layout%20Models%20with%20Label%20Studio%20Annotation.ipynb\n",
    "\n",
    "from pycocotools.coco import COCO\n",
    "import layoutparser as lp\n",
    "import random\n",
    "import cv2\n",
    "\n",
    "def load_coco_annotations(annotations, coco=None):\n",
    "    \"\"\"\n",
    "    Args:\n",
    "        annotations (List):\n",
    "            a list of coco annotaions for the current image\n",
    "        coco (`optional`, defaults to `False`):\n",
    "            COCO annotation object instance. If set, this function will\n",
    "            convert the loaded annotation category ids to category names\n",
    "            set in COCO.categories\n",
    "    \"\"\"\n",
    "    layout = lp.Layout()\n",
    "\n",
    "    for ele in annotations:\n",
    "\n",
    "        x, y, w, h = ele['bbox']\n",
    "\n",
    "        layout.append(\n",
    "            lp.TextBlock(\n",
    "                block = lp.Rectangle(x, y, w+x, h+y),\n",
    "                type  = ele['category_id'] if coco is None else coco.cats[ele['category_id']]['name'],\n",
    "                id = ele['id']\n",
    "            )\n",
    "        )\n",
    "\n",
    "    return layout"
   ]
  },
  {
   "cell_type": "code",
   "execution_count": null,
   "id": "aa6e984a-4f7e-4c8b-9273-4e4b004bca2d",
   "metadata": {},
   "outputs": [],
   "source": [
    "COCO_ANNO_PATH = labels_path\n",
    "COCO_IMG_PATH  = data_path\n",
    "\n",
    "coco = COCO(COCO_ANNO_PATH)"
   ]
  },
  {
   "cell_type": "code",
   "execution_count": null,
   "id": "03fa708e-bf4a-458f-be33-7f8b3d9685be",
   "metadata": {},
   "outputs": [],
   "source": [
    "for image_id in random.sample(list(coco.imgs.keys()), 2):\n",
    "    image_info = coco.imgs[image_id]\n",
    "    annotations = coco.loadAnns(coco.getAnnIds([image_id]))\n",
    "\n",
    "    image = cv2.imread(f'{COCO_IMG_PATH}/{image_info[\"file_name\"]}')\n",
    "    layout = load_coco_annotations(annotations, coco)\n",
    "\n",
    "    viz = lp.draw_box(image[...,::-1], layout)\n",
    "    display(viz) # show the results"
   ]
  }
 ],
 "metadata": {
  "kernelspec": {
   "display_name": "Python 3 (ipykernel)",
   "language": "python",
   "name": "python3"
  },
  "language_info": {
   "codemirror_mode": {
    "name": "ipython",
    "version": 3
   },
   "file_extension": ".py",
   "mimetype": "text/x-python",
   "name": "python",
   "nbconvert_exporter": "python",
   "pygments_lexer": "ipython3",
   "version": "3.11.4"
  }
 },
 "nbformat": 4,
 "nbformat_minor": 5
}
